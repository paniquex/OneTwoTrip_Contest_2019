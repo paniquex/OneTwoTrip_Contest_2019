{
 "cells": [
  {
   "cell_type": "markdown",
   "metadata": {},
   "source": [
    "Competition: https://boosters.pro/championship/onetwotrip_challenge/overview\n",
    "    \n",
    "\n",
    "Solution was based on Alexander's Dyakonov (www.dyakonov.org/ag/) public benchmark - \n",
    "\n",
    "https://github.com/Dyakonov/notebooks/blob/master/dj_Benchmark_12trip.ipynb\n"
   ]
  },
  {
   "cell_type": "code",
   "execution_count": 2,
   "metadata": {},
   "outputs": [
    {
     "name": "stdout",
     "output_type": "stream",
     "text": [
      "Populating the interactive namespace from numpy and matplotlib\n"
     ]
    }
   ],
   "source": [
    "import pandas as pd\n",
    "import numpy as np\n",
    "# для встроенных картинок\n",
    "%pylab inline\n",
    "\n",
    "import warnings\n",
    "warnings.filterwarnings('ignore')\n",
    "# progress-bar\n",
    "from tqdm import tqdm, tqdm_notebook"
   ]
  },
  {
   "cell_type": "code",
   "execution_count": 4,
   "metadata": {},
   "outputs": [],
   "source": [
    "## Use pseudolabeling or not:\n",
    "USE_PSEUDOLABELING = False\n",
    "\n",
    "## if True, then use probabilities as pseudolabels\n",
    "## if False, then use integer labels as pseudolabels\n",
    "USE_SOFTLABELS = False"
   ]
  },
  {
   "cell_type": "markdown",
   "metadata": {},
   "source": [
    "## Data loading"
   ]
  },
  {
   "cell_type": "code",
   "execution_count": 6,
   "metadata": {},
   "outputs": [
    {
     "name": "stdout",
     "output_type": "stream",
     "text": [
      "Sizes: (196056, 43) (455011, 37)\n"
     ]
    }
   ],
   "source": [
    "data_train = pd.read_csv('../data/onetwotrip_challenge_train.csv')\n",
    "data_test = pd.read_csv('../data/onetwotrip_challenge_test.csv')\n",
    "print ('Sizes:', data_train.shape, data_test.shape)"
   ]
  },
  {
   "cell_type": "markdown",
   "metadata": {},
   "source": [
    "## Some statistics for data:"
   ]
  },
  {
   "cell_type": "code",
   "execution_count": 10,
   "metadata": {
    "scrolled": true
   },
   "outputs": [
    {
     "data": {
      "text/html": [
       "<div>\n",
       "<style scoped>\n",
       "    .dataframe tbody tr th:only-of-type {\n",
       "        vertical-align: middle;\n",
       "    }\n",
       "\n",
       "    .dataframe tbody tr th {\n",
       "        vertical-align: top;\n",
       "    }\n",
       "\n",
       "    .dataframe thead th {\n",
       "        text-align: right;\n",
       "    }\n",
       "</style>\n",
       "<table border=\"1\" class=\"dataframe\">\n",
       "  <thead>\n",
       "    <tr style=\"text-align: right;\">\n",
       "      <th></th>\n",
       "      <th>orderid</th>\n",
       "      <th>field0</th>\n",
       "      <th>field1</th>\n",
       "      <th>field2</th>\n",
       "      <th>field3</th>\n",
       "      <th>field4</th>\n",
       "      <th>field5</th>\n",
       "      <th>field6</th>\n",
       "      <th>field7</th>\n",
       "      <th>field8</th>\n",
       "      <th>...</th>\n",
       "      <th>indicator_goal22</th>\n",
       "      <th>indicator_goal23</th>\n",
       "      <th>indicator_goal24</th>\n",
       "      <th>indicator_goal25</th>\n",
       "      <th>goal21</th>\n",
       "      <th>goal22</th>\n",
       "      <th>goal23</th>\n",
       "      <th>goal24</th>\n",
       "      <th>goal25</th>\n",
       "      <th>goal1</th>\n",
       "    </tr>\n",
       "  </thead>\n",
       "  <tbody>\n",
       "    <tr>\n",
       "      <th>count</th>\n",
       "      <td>196056.000000</td>\n",
       "      <td>196056.000000</td>\n",
       "      <td>196056.000000</td>\n",
       "      <td>196056.000000</td>\n",
       "      <td>196056.000000</td>\n",
       "      <td>196056.000000</td>\n",
       "      <td>196056.000000</td>\n",
       "      <td>196056.000000</td>\n",
       "      <td>196056.000000</td>\n",
       "      <td>196056.000000</td>\n",
       "      <td>...</td>\n",
       "      <td>196056.000000</td>\n",
       "      <td>196056.000000</td>\n",
       "      <td>196056.000000</td>\n",
       "      <td>196056.000000</td>\n",
       "      <td>196056.000000</td>\n",
       "      <td>196056.000000</td>\n",
       "      <td>196056.000000</td>\n",
       "      <td>196056.000000</td>\n",
       "      <td>196056.000000</td>\n",
       "      <td>196056.000000</td>\n",
       "    </tr>\n",
       "    <tr>\n",
       "      <th>mean</th>\n",
       "      <td>98027.500000</td>\n",
       "      <td>28.413163</td>\n",
       "      <td>0.000912</td>\n",
       "      <td>7.980363</td>\n",
       "      <td>7.867864</td>\n",
       "      <td>3.528966</td>\n",
       "      <td>0.556214</td>\n",
       "      <td>1.577911</td>\n",
       "      <td>1.265292</td>\n",
       "      <td>0.879366</td>\n",
       "      <td>...</td>\n",
       "      <td>0.979649</td>\n",
       "      <td>0.348676</td>\n",
       "      <td>0.645754</td>\n",
       "      <td>0.647687</td>\n",
       "      <td>0.036627</td>\n",
       "      <td>0.168579</td>\n",
       "      <td>0.038713</td>\n",
       "      <td>0.022519</td>\n",
       "      <td>0.015098</td>\n",
       "      <td>0.022142</td>\n",
       "    </tr>\n",
       "    <tr>\n",
       "      <th>std</th>\n",
       "      <td>56596.636526</td>\n",
       "      <td>69.603944</td>\n",
       "      <td>1.009651</td>\n",
       "      <td>2.757008</td>\n",
       "      <td>3.013659</td>\n",
       "      <td>12.692057</td>\n",
       "      <td>0.496831</td>\n",
       "      <td>5.614900</td>\n",
       "      <td>0.441489</td>\n",
       "      <td>0.325702</td>\n",
       "      <td>...</td>\n",
       "      <td>0.141199</td>\n",
       "      <td>0.476552</td>\n",
       "      <td>0.478285</td>\n",
       "      <td>0.477692</td>\n",
       "      <td>0.187845</td>\n",
       "      <td>0.374381</td>\n",
       "      <td>0.192912</td>\n",
       "      <td>0.148365</td>\n",
       "      <td>0.121942</td>\n",
       "      <td>0.147144</td>\n",
       "    </tr>\n",
       "    <tr>\n",
       "      <th>min</th>\n",
       "      <td>0.000000</td>\n",
       "      <td>0.000000</td>\n",
       "      <td>-0.859222</td>\n",
       "      <td>1.000000</td>\n",
       "      <td>1.000000</td>\n",
       "      <td>1.000000</td>\n",
       "      <td>0.000000</td>\n",
       "      <td>0.000000</td>\n",
       "      <td>1.000000</td>\n",
       "      <td>0.000000</td>\n",
       "      <td>...</td>\n",
       "      <td>0.000000</td>\n",
       "      <td>0.000000</td>\n",
       "      <td>0.000000</td>\n",
       "      <td>0.000000</td>\n",
       "      <td>0.000000</td>\n",
       "      <td>0.000000</td>\n",
       "      <td>0.000000</td>\n",
       "      <td>0.000000</td>\n",
       "      <td>0.000000</td>\n",
       "      <td>0.000000</td>\n",
       "    </tr>\n",
       "    <tr>\n",
       "      <th>25%</th>\n",
       "      <td>49013.750000</td>\n",
       "      <td>0.000000</td>\n",
       "      <td>-0.471365</td>\n",
       "      <td>6.000000</td>\n",
       "      <td>6.000000</td>\n",
       "      <td>1.000000</td>\n",
       "      <td>0.000000</td>\n",
       "      <td>0.000000</td>\n",
       "      <td>1.000000</td>\n",
       "      <td>1.000000</td>\n",
       "      <td>...</td>\n",
       "      <td>1.000000</td>\n",
       "      <td>0.000000</td>\n",
       "      <td>0.000000</td>\n",
       "      <td>0.000000</td>\n",
       "      <td>0.000000</td>\n",
       "      <td>0.000000</td>\n",
       "      <td>0.000000</td>\n",
       "      <td>0.000000</td>\n",
       "      <td>0.000000</td>\n",
       "      <td>0.000000</td>\n",
       "    </tr>\n",
       "    <tr>\n",
       "      <th>50%</th>\n",
       "      <td>98027.500000</td>\n",
       "      <td>0.000000</td>\n",
       "      <td>-0.238651</td>\n",
       "      <td>8.000000</td>\n",
       "      <td>8.000000</td>\n",
       "      <td>1.000000</td>\n",
       "      <td>1.000000</td>\n",
       "      <td>0.000000</td>\n",
       "      <td>1.000000</td>\n",
       "      <td>1.000000</td>\n",
       "      <td>...</td>\n",
       "      <td>1.000000</td>\n",
       "      <td>0.000000</td>\n",
       "      <td>1.000000</td>\n",
       "      <td>1.000000</td>\n",
       "      <td>0.000000</td>\n",
       "      <td>0.000000</td>\n",
       "      <td>0.000000</td>\n",
       "      <td>0.000000</td>\n",
       "      <td>0.000000</td>\n",
       "      <td>0.000000</td>\n",
       "    </tr>\n",
       "    <tr>\n",
       "      <th>75%</th>\n",
       "      <td>147041.250000</td>\n",
       "      <td>13.000000</td>\n",
       "      <td>0.149205</td>\n",
       "      <td>10.000000</td>\n",
       "      <td>10.000000</td>\n",
       "      <td>2.000000</td>\n",
       "      <td>1.000000</td>\n",
       "      <td>0.000000</td>\n",
       "      <td>2.000000</td>\n",
       "      <td>1.000000</td>\n",
       "      <td>...</td>\n",
       "      <td>1.000000</td>\n",
       "      <td>1.000000</td>\n",
       "      <td>1.000000</td>\n",
       "      <td>1.000000</td>\n",
       "      <td>0.000000</td>\n",
       "      <td>0.000000</td>\n",
       "      <td>0.000000</td>\n",
       "      <td>0.000000</td>\n",
       "      <td>0.000000</td>\n",
       "      <td>0.000000</td>\n",
       "    </tr>\n",
       "    <tr>\n",
       "      <th>max</th>\n",
       "      <td>196055.000000</td>\n",
       "      <td>500.000000</td>\n",
       "      <td>82.142134</td>\n",
       "      <td>12.000000</td>\n",
       "      <td>12.000000</td>\n",
       "      <td>363.000000</td>\n",
       "      <td>1.000000</td>\n",
       "      <td>323.000000</td>\n",
       "      <td>2.000000</td>\n",
       "      <td>1.000000</td>\n",
       "      <td>...</td>\n",
       "      <td>1.000000</td>\n",
       "      <td>1.000000</td>\n",
       "      <td>1.000000</td>\n",
       "      <td>1.000000</td>\n",
       "      <td>1.000000</td>\n",
       "      <td>1.000000</td>\n",
       "      <td>1.000000</td>\n",
       "      <td>1.000000</td>\n",
       "      <td>1.000000</td>\n",
       "      <td>1.000000</td>\n",
       "    </tr>\n",
       "  </tbody>\n",
       "</table>\n",
       "<p>8 rows × 42 columns</p>\n",
       "</div>"
      ],
      "text/plain": [
       "             orderid         field0         field1         field2  \\\n",
       "count  196056.000000  196056.000000  196056.000000  196056.000000   \n",
       "mean    98027.500000      28.413163       0.000912       7.980363   \n",
       "std     56596.636526      69.603944       1.009651       2.757008   \n",
       "min         0.000000       0.000000      -0.859222       1.000000   \n",
       "25%     49013.750000       0.000000      -0.471365       6.000000   \n",
       "50%     98027.500000       0.000000      -0.238651       8.000000   \n",
       "75%    147041.250000      13.000000       0.149205      10.000000   \n",
       "max    196055.000000     500.000000      82.142134      12.000000   \n",
       "\n",
       "              field3         field4         field5         field6  \\\n",
       "count  196056.000000  196056.000000  196056.000000  196056.000000   \n",
       "mean        7.867864       3.528966       0.556214       1.577911   \n",
       "std         3.013659      12.692057       0.496831       5.614900   \n",
       "min         1.000000       1.000000       0.000000       0.000000   \n",
       "25%         6.000000       1.000000       0.000000       0.000000   \n",
       "50%         8.000000       1.000000       1.000000       0.000000   \n",
       "75%        10.000000       2.000000       1.000000       0.000000   \n",
       "max        12.000000     363.000000       1.000000     323.000000   \n",
       "\n",
       "              field7         field8  ...  indicator_goal22  indicator_goal23  \\\n",
       "count  196056.000000  196056.000000  ...     196056.000000     196056.000000   \n",
       "mean        1.265292       0.879366  ...          0.979649          0.348676   \n",
       "std         0.441489       0.325702  ...          0.141199          0.476552   \n",
       "min         1.000000       0.000000  ...          0.000000          0.000000   \n",
       "25%         1.000000       1.000000  ...          1.000000          0.000000   \n",
       "50%         1.000000       1.000000  ...          1.000000          0.000000   \n",
       "75%         2.000000       1.000000  ...          1.000000          1.000000   \n",
       "max         2.000000       1.000000  ...          1.000000          1.000000   \n",
       "\n",
       "       indicator_goal24  indicator_goal25         goal21         goal22  \\\n",
       "count     196056.000000     196056.000000  196056.000000  196056.000000   \n",
       "mean           0.645754          0.647687       0.036627       0.168579   \n",
       "std            0.478285          0.477692       0.187845       0.374381   \n",
       "min            0.000000          0.000000       0.000000       0.000000   \n",
       "25%            0.000000          0.000000       0.000000       0.000000   \n",
       "50%            1.000000          1.000000       0.000000       0.000000   \n",
       "75%            1.000000          1.000000       0.000000       0.000000   \n",
       "max            1.000000          1.000000       1.000000       1.000000   \n",
       "\n",
       "              goal23         goal24         goal25          goal1  \n",
       "count  196056.000000  196056.000000  196056.000000  196056.000000  \n",
       "mean        0.038713       0.022519       0.015098       0.022142  \n",
       "std         0.192912       0.148365       0.121942       0.147144  \n",
       "min         0.000000       0.000000       0.000000       0.000000  \n",
       "25%         0.000000       0.000000       0.000000       0.000000  \n",
       "50%         0.000000       0.000000       0.000000       0.000000  \n",
       "75%         0.000000       0.000000       0.000000       0.000000  \n",
       "max         1.000000       1.000000       1.000000       1.000000  \n",
       "\n",
       "[8 rows x 42 columns]"
      ]
     },
     "execution_count": 10,
     "metadata": {},
     "output_type": "execute_result"
    }
   ],
   "source": [
    "data_train.describe()"
   ]
  },
  {
   "cell_type": "code",
   "execution_count": 11,
   "metadata": {},
   "outputs": [
    {
     "data": {
      "text/html": [
       "<div>\n",
       "<style scoped>\n",
       "    .dataframe tbody tr th:only-of-type {\n",
       "        vertical-align: middle;\n",
       "    }\n",
       "\n",
       "    .dataframe tbody tr th {\n",
       "        vertical-align: top;\n",
       "    }\n",
       "\n",
       "    .dataframe thead th {\n",
       "        text-align: right;\n",
       "    }\n",
       "</style>\n",
       "<table border=\"1\" class=\"dataframe\">\n",
       "  <thead>\n",
       "    <tr style=\"text-align: right;\">\n",
       "      <th></th>\n",
       "      <th>orderid</th>\n",
       "      <th>field0</th>\n",
       "      <th>field1</th>\n",
       "      <th>field2</th>\n",
       "      <th>field3</th>\n",
       "      <th>field4</th>\n",
       "      <th>field5</th>\n",
       "      <th>field6</th>\n",
       "      <th>field7</th>\n",
       "      <th>field8</th>\n",
       "      <th>...</th>\n",
       "      <th>field25</th>\n",
       "      <th>field26</th>\n",
       "      <th>field27</th>\n",
       "      <th>field28</th>\n",
       "      <th>field29</th>\n",
       "      <th>indicator_goal21</th>\n",
       "      <th>indicator_goal22</th>\n",
       "      <th>indicator_goal23</th>\n",
       "      <th>indicator_goal24</th>\n",
       "      <th>indicator_goal25</th>\n",
       "    </tr>\n",
       "  </thead>\n",
       "  <tbody>\n",
       "    <tr>\n",
       "      <th>count</th>\n",
       "      <td>455011.000000</td>\n",
       "      <td>455011.000000</td>\n",
       "      <td>455011.000000</td>\n",
       "      <td>455011.000000</td>\n",
       "      <td>455011.000000</td>\n",
       "      <td>455011.000000</td>\n",
       "      <td>455011.000000</td>\n",
       "      <td>455011.000000</td>\n",
       "      <td>455011.000000</td>\n",
       "      <td>455011.000000</td>\n",
       "      <td>...</td>\n",
       "      <td>455011.000000</td>\n",
       "      <td>455011.000000</td>\n",
       "      <td>455011.000000</td>\n",
       "      <td>455011.000000</td>\n",
       "      <td>455011.000000</td>\n",
       "      <td>455011.000000</td>\n",
       "      <td>455011.000000</td>\n",
       "      <td>455011.000000</td>\n",
       "      <td>455011.000000</td>\n",
       "      <td>455011.000000</td>\n",
       "    </tr>\n",
       "    <tr>\n",
       "      <th>mean</th>\n",
       "      <td>227505.000000</td>\n",
       "      <td>28.415856</td>\n",
       "      <td>-0.000393</td>\n",
       "      <td>7.977884</td>\n",
       "      <td>7.867955</td>\n",
       "      <td>3.841116</td>\n",
       "      <td>0.556870</td>\n",
       "      <td>1.576944</td>\n",
       "      <td>1.262954</td>\n",
       "      <td>0.880027</td>\n",
       "      <td>...</td>\n",
       "      <td>4.859056</td>\n",
       "      <td>3.909336</td>\n",
       "      <td>1.754037</td>\n",
       "      <td>0.087103</td>\n",
       "      <td>2.979961</td>\n",
       "      <td>0.994994</td>\n",
       "      <td>0.979809</td>\n",
       "      <td>0.348244</td>\n",
       "      <td>0.645015</td>\n",
       "      <td>0.648055</td>\n",
       "    </tr>\n",
       "    <tr>\n",
       "      <th>std</th>\n",
       "      <td>131350.506005</td>\n",
       "      <td>69.747405</td>\n",
       "      <td>0.995814</td>\n",
       "      <td>2.753005</td>\n",
       "      <td>3.008647</td>\n",
       "      <td>19.976318</td>\n",
       "      <td>0.496756</td>\n",
       "      <td>5.555923</td>\n",
       "      <td>0.440238</td>\n",
       "      <td>0.324930</td>\n",
       "      <td>...</td>\n",
       "      <td>11.614136</td>\n",
       "      <td>4.264455</td>\n",
       "      <td>1.381171</td>\n",
       "      <td>0.368798</td>\n",
       "      <td>0.919229</td>\n",
       "      <td>0.070579</td>\n",
       "      <td>0.140652</td>\n",
       "      <td>0.476414</td>\n",
       "      <td>0.478509</td>\n",
       "      <td>0.477578</td>\n",
       "    </tr>\n",
       "    <tr>\n",
       "      <th>min</th>\n",
       "      <td>0.000000</td>\n",
       "      <td>0.000000</td>\n",
       "      <td>-0.859222</td>\n",
       "      <td>1.000000</td>\n",
       "      <td>1.000000</td>\n",
       "      <td>1.000000</td>\n",
       "      <td>0.000000</td>\n",
       "      <td>0.000000</td>\n",
       "      <td>1.000000</td>\n",
       "      <td>0.000000</td>\n",
       "      <td>...</td>\n",
       "      <td>0.000000</td>\n",
       "      <td>1.000000</td>\n",
       "      <td>1.000000</td>\n",
       "      <td>0.000000</td>\n",
       "      <td>1.000000</td>\n",
       "      <td>0.000000</td>\n",
       "      <td>0.000000</td>\n",
       "      <td>0.000000</td>\n",
       "      <td>0.000000</td>\n",
       "      <td>0.000000</td>\n",
       "    </tr>\n",
       "    <tr>\n",
       "      <th>25%</th>\n",
       "      <td>113752.500000</td>\n",
       "      <td>0.000000</td>\n",
       "      <td>-0.471365</td>\n",
       "      <td>6.000000</td>\n",
       "      <td>6.000000</td>\n",
       "      <td>1.000000</td>\n",
       "      <td>0.000000</td>\n",
       "      <td>0.000000</td>\n",
       "      <td>1.000000</td>\n",
       "      <td>1.000000</td>\n",
       "      <td>...</td>\n",
       "      <td>1.000000</td>\n",
       "      <td>1.000000</td>\n",
       "      <td>1.000000</td>\n",
       "      <td>0.000000</td>\n",
       "      <td>2.000000</td>\n",
       "      <td>1.000000</td>\n",
       "      <td>1.000000</td>\n",
       "      <td>0.000000</td>\n",
       "      <td>0.000000</td>\n",
       "      <td>0.000000</td>\n",
       "    </tr>\n",
       "    <tr>\n",
       "      <th>50%</th>\n",
       "      <td>227505.000000</td>\n",
       "      <td>0.000000</td>\n",
       "      <td>-0.238651</td>\n",
       "      <td>8.000000</td>\n",
       "      <td>8.000000</td>\n",
       "      <td>1.000000</td>\n",
       "      <td>1.000000</td>\n",
       "      <td>0.000000</td>\n",
       "      <td>1.000000</td>\n",
       "      <td>1.000000</td>\n",
       "      <td>...</td>\n",
       "      <td>1.000000</td>\n",
       "      <td>2.000000</td>\n",
       "      <td>1.000000</td>\n",
       "      <td>0.000000</td>\n",
       "      <td>3.000000</td>\n",
       "      <td>1.000000</td>\n",
       "      <td>1.000000</td>\n",
       "      <td>0.000000</td>\n",
       "      <td>1.000000</td>\n",
       "      <td>1.000000</td>\n",
       "    </tr>\n",
       "    <tr>\n",
       "      <th>75%</th>\n",
       "      <td>341257.500000</td>\n",
       "      <td>13.000000</td>\n",
       "      <td>0.149205</td>\n",
       "      <td>10.000000</td>\n",
       "      <td>10.000000</td>\n",
       "      <td>2.000000</td>\n",
       "      <td>1.000000</td>\n",
       "      <td>0.000000</td>\n",
       "      <td>2.000000</td>\n",
       "      <td>1.000000</td>\n",
       "      <td>...</td>\n",
       "      <td>1.000000</td>\n",
       "      <td>5.000000</td>\n",
       "      <td>3.000000</td>\n",
       "      <td>0.000000</td>\n",
       "      <td>4.000000</td>\n",
       "      <td>1.000000</td>\n",
       "      <td>1.000000</td>\n",
       "      <td>1.000000</td>\n",
       "      <td>1.000000</td>\n",
       "      <td>1.000000</td>\n",
       "    </tr>\n",
       "    <tr>\n",
       "      <th>max</th>\n",
       "      <td>455010.000000</td>\n",
       "      <td>507.000000</td>\n",
       "      <td>79.271994</td>\n",
       "      <td>12.000000</td>\n",
       "      <td>12.000000</td>\n",
       "      <td>756.000000</td>\n",
       "      <td>1.000000</td>\n",
       "      <td>344.000000</td>\n",
       "      <td>2.000000</td>\n",
       "      <td>1.000000</td>\n",
       "      <td>...</td>\n",
       "      <td>193.000000</td>\n",
       "      <td>30.000000</td>\n",
       "      <td>7.000000</td>\n",
       "      <td>16.000000</td>\n",
       "      <td>4.000000</td>\n",
       "      <td>1.000000</td>\n",
       "      <td>1.000000</td>\n",
       "      <td>1.000000</td>\n",
       "      <td>1.000000</td>\n",
       "      <td>1.000000</td>\n",
       "    </tr>\n",
       "  </tbody>\n",
       "</table>\n",
       "<p>8 rows × 36 columns</p>\n",
       "</div>"
      ],
      "text/plain": [
       "             orderid         field0         field1         field2  \\\n",
       "count  455011.000000  455011.000000  455011.000000  455011.000000   \n",
       "mean   227505.000000      28.415856      -0.000393       7.977884   \n",
       "std    131350.506005      69.747405       0.995814       2.753005   \n",
       "min         0.000000       0.000000      -0.859222       1.000000   \n",
       "25%    113752.500000       0.000000      -0.471365       6.000000   \n",
       "50%    227505.000000       0.000000      -0.238651       8.000000   \n",
       "75%    341257.500000      13.000000       0.149205      10.000000   \n",
       "max    455010.000000     507.000000      79.271994      12.000000   \n",
       "\n",
       "              field3         field4         field5         field6  \\\n",
       "count  455011.000000  455011.000000  455011.000000  455011.000000   \n",
       "mean        7.867955       3.841116       0.556870       1.576944   \n",
       "std         3.008647      19.976318       0.496756       5.555923   \n",
       "min         1.000000       1.000000       0.000000       0.000000   \n",
       "25%         6.000000       1.000000       0.000000       0.000000   \n",
       "50%         8.000000       1.000000       1.000000       0.000000   \n",
       "75%        10.000000       2.000000       1.000000       0.000000   \n",
       "max        12.000000     756.000000       1.000000     344.000000   \n",
       "\n",
       "              field7         field8  ...        field25        field26  \\\n",
       "count  455011.000000  455011.000000  ...  455011.000000  455011.000000   \n",
       "mean        1.262954       0.880027  ...       4.859056       3.909336   \n",
       "std         0.440238       0.324930  ...      11.614136       4.264455   \n",
       "min         1.000000       0.000000  ...       0.000000       1.000000   \n",
       "25%         1.000000       1.000000  ...       1.000000       1.000000   \n",
       "50%         1.000000       1.000000  ...       1.000000       2.000000   \n",
       "75%         2.000000       1.000000  ...       1.000000       5.000000   \n",
       "max         2.000000       1.000000  ...     193.000000      30.000000   \n",
       "\n",
       "             field27        field28        field29  indicator_goal21  \\\n",
       "count  455011.000000  455011.000000  455011.000000     455011.000000   \n",
       "mean        1.754037       0.087103       2.979961          0.994994   \n",
       "std         1.381171       0.368798       0.919229          0.070579   \n",
       "min         1.000000       0.000000       1.000000          0.000000   \n",
       "25%         1.000000       0.000000       2.000000          1.000000   \n",
       "50%         1.000000       0.000000       3.000000          1.000000   \n",
       "75%         3.000000       0.000000       4.000000          1.000000   \n",
       "max         7.000000      16.000000       4.000000          1.000000   \n",
       "\n",
       "       indicator_goal22  indicator_goal23  indicator_goal24  indicator_goal25  \n",
       "count     455011.000000     455011.000000     455011.000000     455011.000000  \n",
       "mean           0.979809          0.348244          0.645015          0.648055  \n",
       "std            0.140652          0.476414          0.478509          0.477578  \n",
       "min            0.000000          0.000000          0.000000          0.000000  \n",
       "25%            1.000000          0.000000          0.000000          0.000000  \n",
       "50%            1.000000          0.000000          1.000000          1.000000  \n",
       "75%            1.000000          1.000000          1.000000          1.000000  \n",
       "max            1.000000          1.000000          1.000000          1.000000  \n",
       "\n",
       "[8 rows x 36 columns]"
      ]
     },
     "execution_count": 11,
     "metadata": {},
     "output_type": "execute_result"
    }
   ],
   "source": [
    "data_test.describe()"
   ]
  },
  {
   "cell_type": "markdown",
   "metadata": {},
   "source": [
    "### some simple FE (feature enginering):"
   ]
  },
  {
   "cell_type": "code",
   "execution_count": 14,
   "metadata": {},
   "outputs": [],
   "source": [
    "full_data = pd.concat([data_train, data_test], axis=0, sort=False)"
   ]
  },
  {
   "cell_type": "markdown",
   "metadata": {},
   "source": [
    "### We need to drop target values for 2nd task, otherwise it will entail overfitting"
   ]
  },
  {
   "cell_type": "code",
   "execution_count": 15,
   "metadata": {},
   "outputs": [],
   "source": [
    "full_data.drop(['goal21'], inplace=True, axis=1)\n",
    "full_data.drop(['goal22'], inplace=True, axis=1)\n",
    "full_data.drop(['goal23'], inplace=True, axis=1)\n",
    "full_data.drop(['goal24'], inplace=True, axis=1)\n",
    "full_data.drop(['goal25'], inplace=True, axis=1)"
   ]
  },
  {
   "cell_type": "markdown",
   "metadata": {},
   "source": [
    "0, 1, 2, 3, 4, 12, 15, 18, 21, 29 "
   ]
  },
  {
   "cell_type": "code",
   "execution_count": 17,
   "metadata": {
    "scrolled": false
   },
   "outputs": [
    {
     "data": {
      "application/vnd.jupyter.widget-view+json": {
       "model_id": "abc295d7109340e6ab3ab524e6e06078",
       "version_major": 2,
       "version_minor": 0
      },
      "text/plain": [
       "HBox(children=(FloatProgress(value=0.0, max=36.0), HTML(value='')))"
      ]
     },
     "metadata": {},
     "output_type": "display_data"
    },
    {
     "name": "stdout",
     "output_type": "stream",
     "text": [
      "\n"
     ]
    },
    {
     "data": {
      "application/vnd.jupyter.widget-view+json": {
       "model_id": "bc56700d7baa4eef9d131cddd2abc36d",
       "version_major": 2,
       "version_minor": 0
      },
      "text/plain": [
       "HBox(children=(FloatProgress(value=0.0, max=36.0), HTML(value='')))"
      ]
     },
     "metadata": {},
     "output_type": "display_data"
    },
    {
     "name": "stdout",
     "output_type": "stream",
     "text": [
      "\n"
     ]
    },
    {
     "data": {
      "application/vnd.jupyter.widget-view+json": {
       "model_id": "28471fa9326d4a5f8fa89ef5dab86f3e",
       "version_major": 2,
       "version_minor": 0
      },
      "text/plain": [
       "HBox(children=(FloatProgress(value=0.0, max=36.0), HTML(value='')))"
      ]
     },
     "metadata": {},
     "output_type": "display_data"
    },
    {
     "name": "stdout",
     "output_type": "stream",
     "text": [
      "\n"
     ]
    },
    {
     "data": {
      "application/vnd.jupyter.widget-view+json": {
       "model_id": "f80253a57f544f66aee31d46e2e54169",
       "version_major": 2,
       "version_minor": 0
      },
      "text/plain": [
       "HBox(children=(FloatProgress(value=0.0, max=36.0), HTML(value='')))"
      ]
     },
     "metadata": {},
     "output_type": "display_data"
    },
    {
     "name": "stdout",
     "output_type": "stream",
     "text": [
      "\n"
     ]
    },
    {
     "data": {
      "application/vnd.jupyter.widget-view+json": {
       "model_id": "37d8ab4ff9844e07b996f8adbfdde323",
       "version_major": 2,
       "version_minor": 0
      },
      "text/plain": [
       "HBox(children=(FloatProgress(value=0.0, max=36.0), HTML(value='')))"
      ]
     },
     "metadata": {},
     "output_type": "display_data"
    },
    {
     "name": "stdout",
     "output_type": "stream",
     "text": [
      "\n"
     ]
    },
    {
     "data": {
      "application/vnd.jupyter.widget-view+json": {
       "model_id": "b9160f4cdc494b54afdf1824ac1bdeb0",
       "version_major": 2,
       "version_minor": 0
      },
      "text/plain": [
       "HBox(children=(FloatProgress(value=0.0, max=36.0), HTML(value='')))"
      ]
     },
     "metadata": {},
     "output_type": "display_data"
    },
    {
     "name": "stdout",
     "output_type": "stream",
     "text": [
      "\n"
     ]
    },
    {
     "data": {
      "application/vnd.jupyter.widget-view+json": {
       "model_id": "ca47a58789e84d8da76586987d82cf0e",
       "version_major": 2,
       "version_minor": 0
      },
      "text/plain": [
       "HBox(children=(FloatProgress(value=0.0, max=36.0), HTML(value='')))"
      ]
     },
     "metadata": {},
     "output_type": "display_data"
    },
    {
     "name": "stdout",
     "output_type": "stream",
     "text": [
      "\n"
     ]
    },
    {
     "data": {
      "application/vnd.jupyter.widget-view+json": {
       "model_id": "f58d1f9f5ca54b10bd0603871fcd2644",
       "version_major": 2,
       "version_minor": 0
      },
      "text/plain": [
       "HBox(children=(FloatProgress(value=0.0, max=36.0), HTML(value='')))"
      ]
     },
     "metadata": {},
     "output_type": "display_data"
    },
    {
     "name": "stdout",
     "output_type": "stream",
     "text": [
      "\n"
     ]
    },
    {
     "data": {
      "application/vnd.jupyter.widget-view+json": {
       "model_id": "56bd55baa01b458ebc42cab9530225b2",
       "version_major": 2,
       "version_minor": 0
      },
      "text/plain": [
       "HBox(children=(FloatProgress(value=0.0, max=36.0), HTML(value='')))"
      ]
     },
     "metadata": {},
     "output_type": "display_data"
    },
    {
     "name": "stdout",
     "output_type": "stream",
     "text": [
      "\n"
     ]
    },
    {
     "data": {
      "application/vnd.jupyter.widget-view+json": {
       "model_id": "8991c36e5deb49629706e4d35da21bb0",
       "version_major": 2,
       "version_minor": 0
      },
      "text/plain": [
       "HBox(children=(FloatProgress(value=0.0, max=36.0), HTML(value='')))"
      ]
     },
     "metadata": {},
     "output_type": "display_data"
    },
    {
     "name": "stdout",
     "output_type": "stream",
     "text": [
      "\n"
     ]
    },
    {
     "data": {
      "application/vnd.jupyter.widget-view+json": {
       "model_id": "ec4b9e25f3744f92b76cd016b80aeba0",
       "version_major": 2,
       "version_minor": 0
      },
      "text/plain": [
       "HBox(children=(FloatProgress(value=0.0, max=36.0), HTML(value='')))"
      ]
     },
     "metadata": {},
     "output_type": "display_data"
    },
    {
     "name": "stdout",
     "output_type": "stream",
     "text": [
      "\n"
     ]
    },
    {
     "data": {
      "application/vnd.jupyter.widget-view+json": {
       "model_id": "f72b0fe7fc71487b9df46adca08ff331",
       "version_major": 2,
       "version_minor": 0
      },
      "text/plain": [
       "HBox(children=(FloatProgress(value=0.0, max=36.0), HTML(value='')))"
      ]
     },
     "metadata": {},
     "output_type": "display_data"
    },
    {
     "name": "stdout",
     "output_type": "stream",
     "text": [
      "\n"
     ]
    },
    {
     "data": {
      "application/vnd.jupyter.widget-view+json": {
       "model_id": "7dea87de8ce34658bd12a693f9770077",
       "version_major": 2,
       "version_minor": 0
      },
      "text/plain": [
       "HBox(children=(FloatProgress(value=0.0, max=36.0), HTML(value='')))"
      ]
     },
     "metadata": {},
     "output_type": "display_data"
    },
    {
     "name": "stdout",
     "output_type": "stream",
     "text": [
      "\n"
     ]
    },
    {
     "data": {
      "application/vnd.jupyter.widget-view+json": {
       "model_id": "8c12bc1516414c6ebe453359670ed026",
       "version_major": 2,
       "version_minor": 0
      },
      "text/plain": [
       "HBox(children=(FloatProgress(value=0.0, max=36.0), HTML(value='')))"
      ]
     },
     "metadata": {},
     "output_type": "display_data"
    },
    {
     "name": "stdout",
     "output_type": "stream",
     "text": [
      "\n"
     ]
    },
    {
     "data": {
      "application/vnd.jupyter.widget-view+json": {
       "model_id": "34fcef011d40432db63471be1dcbf2f5",
       "version_major": 2,
       "version_minor": 0
      },
      "text/plain": [
       "HBox(children=(FloatProgress(value=0.0, max=36.0), HTML(value='')))"
      ]
     },
     "metadata": {},
     "output_type": "display_data"
    },
    {
     "name": "stdout",
     "output_type": "stream",
     "text": [
      "\n"
     ]
    },
    {
     "data": {
      "application/vnd.jupyter.widget-view+json": {
       "model_id": "850e1cba52d24754a7c2a6b86e6d0c30",
       "version_major": 2,
       "version_minor": 0
      },
      "text/plain": [
       "HBox(children=(FloatProgress(value=0.0, max=36.0), HTML(value='')))"
      ]
     },
     "metadata": {},
     "output_type": "display_data"
    },
    {
     "name": "stdout",
     "output_type": "stream",
     "text": [
      "\n"
     ]
    },
    {
     "data": {
      "application/vnd.jupyter.widget-view+json": {
       "model_id": "da2a103960a74eb6a52e2920804ac981",
       "version_major": 2,
       "version_minor": 0
      },
      "text/plain": [
       "HBox(children=(FloatProgress(value=0.0, max=36.0), HTML(value='')))"
      ]
     },
     "metadata": {},
     "output_type": "display_data"
    },
    {
     "name": "stdout",
     "output_type": "stream",
     "text": [
      "\n"
     ]
    },
    {
     "data": {
      "application/vnd.jupyter.widget-view+json": {
       "model_id": "3bc860b64b744980812640f0f9e1b8cb",
       "version_major": 2,
       "version_minor": 0
      },
      "text/plain": [
       "HBox(children=(FloatProgress(value=0.0, max=36.0), HTML(value='')))"
      ]
     },
     "metadata": {},
     "output_type": "display_data"
    },
    {
     "name": "stdout",
     "output_type": "stream",
     "text": [
      "\n"
     ]
    },
    {
     "data": {
      "application/vnd.jupyter.widget-view+json": {
       "model_id": "2a6bb8b0816146ccbed968798285bc9e",
       "version_major": 2,
       "version_minor": 0
      },
      "text/plain": [
       "HBox(children=(FloatProgress(value=0.0, max=36.0), HTML(value='')))"
      ]
     },
     "metadata": {},
     "output_type": "display_data"
    },
    {
     "name": "stdout",
     "output_type": "stream",
     "text": [
      "\n",
      "CPU times: user 4min 27s, sys: 2min 32s, total: 7min\n",
      "Wall time: 6min 56s\n"
     ]
    }
   ],
   "source": [
    "%%time\n",
    "\n",
    "group_by_features = ['userid', 'field0', 'field1',\n",
    "                     'field2', 'field3', 'field4', 'field6', 'field9', 'field11',\n",
    "                     'field12', 'field15', 'field18',\n",
    "                     'field21', 'field29', 'indicator_goal21', 'indicator_goal22', 'indicator_goal23',\n",
    "                     'indicator_goal24', 'indicator_goal25']\n",
    "cols = full_data.columns.delete(1)[:-1]\n",
    "\n",
    "for group_by_feature in group_by_features:\n",
    "    for col in tqdm_notebook(cols):\n",
    "        mean_per_col = full_data.groupby([group_by_feature])[\n",
    "            col].transform('mean').replace(-np.inf, np.nan).replace(np.inf, np.nan).astype(np.float32)\n",
    "        std_per_col = full_data.groupby([group_by_feature])[\n",
    "            col].transform('std').replace(-np.inf, np.nan).replace(np.inf, np.nan).astype(np.float32)\n",
    "        full_data[f'{col}_to_mean_{group_by_feature}'] = full_data[col] / mean_per_col\n",
    "        full_data[f'{col}_to_std_{group_by_feature}'] = full_data[col] / std_per_col\n",
    "        "
   ]
  },
  {
   "cell_type": "markdown",
   "metadata": {},
   "source": [
    "Features, which named as `indicator_goal2i`, $i \\in {1, 2, 3, 4, 5}$, looks like iteractions of user with items, so I've  decided to use matrix factorization to get user embeddings and use it as extra features."
   ]
  },
  {
   "cell_type": "markdown",
   "metadata": {},
   "source": [
    "### Data preparation:"
   ]
  },
  {
   "cell_type": "code",
   "execution_count": 18,
   "metadata": {},
   "outputs": [],
   "source": [
    "full_data['indicator_goal_label_encoded'] = np.where(full_data['indicator_goal21'], 0, 5)\n",
    "full_data['indicator_goal_label_encoded'] = np.where(full_data['indicator_goal22'], 1,\n",
    "                                                     full_data['indicator_goal_label_encoded'])\n",
    "full_data['indicator_goal_label_encoded'] = np.where(full_data['indicator_goal23'], 2,\n",
    "                                                     full_data['indicator_goal_label_encoded'])\n",
    "full_data['indicator_goal_label_encoded'] = np.where(full_data['indicator_goal24'], 3,\n",
    "                                                     full_data['indicator_goal_label_encoded'])\n",
    "full_data['indicator_goal_label_encoded'] = np.where(full_data['indicator_goal25'], 4,\n",
    "                                                     full_data['indicator_goal_label_encoded'])"
   ]
  },
  {
   "cell_type": "code",
   "execution_count": 19,
   "metadata": {},
   "outputs": [],
   "source": [
    "from sklearn.preprocessing import LabelEncoder\n",
    "\n",
    "le = LabelEncoder()\n",
    "\n",
    "users = le.fit_transform(full_data['userid'].values.reshape(-1))\n",
    "items = full_data['indicator_goal_label_encoded'].values.reshape(-1)\n",
    "values = np.ones_like(users)"
   ]
  },
  {
   "cell_type": "code",
   "execution_count": 20,
   "metadata": {},
   "outputs": [],
   "source": [
    "from scipy.sparse import coo_matrix\n",
    "\n",
    "user_item = coo_matrix((values, (users, items)))"
   ]
  },
  {
   "cell_type": "markdown",
   "metadata": {},
   "source": [
    "###  ALS matrix factorization:"
   ]
  },
  {
   "cell_type": "code",
   "execution_count": 22,
   "metadata": {},
   "outputs": [
    {
     "name": "stderr",
     "output_type": "stream",
     "text": [
      "GPU training requires factor size to be a multiple of 32. Increasing factors from 150 to 160.\n",
      "WARNING:root:OpenBLAS detected. Its highly recommend to set the environment variable 'export OPENBLAS_NUM_THREADS=1' to disable its internal multithreading\n"
     ]
    },
    {
     "data": {
      "application/vnd.jupyter.widget-view+json": {
       "model_id": "3a00db827b7743c0b352119a95d66dd5",
       "version_major": 2,
       "version_minor": 0
      },
      "text/plain": [
       "HBox(children=(FloatProgress(value=0.0, max=120.0), HTML(value='')))"
      ]
     },
     "metadata": {},
     "output_type": "display_data"
    },
    {
     "name": "stdout",
     "output_type": "stream",
     "text": [
      "\n"
     ]
    }
   ],
   "source": [
    "import implicit\n",
    "\n",
    "n_factors = 150\n",
    "model = implicit.als.AlternatingLeastSquares(factors=n_factors, iterations=120)\n",
    "model.fit(user_item.T.tocsr())"
   ]
  },
  {
   "cell_type": "code",
   "execution_count": 23,
   "metadata": {},
   "outputs": [
    {
     "name": "stdout",
     "output_type": "stream",
     "text": [
      "CPU times: user 71.1 ms, sys: 0 ns, total: 71.1 ms\n",
      "Wall time: 70.5 ms\n"
     ]
    },
    {
     "data": {
      "text/plain": [
       "array(['10d654494cbe97bbb25d51ead2600679aff9e097924add09d8066010a0c9adaf',\n",
       "       '4aafc0391f72bbcf60537aece62923baf9ce644b64ac365a75e021cca794b91b',\n",
       "       'bac8ffef46348f587c8d17137ab01fb24aef21547c647d2ea68a0214c8abf003',\n",
       "       ...,\n",
       "       '255bfc6ac2f9c98d7f86e59bd72a682e7a50c2db6107495fabd8729471cc172e',\n",
       "       '58a0463aea3ece956b49099380c17cf1d3dd591b70e58c080600920c51af9b9a',\n",
       "       '7db5e20ad97cbec3604f8cff2ebc407b4f3f1a29c45631c52d85ac6a13501fa0'],\n",
       "      dtype=object)"
      ]
     },
     "execution_count": 23,
     "metadata": {},
     "output_type": "execute_result"
    }
   ],
   "source": [
    "%%time\n",
    "\n",
    "le.inverse_transform(users)"
   ]
  },
  {
   "cell_type": "code",
   "execution_count": 24,
   "metadata": {},
   "outputs": [
    {
     "data": {
      "application/vnd.jupyter.widget-view+json": {
       "model_id": "b0bef2c6bbf8489a9878bff9bf2f5143",
       "version_major": 2,
       "version_minor": 0
      },
      "text/plain": [
       "HBox(children=(FloatProgress(value=0.0, max=150.0), HTML(value='')))"
      ]
     },
     "metadata": {},
     "output_type": "display_data"
    },
    {
     "name": "stdout",
     "output_type": "stream",
     "text": [
      "\n"
     ]
    }
   ],
   "source": [
    "for factor in tqdm_notebook(range(n_factors)):\n",
    "    full_data['factor_als_'+str(factor)] = model.user_factors[users, factor]\n",
    "    full_data['factor_als_'+str(factor)] = model.user_factors[users, factor]"
   ]
  },
  {
   "cell_type": "markdown",
   "metadata": {},
   "source": [
    "## BPR matrix factorization:"
   ]
  },
  {
   "cell_type": "code",
   "execution_count": 25,
   "metadata": {},
   "outputs": [
    {
     "name": "stdout",
     "output_type": "stream",
     "text": [
      "CPU times: user 1e+03 ns, sys: 1e+03 ns, total: 2 µs\n",
      "Wall time: 4.05 µs\n"
     ]
    },
    {
     "data": {
      "application/vnd.jupyter.widget-view+json": {
       "model_id": "68da1243ca7a4e7ba424fe0ffbcebf42",
       "version_major": 2,
       "version_minor": 0
      },
      "text/plain": [
       "HBox(children=(FloatProgress(value=0.0, max=120.0), HTML(value='')))"
      ]
     },
     "metadata": {},
     "output_type": "display_data"
    },
    {
     "name": "stdout",
     "output_type": "stream",
     "text": [
      "\n"
     ]
    },
    {
     "data": {
      "application/vnd.jupyter.widget-view+json": {
       "model_id": "1c0056b4d70f441aa7d1a7edce1f2f69",
       "version_major": 2,
       "version_minor": 0
      },
      "text/plain": [
       "HBox(children=(FloatProgress(value=0.0, max=150.0), HTML(value='')))"
      ]
     },
     "metadata": {},
     "output_type": "display_data"
    },
    {
     "name": "stdout",
     "output_type": "stream",
     "text": [
      "\n"
     ]
    }
   ],
   "source": [
    "%time\n",
    "\n",
    "model = implicit.bpr.BayesianPersonalizedRanking(factors=n_factors, iterations=120, use_gpu=False)\n",
    "model.fit(user_item.T.tocsr())\n",
    "\n",
    "for factor in tqdm_notebook(range(n_factors)):\n",
    "    full_data['factor_bpr_'+str(factor)] = model.user_factors[users, factor]\n",
    "    full_data['factor_bpr_'+str(factor)] = model.user_factors[users, factor]"
   ]
  },
  {
   "cell_type": "code",
   "execution_count": 26,
   "metadata": {},
   "outputs": [
    {
     "data": {
      "text/plain": [
       "(651067, 1707)"
      ]
     },
     "execution_count": 26,
     "metadata": {},
     "output_type": "execute_result"
    }
   ],
   "source": [
    "full_data.shape"
   ]
  },
  {
   "cell_type": "code",
   "execution_count": 41,
   "metadata": {},
   "outputs": [],
   "source": [
    "data_train = full_data[~full_data['goal1'].isna()]\n",
    "data_test = full_data[full_data['goal1'].isna()]"
   ]
  },
  {
   "cell_type": "markdown",
   "metadata": {},
   "source": [
    "## Drop target from training set"
   ]
  },
  {
   "cell_type": "code",
   "execution_count": 42,
   "metadata": {},
   "outputs": [],
   "source": [
    "y = data_train.pop('goal1')\n",
    "y = y.values"
   ]
  },
  {
   "cell_type": "code",
   "execution_count": 44,
   "metadata": {
    "scrolled": false
   },
   "outputs": [
    {
     "data": {
      "text/html": [
       "<div>\n",
       "<style scoped>\n",
       "    .dataframe tbody tr th:only-of-type {\n",
       "        vertical-align: middle;\n",
       "    }\n",
       "\n",
       "    .dataframe tbody tr th {\n",
       "        vertical-align: top;\n",
       "    }\n",
       "\n",
       "    .dataframe thead th {\n",
       "        text-align: right;\n",
       "    }\n",
       "</style>\n",
       "<table border=\"1\" class=\"dataframe\">\n",
       "  <thead>\n",
       "    <tr style=\"text-align: right;\">\n",
       "      <th></th>\n",
       "      <th>orderid</th>\n",
       "      <th>userid</th>\n",
       "      <th>field0</th>\n",
       "      <th>field1</th>\n",
       "      <th>field2</th>\n",
       "      <th>field3</th>\n",
       "      <th>field4</th>\n",
       "      <th>field5</th>\n",
       "      <th>field6</th>\n",
       "      <th>field7</th>\n",
       "      <th>...</th>\n",
       "      <th>factor_bpr140</th>\n",
       "      <th>factor_bpr141</th>\n",
       "      <th>factor_bpr142</th>\n",
       "      <th>factor_bpr143</th>\n",
       "      <th>factor_bpr144</th>\n",
       "      <th>factor_bpr145</th>\n",
       "      <th>factor_bpr146</th>\n",
       "      <th>factor_bpr147</th>\n",
       "      <th>factor_bpr148</th>\n",
       "      <th>factor_bpr149</th>\n",
       "    </tr>\n",
       "  </thead>\n",
       "  <tbody>\n",
       "    <tr>\n",
       "      <th>0</th>\n",
       "      <td>0</td>\n",
       "      <td>10d654494cbe97bbb25d51ead2600679aff9e097924add...</td>\n",
       "      <td>0</td>\n",
       "      <td>-0.626508</td>\n",
       "      <td>11</td>\n",
       "      <td>12</td>\n",
       "      <td>1</td>\n",
       "      <td>1</td>\n",
       "      <td>0</td>\n",
       "      <td>1</td>\n",
       "      <td>...</td>\n",
       "      <td>0.007633</td>\n",
       "      <td>0.015211</td>\n",
       "      <td>-0.024880</td>\n",
       "      <td>0.049655</td>\n",
       "      <td>0.000328</td>\n",
       "      <td>-0.028086</td>\n",
       "      <td>-0.029308</td>\n",
       "      <td>-0.010251</td>\n",
       "      <td>-0.026921</td>\n",
       "      <td>0.005300</td>\n",
       "    </tr>\n",
       "    <tr>\n",
       "      <th>1</th>\n",
       "      <td>1</td>\n",
       "      <td>4aafc0391f72bbcf60537aece62923baf9ce644b64ac36...</td>\n",
       "      <td>144</td>\n",
       "      <td>-0.393794</td>\n",
       "      <td>5</td>\n",
       "      <td>7</td>\n",
       "      <td>2</td>\n",
       "      <td>0</td>\n",
       "      <td>0</td>\n",
       "      <td>2</td>\n",
       "      <td>...</td>\n",
       "      <td>-0.016551</td>\n",
       "      <td>-0.016767</td>\n",
       "      <td>0.076734</td>\n",
       "      <td>-0.157866</td>\n",
       "      <td>0.030844</td>\n",
       "      <td>0.037039</td>\n",
       "      <td>0.074635</td>\n",
       "      <td>0.009446</td>\n",
       "      <td>0.034014</td>\n",
       "      <td>-0.030779</td>\n",
       "    </tr>\n",
       "    <tr>\n",
       "      <th>2</th>\n",
       "      <td>2</td>\n",
       "      <td>bac8ffef46348f587c8d17137ab01fb24aef21547c647d...</td>\n",
       "      <td>134</td>\n",
       "      <td>-0.548937</td>\n",
       "      <td>2</td>\n",
       "      <td>3</td>\n",
       "      <td>2</td>\n",
       "      <td>0</td>\n",
       "      <td>0</td>\n",
       "      <td>1</td>\n",
       "      <td>...</td>\n",
       "      <td>0.010243</td>\n",
       "      <td>0.008635</td>\n",
       "      <td>-0.027070</td>\n",
       "      <td>0.046813</td>\n",
       "      <td>0.003109</td>\n",
       "      <td>-0.025548</td>\n",
       "      <td>-0.027793</td>\n",
       "      <td>-0.010233</td>\n",
       "      <td>-0.026142</td>\n",
       "      <td>0.007182</td>\n",
       "    </tr>\n",
       "    <tr>\n",
       "      <th>3</th>\n",
       "      <td>3</td>\n",
       "      <td>0392247b4b87674aba2c32bf2292b105771a6a376871be...</td>\n",
       "      <td>0</td>\n",
       "      <td>-0.238651</td>\n",
       "      <td>10</td>\n",
       "      <td>11</td>\n",
       "      <td>1</td>\n",
       "      <td>1</td>\n",
       "      <td>3</td>\n",
       "      <td>2</td>\n",
       "      <td>...</td>\n",
       "      <td>0.005618</td>\n",
       "      <td>0.012722</td>\n",
       "      <td>-0.023667</td>\n",
       "      <td>0.049049</td>\n",
       "      <td>-0.000563</td>\n",
       "      <td>-0.023540</td>\n",
       "      <td>-0.031876</td>\n",
       "      <td>-0.012161</td>\n",
       "      <td>-0.025659</td>\n",
       "      <td>0.003450</td>\n",
       "    </tr>\n",
       "    <tr>\n",
       "      <th>4</th>\n",
       "      <td>4</td>\n",
       "      <td>d1aeefef311bbeb4bd84876c8d49421f276674527d5578...</td>\n",
       "      <td>0</td>\n",
       "      <td>-0.704079</td>\n",
       "      <td>8</td>\n",
       "      <td>11</td>\n",
       "      <td>1</td>\n",
       "      <td>1</td>\n",
       "      <td>0</td>\n",
       "      <td>1</td>\n",
       "      <td>...</td>\n",
       "      <td>0.009037</td>\n",
       "      <td>0.012994</td>\n",
       "      <td>-0.022391</td>\n",
       "      <td>0.043133</td>\n",
       "      <td>0.002050</td>\n",
       "      <td>-0.021355</td>\n",
       "      <td>-0.027301</td>\n",
       "      <td>-0.007912</td>\n",
       "      <td>-0.025380</td>\n",
       "      <td>0.006430</td>\n",
       "    </tr>\n",
       "  </tbody>\n",
       "</table>\n",
       "<p>5 rows × 1706 columns</p>\n",
       "</div>"
      ],
      "text/plain": [
       "   orderid                                             userid  field0  \\\n",
       "0        0  10d654494cbe97bbb25d51ead2600679aff9e097924add...       0   \n",
       "1        1  4aafc0391f72bbcf60537aece62923baf9ce644b64ac36...     144   \n",
       "2        2  bac8ffef46348f587c8d17137ab01fb24aef21547c647d...     134   \n",
       "3        3  0392247b4b87674aba2c32bf2292b105771a6a376871be...       0   \n",
       "4        4  d1aeefef311bbeb4bd84876c8d49421f276674527d5578...       0   \n",
       "\n",
       "     field1  field2  field3  field4  field5  field6  field7  ...  \\\n",
       "0 -0.626508      11      12       1       1       0       1  ...   \n",
       "1 -0.393794       5       7       2       0       0       2  ...   \n",
       "2 -0.548937       2       3       2       0       0       1  ...   \n",
       "3 -0.238651      10      11       1       1       3       2  ...   \n",
       "4 -0.704079       8      11       1       1       0       1  ...   \n",
       "\n",
       "   factor_bpr140  factor_bpr141  factor_bpr142  factor_bpr143  factor_bpr144  \\\n",
       "0       0.007633       0.015211      -0.024880       0.049655       0.000328   \n",
       "1      -0.016551      -0.016767       0.076734      -0.157866       0.030844   \n",
       "2       0.010243       0.008635      -0.027070       0.046813       0.003109   \n",
       "3       0.005618       0.012722      -0.023667       0.049049      -0.000563   \n",
       "4       0.009037       0.012994      -0.022391       0.043133       0.002050   \n",
       "\n",
       "   factor_bpr145  factor_bpr146  factor_bpr147  factor_bpr148  factor_bpr149  \n",
       "0      -0.028086      -0.029308      -0.010251      -0.026921       0.005300  \n",
       "1       0.037039       0.074635       0.009446       0.034014      -0.030779  \n",
       "2      -0.025548      -0.027793      -0.010233      -0.026142       0.007182  \n",
       "3      -0.023540      -0.031876      -0.012161      -0.025659       0.003450  \n",
       "4      -0.021355      -0.027301      -0.007912      -0.025380       0.006430  \n",
       "\n",
       "[5 rows x 1706 columns]"
      ]
     },
     "execution_count": 44,
     "metadata": {},
     "output_type": "execute_result"
    }
   ],
   "source": [
    "data_train.head()"
   ]
  },
  {
   "cell_type": "code",
   "execution_count": 47,
   "metadata": {},
   "outputs": [],
   "source": [
    "train_userid = data_train['userid']\n",
    "data_train.drop(columns=['orderid'], inplace=True)\n",
    "ids = data_test.pop('orderid')"
   ]
  },
  {
   "cell_type": "code",
   "execution_count": 48,
   "metadata": {},
   "outputs": [],
   "source": [
    "data_test.drop(['userid'], inplace=True, axis=1)\n",
    "data_test.drop(['goal1'], inplace=True, axis=1)"
   ]
  },
  {
   "cell_type": "code",
   "execution_count": 49,
   "metadata": {
    "scrolled": true
   },
   "outputs": [
    {
     "data": {
      "text/plain": [
       "Index(['field0', 'field1', 'field2', 'field3', 'field4', 'field5', 'field6',\n",
       "       'field7', 'field8', 'field9',\n",
       "       ...\n",
       "       'factor_bpr140', 'factor_bpr141', 'factor_bpr142', 'factor_bpr143',\n",
       "       'factor_bpr144', 'factor_bpr145', 'factor_bpr146', 'factor_bpr147',\n",
       "       'factor_bpr148', 'factor_bpr149'],\n",
       "      dtype='object', length=1704)"
      ]
     },
     "execution_count": 49,
     "metadata": {},
     "output_type": "execute_result"
    }
   ],
   "source": [
    "cols = data_test.columns\n",
    "cols"
   ]
  },
  {
   "cell_type": "code",
   "execution_count": 50,
   "metadata": {},
   "outputs": [],
   "source": [
    "data_train = data_train[cols]"
   ]
  },
  {
   "cell_type": "markdown",
   "metadata": {},
   "source": [
    "## Experiments:\n",
    "\n",
    "Use super simple validation:"
   ]
  },
  {
   "cell_type": "code",
   "execution_count": 51,
   "metadata": {},
   "outputs": [],
   "source": [
    "from sklearn.model_selection import train_test_split\n",
    "X_train, X_test, y_train, y_test = train_test_split(data_train, y, test_size=0.3, random_state=13)"
   ]
  },
  {
   "cell_type": "code",
   "execution_count": 52,
   "metadata": {},
   "outputs": [],
   "source": [
    "from sklearn.model_selection import GroupKFold, StratifiedKFold\n",
    "\n",
    "N_SPLITS = 5\n",
    "gr_kfold = StratifiedKFold(n_splits=N_SPLITS)"
   ]
  },
  {
   "cell_type": "code",
   "execution_count": 53,
   "metadata": {},
   "outputs": [],
   "source": [
    "import lightgbm as lgb\n",
    "model = lgb.LGBMClassifier(bagging_fraction=0.5539674763124854, bagging_freq=5,\n",
    "               boosting_type='gbdt', class_weight=None,\n",
    "               colsample_bytree=0.7841488307689868, eval_metric='AUC',\n",
    "               importance_type='split', lambda_l1=7.892207361708597,\n",
    "               lambda_l2=8.705620624758234, learning_rate=0.03909410437165517,\n",
    "               max_bin=270, max_depth=10, metric='AUC', min_child_samples=20,\n",
    "               min_child_weight=0.001, min_split_gain=0.0, n_estimators=2000,\n",
    "               n_jobs=16, num_leaves=15, objective='binary', random_state=None,\n",
    "               reg_alpha=0.0, reg_lambda=0.0, seed=42, silent=True,\n",
    "               subsample=1.0, subsample_for_bin=200000, subsample_freq=0,\n",
    "               verbose=0)"
   ]
  },
  {
   "cell_type": "code",
   "execution_count": 54,
   "metadata": {
    "scrolled": true
   },
   "outputs": [
    {
     "name": "stdout",
     "output_type": "stream",
     "text": [
      "Training until validation scores don't improve for 200 rounds\n",
      "[500]\tvalid_0's auc: 0.86873\tvalid_1's auc: 0.692603\n",
      "Early stopping, best iteration is:\n",
      "[604]\tvalid_0's auc: 0.887849\tvalid_1's auc: 0.694016\n",
      "Training until validation scores don't improve for 200 rounds\n",
      "Early stopping, best iteration is:\n",
      "[154]\tvalid_0's auc: 0.774026\tvalid_1's auc: 0.71287\n",
      "Training until validation scores don't improve for 200 rounds\n",
      "Early stopping, best iteration is:\n",
      "[247]\tvalid_0's auc: 0.805105\tvalid_1's auc: 0.714469\n",
      "Training until validation scores don't improve for 200 rounds\n",
      "[500]\tvalid_0's auc: 0.869568\tvalid_1's auc: 0.700762\n",
      "Early stopping, best iteration is:\n",
      "[469]\tvalid_0's auc: 0.862441\tvalid_1's auc: 0.701812\n",
      "Training until validation scores don't improve for 200 rounds\n",
      "Early stopping, best iteration is:\n",
      "[189]\tvalid_0's auc: 0.786063\tvalid_1's auc: 0.703601\n",
      "CPU times: user 1h 13min 18s, sys: 15.1 s, total: 1h 13min 33s\n",
      "Wall time: 5min 17s\n"
     ]
    }
   ],
   "source": [
    "%%time\n",
    "\n",
    "param = {'bagging_fraction': 0.5539674763124854, 'bagging_freq':5,\n",
    "               'boosting_type': 'gbdt', 'class_weight':None,\n",
    "               'colsample_bytree': 0.7841488307689868, 'eval_metric': 'AUC',\n",
    "               'importance_type': 'split', 'lambda_l1': 7.892207361708597,\n",
    "               'lambda_l2': 8.705620624758234, 'learning_rate': 0.03909410437165517,\n",
    "               'max_bin': 270, 'max_depth': 10, 'metric': 'AUC', 'min_child_samples': 20,\n",
    "               'min_child_weight': 0.001, 'min_split_gain': 0.0, 'n_estimators': 2000,\n",
    "               'n_jobs': 16, 'num_leaves': 15, 'objective': 'binary', 'random_state': 13,\n",
    "               'seed': 13, 'silent': False,\n",
    "               'verbose': 100, 'early_stopping_rounds': 200}\n",
    "param['metric'] = 'auc'\n",
    "oof_predictions = np.zeros(data_train.shape[0])\n",
    "\n",
    "for train_idxs, test_idxs in gr_kfold.split(data_train, y):\n",
    "    q = lgb.train(param, train_set=lgb.Dataset(data_train.values[train_idxs], y[train_idxs]), num_boost_round=500,\n",
    "                  valid_sets=[lgb.Dataset(data_train.values[train_idxs], y[train_idxs]),\n",
    "                              lgb.Dataset(data_train.values[test_idxs], y[test_idxs])],\n",
    "                 verbose_eval=500)\n",
    "    oof_predictions[test_idxs] = q.predict(data_train.values[test_idxs])"
   ]
  },
  {
   "cell_type": "code",
   "execution_count": 55,
   "metadata": {},
   "outputs": [],
   "source": [
    "from sklearn.metrics import roc_auc_score"
   ]
  },
  {
   "cell_type": "code",
   "execution_count": 56,
   "metadata": {},
   "outputs": [
    {
     "data": {
      "text/plain": [
       "0.7042638537057597"
      ]
     },
     "execution_count": 56,
     "metadata": {},
     "output_type": "execute_result"
    }
   ],
   "source": [
    "roc_auc_score(y, oof_predictions[:data_train.shape[0]])"
   ]
  },
  {
   "cell_type": "markdown",
   "metadata": {},
   "source": [
    "0.7002432786953284"
   ]
  },
  {
   "cell_type": "markdown",
   "metadata": {},
   "source": [
    "Use bayes_opt library for tuning model parameters:"
   ]
  },
  {
   "cell_type": "code",
   "execution_count": 57,
   "metadata": {},
   "outputs": [],
   "source": [
    "from bayes_opt import BayesianOptimization\n",
    "from sklearn.metrics import roc_auc_score\n",
    "\n",
    "\n",
    "def lgb_bayesian(max_depth,\n",
    "                 lambda_l1,\n",
    "                 lambda_l2,\n",
    "                 bagging_fraction,\n",
    "                 bagging_freq,\n",
    "                 colsample_bytree,\n",
    "                 learning_rate,\n",
    "                 num_leaves,\n",
    "                 max_bin\n",
    "                      ):\n",
    "    params = {\n",
    "        'boosting_type': 'gbdt',\n",
    "        'metric': 'AUC',\n",
    "        'objective': 'binary',\n",
    "        'eval_metric': 'AUC',\n",
    "        'n_jobs': 16,\n",
    "        'seed': 42,\n",
    "        'early_stopping_rounds': 150,\n",
    "        'n_estimators': 2000,\n",
    "        'learning_rate': learning_rate,\n",
    "        'max_depth': int(max_depth),\n",
    "        'lambda_l1': lambda_l1,\n",
    "        'lambda_l2': lambda_l2,\n",
    "        'bagging_fraction': bagging_fraction,\n",
    "        'bagging_freq': int(bagging_freq),\n",
    "        'colsample_bytree': colsample_bytree,\n",
    "        'verbose': 0,\n",
    "        'early_stopping_rounds': 200\n",
    "    }\n",
    "    oof_predictions = np.zeros(data_train.shape[0])\n",
    "    for train_idxs, test_idxs in gr_kfold.split(data_train, y):\n",
    "        model = lgb.LGBMClassifier(boosting_type=params['boosting_type'],\n",
    "                                    metric='AUC',\n",
    "                                    objective='binary',\n",
    "                                    eval_metric='AUC',\n",
    "                                    n_jobs= 16,\n",
    "                                    seed=13,\n",
    "                                    n_estimators= 2000,\n",
    "                                    learning_rate=learning_rate,\n",
    "                                    max_depth=int(max_depth),\n",
    "                                    lambda_l1=lambda_l1,\n",
    "                                    lambda_l2=lambda_l2,\n",
    "                                    bagging_fraction=bagging_fraction,\n",
    "                                    bagging_freq=int(bagging_freq),\n",
    "                                    max_bin=int(max_bin),\n",
    "                                    num_leaves=int(num_leaves),\n",
    "                                    colsample_bytree=colsample_bytree,\n",
    "                                    verbose=0\n",
    "                                    )\n",
    "        model.fit(data_train.values[train_idxs],\n",
    "                  y[train_idxs],\n",
    "                  early_stopping_rounds=200,\n",
    "                  eval_metric='AUC',\n",
    "                  eval_set=(data_train.values[test_idxs], y[test_idxs]), verbose=0)\n",
    "        oof_predictions[test_idxs] = model.predict_proba(data_train.values[test_idxs])[:, 1]\n",
    "    return roc_auc_score(y, oof_predictions)"
   ]
  },
  {
   "cell_type": "code",
   "execution_count": 58,
   "metadata": {},
   "outputs": [],
   "source": [
    "bounds_LGB = {\n",
    "    'max_depth': (2, 25),\n",
    "    'lambda_l1': (0, 10),\n",
    "    'lambda_l2': (0, 10),\n",
    "    'bagging_fraction': (0.4, 0.9),\n",
    "    'bagging_freq': (1, 10),\n",
    "    'colsample_bytree': (0.4, 0.9),\n",
    "    'learning_rate': (0.025, 0.1),\n",
    "    'num_leaves': (2, 20),\n",
    "    'max_bin': (2, 1000)\n",
    "}\n",
    "\n",
    "\n",
    "lgbm_BO = BayesianOptimization(lgb_bayesian, bounds_LGB, random_state=13 * 2)"
   ]
  },
  {
   "cell_type": "code",
   "execution_count": null,
   "metadata": {},
   "outputs": [
    {
     "name": "stdout",
     "output_type": "stream",
     "text": [
      "|   iter    |  target   | baggin... | baggin... | colsam... | lambda_l1 | lambda_l2 | learni... |  max_bin  | max_depth | num_le... |\n",
      "-------------------------------------------------------------------------------------------------------------------------------------\n",
      "| \u001b[0m 1       \u001b[0m | \u001b[0m 0.7037  \u001b[0m | \u001b[0m 0.554   \u001b[0m | \u001b[0m 5.675   \u001b[0m | \u001b[0m 0.7841  \u001b[0m | \u001b[0m 7.892   \u001b[0m | \u001b[0m 8.706   \u001b[0m | \u001b[0m 0.03909 \u001b[0m | \u001b[0m 271.0   \u001b[0m | \u001b[0m 13.41   \u001b[0m | \u001b[0m 15.3    \u001b[0m |\n",
      "| \u001b[95m 2       \u001b[0m | \u001b[95m 0.7043  \u001b[0m | \u001b[95m 0.4975  \u001b[0m | \u001b[95m 2.618   \u001b[0m | \u001b[95m 0.6694  \u001b[0m | \u001b[95m 2.828   \u001b[0m | \u001b[95m 7.609   \u001b[0m | \u001b[95m 0.04523 \u001b[0m | \u001b[95m 294.9   \u001b[0m | \u001b[95m 24.14   \u001b[0m | \u001b[95m 18.44   \u001b[0m |\n",
      "| \u001b[95m 3       \u001b[0m | \u001b[95m 0.7054  \u001b[0m | \u001b[95m 0.6841  \u001b[0m | \u001b[95m 5.369   \u001b[0m | \u001b[95m 0.7269  \u001b[0m | \u001b[95m 5.366   \u001b[0m | \u001b[95m 9.957   \u001b[0m | \u001b[95m 0.03565 \u001b[0m | \u001b[95m 975.4   \u001b[0m | \u001b[95m 16.25   \u001b[0m | \u001b[95m 14.97   \u001b[0m |\n",
      "| \u001b[0m 4       \u001b[0m | \u001b[0m 0.7015  \u001b[0m | \u001b[0m 0.5475  \u001b[0m | \u001b[0m 6.401   \u001b[0m | \u001b[0m 0.7753  \u001b[0m | \u001b[0m 6.414   \u001b[0m | \u001b[0m 9.233   \u001b[0m | \u001b[0m 0.09165 \u001b[0m | \u001b[0m 645.4   \u001b[0m | \u001b[0m 8.8     \u001b[0m | \u001b[0m 14.29   \u001b[0m |\n",
      "| \u001b[0m 5       \u001b[0m | \u001b[0m 0.7003  \u001b[0m | \u001b[0m 0.5385  \u001b[0m | \u001b[0m 2.138   \u001b[0m | \u001b[0m 0.685   \u001b[0m | \u001b[0m 4.091   \u001b[0m | \u001b[0m 5.604   \u001b[0m | \u001b[0m 0.08908 \u001b[0m | \u001b[0m 98.53   \u001b[0m | \u001b[0m 10.15   \u001b[0m | \u001b[0m 19.53   \u001b[0m |\n",
      "| \u001b[95m 6       \u001b[0m | \u001b[95m 0.7067  \u001b[0m | \u001b[95m 0.861   \u001b[0m | \u001b[95m 9.718   \u001b[0m | \u001b[95m 0.4255  \u001b[0m | \u001b[95m 8.836   \u001b[0m | \u001b[95m 7.7     \u001b[0m | \u001b[95m 0.04297 \u001b[0m | \u001b[95m 105.6   \u001b[0m | \u001b[95m 6.285   \u001b[0m | \u001b[95m 15.55   \u001b[0m |\n",
      "| \u001b[0m 7       \u001b[0m | \u001b[0m 0.7022  \u001b[0m | \u001b[0m 0.8764  \u001b[0m | \u001b[0m 8.115   \u001b[0m | \u001b[0m 0.4933  \u001b[0m | \u001b[0m 5.12    \u001b[0m | \u001b[0m 0.8145  \u001b[0m | \u001b[0m 0.06424 \u001b[0m | \u001b[0m 135.6   \u001b[0m | \u001b[0m 6.568   \u001b[0m | \u001b[0m 3.948   \u001b[0m |\n",
      "| \u001b[0m 8       \u001b[0m | \u001b[0m 0.704   \u001b[0m | \u001b[0m 0.7164  \u001b[0m | \u001b[0m 9.567   \u001b[0m | \u001b[0m 0.6632  \u001b[0m | \u001b[0m 3.368   \u001b[0m | \u001b[0m 5.083   \u001b[0m | \u001b[0m 0.09929 \u001b[0m | \u001b[0m 634.0   \u001b[0m | \u001b[0m 10.39   \u001b[0m | \u001b[0m 19.56   \u001b[0m |\n"
     ]
    }
   ],
   "source": [
    "%%time\n",
    "\n",
    "with warnings.catch_warnings():\n",
    "    warnings.filterwarnings('ignore')\n",
    "    lgbm_BO.maximize(init_points=10, n_iter=10, xi=0, alpha=1e-3)"
   ]
  },
  {
   "cell_type": "code",
   "execution_count": null,
   "metadata": {},
   "outputs": [],
   "source": [
    "model_params = {\n",
    "    'max_depth': int(lgbm_BO.max['params']['max_depth']),\n",
    "    'learning_rate': lgbm_BO.max['params']['learning_rate'],\n",
    "    'num_leaves': int(lgbm_BO.max['params']['num_leaves']),\n",
    "    'max_bin': int(lgbm_BO.max['params']['max_bin']),\n",
    "    'boosting_type': 'gbdt',\n",
    "    'metric': 'AUC',\n",
    "    'objective': 'binary',\n",
    "    'eval_metric': 'AUC',\n",
    "    'n_jobs': 16,\n",
    "    'seed': 42,\n",
    "    'n_estimators': 2000,\n",
    "    'lambda_l1': lambda_l1,\n",
    "    'lambda_l2': lambda_l2,\n",
    "    'bagging_fraction': lgbm_BO.max['params']['bagging_fraction'],\n",
    "    'bagging_freq': int(lgbm_BO.max['params']['bagging_freq']),\n",
    "    'colsample_bytree': lgbm_BO.max['params']['colsampel_bytree'],\n",
    "    'verbose': 0\n",
    "}"
   ]
  },
  {
   "cell_type": "code",
   "execution_count": null,
   "metadata": {},
   "outputs": [],
   "source": [
    "import sklearn.utils\n",
    "\n",
    "if USE_PSEUDOLABELING:\n",
    "    pseudolabels = pd.read_csv('./pseudolabels_692673.csv', index_col=0)\n",
    "    data_train = pd.concat([data_train, data_test[(pseudolabels['proba'].values.reshape(-1) > 0.99) | (pseudolabels['proba'].values.reshape(-1) < 0.01)]], sort=False).reset_index(drop=True)\n",
    "    pseudolabels = pseudolabels[(pseudolabels['proba'].values.reshape(-1) > 0.99) | (pseudolabels['proba'].values.reshape(-1) < 0.01)]\n",
    "    y = np.hstack([y.reshape(-1), pseudolabels['proba'].values])\n",
    "    if not USE_SOFTLABELS:\n",
    "        y = np.where(y > 0.8, 1, 0)\n",
    "    data_train, y = sklearn.utils.shuffle(data_train, y, random_state=13)"
   ]
  },
  {
   "cell_type": "code",
   "execution_count": null,
   "metadata": {},
   "outputs": [],
   "source": [
    "if USE_PSEUDOLABELING:\n",
    "    data_test[(pseudolabels['proba'].values.reshape(-1) > 0.99) \\\n",
    "              | (pseudolabels['proba'].values.reshape(-1) < 0.01)].shape"
   ]
  },
  {
   "cell_type": "code",
   "execution_count": null,
   "metadata": {},
   "outputs": [],
   "source": [
    "from tqdm import tqdm_notebook"
   ]
  },
  {
   "cell_type": "code",
   "execution_count": null,
   "metadata": {
    "scrolled": true
   },
   "outputs": [],
   "source": [
    "oof_predictions = np.zeros(data_train.shape[0])\n",
    "test_predictions = np.zeros(data_test.shape[0])\n",
    "for train_idxs, test_idxs in tqdm_notebook(gr_kfold.split(data_train, y)):\n",
    "    model = lgb.LGBMClassifier(\n",
    "        max_depth=int(lgbm_BO.max['params']['max_depth']),\n",
    "        learning_rate=lgbm_BO.max['params']['learning_rate'],\n",
    "        num_leaves=int(lgbm_BO.max['params']['num_leaves']),\n",
    "        max_bin=int(lgbm_BO.max['params']['max_bin']),\n",
    "        boosting_type='gbdt',\n",
    "        metric='AUC',\n",
    "        objective='binary',\n",
    "        eval_metric='AUC',\n",
    "        n_jobs=16,\n",
    "        seed=42,\n",
    "        n_estimators=2000,\n",
    "        lambda_l1=lgbm_BO.max['params']['lambda_l1'],\n",
    "        lambda_l2=lgbm_BO.max['params']['lambda_l2'],\n",
    "        bagging_fraction=lgbm_BO.max['params']['bagging_fraction'],\n",
    "        bagging_freq=int(lgbm_BO.max['params']['bagging_freq']),\n",
    "        colsample_bytree=lgbm_BO.max['params']['colsample_bytree'],\n",
    "        verbose=0\n",
    "    )\n",
    "    model.fit(data_train.values[train_idxs],\n",
    "              y[train_idxs],\n",
    "              early_stopping_rounds=200,\n",
    "              eval_metric='AUC',\n",
    "              eval_set=(data_train.values[test_idxs], y[test_idxs]), verbose=0)\n",
    "    oof_predictions[test_idxs] = model.predict_proba(data_train.values[test_idxs])[:, 1]\n",
    "    test_predictions += model.predict_proba(data_test.values)[:, 1] / N_SPLITS\n",
    "print('OOF: \\n' + str(roc_auc_score(y, oof_predictions)))"
   ]
  },
  {
   "cell_type": "markdown",
   "metadata": {},
   "source": [
    "\n",
    "OOF: \n",
    "0.7655344173061015 - pseudolabeling"
   ]
  },
  {
   "cell_type": "markdown",
   "metadata": {},
   "source": [
    "OOF: \n",
    "0.7037542343142662"
   ]
  },
  {
   "cell_type": "code",
   "execution_count": null,
   "metadata": {},
   "outputs": [],
   "source": [
    "pd.DataFrame(test_predictions,  columns=['proba'], index=ids.values).to_csv('lgbm_1500features_als_bpr.csv')"
   ]
  },
  {
   "cell_type": "markdown",
   "metadata": {},
   "source": [
    "## Try to use xgboost:"
   ]
  },
  {
   "cell_type": "code",
   "execution_count": null,
   "metadata": {},
   "outputs": [],
   "source": [
    "%%time\n",
    "\n",
    "from xgboost import XGBClassifier"
   ]
  },
  {
   "cell_type": "code",
   "execution_count": 50,
   "metadata": {},
   "outputs": [
    {
     "data": {
      "application/vnd.jupyter.widget-view+json": {
       "model_id": "97b98dcaf4304a25b999e82d43b97636",
       "version_major": 2,
       "version_minor": 0
      },
      "text/plain": [
       "HBox(children=(FloatProgress(value=1.0, bar_style='info', max=1.0), HTML(value='')))"
      ]
     },
     "metadata": {},
     "output_type": "display_data"
    },
    {
     "name": "stdout",
     "output_type": "stream",
     "text": [
      "\n",
      "OOF: \n",
      "0.6977229857897738\n"
     ]
    }
   ],
   "source": [
    "oof_predictions = np.zeros(data_train.shape[0])\n",
    "test_predictions = np.zeros(data_test.shape[0])\n",
    "for train_idxs, test_idxs in tqdm_notebook(gr_kfold.split(data_train, y)):\n",
    "    model = XGBClassifier(gpu_hist=True, nthread=16, booster='dart', objective='binary:logistic')\n",
    "    model.fit(data_train.values[train_idxs],\n",
    "              y[train_idxs], \n",
    "             )\n",
    "    oof_predictions[test_idxs] = model.predict_proba(data_train.values[test_idxs])[:, 1]\n",
    "    test_predictions += model.predict_proba(data_test.values)[:, 1] / N_SPLITS\n",
    "print('OOF: \\n' + str(roc_auc_score(y, oof_predictions)))"
   ]
  },
  {
   "cell_type": "markdown",
   "metadata": {},
   "source": [
    "OOF: \n",
    "0.6969501317966372"
   ]
  },
  {
   "cell_type": "code",
   "execution_count": 51,
   "metadata": {},
   "outputs": [],
   "source": [
    "pd.DataFrame(test_predictions,  columns=['proba'], index=ids.values).to_csv('xgb_1500features_als_bpr.csv')"
   ]
  },
  {
   "cell_type": "markdown",
   "metadata": {},
   "source": [
    "## Some experiments with catboost"
   ]
  },
  {
   "cell_type": "code",
   "execution_count": null,
   "metadata": {},
   "outputs": [],
   "source": [
    "from catboost import CatBoostClassifier\n",
    "\n",
    "\n",
    "def catboost_bayesian(max_depth,\n",
    "                      n_estimators,\n",
    "                      lr,\n",
    "                      ):\n",
    "    max_depth = int(max_depth)\n",
    "    n_estimators = int(n_estimators)\n",
    "    model = CatBoostClassifier(max_depth=max_depth, n_estimators=n_estimators,\n",
    "                               learning_rate=lr, objective='CrossEntropy', eval_metric='AUC',\n",
    "                               task_type='GPU', verbose=0, thread_count=16)\n",
    "    model.fit(X_train, y_train)\n",
    "\n",
    "    return roc_auc_score(y_test, model.predict_proba(X_test)[:, 1])"
   ]
  },
  {
   "cell_type": "code",
   "execution_count": null,
   "metadata": {},
   "outputs": [],
   "source": [
    "bounds_cat = {\n",
    "    'max_depth': (1, 16),\n",
    "    'n_estimators': (1, 1000),\n",
    "    'lr': (1e-3, 1),\n",
    "}\n",
    "\n",
    "cat_BO = BayesianOptimization(catboost_bayesian, bounds_cat, random_state=13 * 2)"
   ]
  },
  {
   "cell_type": "code",
   "execution_count": null,
   "metadata": {},
   "outputs": [],
   "source": [
    "%%time\n",
    "import warnings\n",
    "\n",
    "\n",
    "with warnings.catch_warnings():\n",
    "    warnings.filterwarnings('ignore')\n",
    "    cat_BO.maximize(init_points=20, n_iter=20, acq='ucb')"
   ]
  },
  {
   "cell_type": "code",
   "execution_count": null,
   "metadata": {},
   "outputs": [],
   "source": [
    "model = CatBoostClassifier(max_depth=int(cat_BO.max['params']['max_depth']),\n",
    "                           n_estimators=int(cat_BO.max['params']['n_estimators']),\n",
    "                           learning_rate=cat_BO.max['params']['lr'],\n",
    "                           objective='CrossEntropy', eval_metric='AUC',\n",
    "                               task_type='GPU', verbose=0, thread_count=16)"
   ]
  },
  {
   "cell_type": "code",
   "execution_count": null,
   "metadata": {},
   "outputs": [],
   "source": [
    "model.fit(data_train, y)"
   ]
  },
  {
   "cell_type": "code",
   "execution_count": null,
   "metadata": {},
   "outputs": [],
   "source": [
    "a = model.predict_proba(data_test)[:, 1] # вероятности за 1й класс"
   ]
  },
  {
   "cell_type": "code",
   "execution_count": null,
   "metadata": {},
   "outputs": [],
   "source": [
    "pd.DataFrame(a,  columns=['proba'], index=ids.values).to_csv('ctb.csv')"
   ]
  },
  {
   "cell_type": "markdown",
   "metadata": {},
   "source": [
    "## Fitting and predicting:"
   ]
  },
  {
   "cell_type": "code",
   "execution_count": null,
   "metadata": {},
   "outputs": [],
   "source": [
    "model.fit(data_train, y)"
   ]
  },
  {
   "cell_type": "code",
   "execution_count": null,
   "metadata": {},
   "outputs": [],
   "source": [
    "a = model.predict_proba(data_test)[:, 1] # вероятности за 1й класс"
   ]
  },
  {
   "cell_type": "code",
   "execution_count": null,
   "metadata": {},
   "outputs": [],
   "source": [
    "pd.DataFrame(a,  columns=['proba'], index=ids.values).to_csv('dj1_01_.csv')"
   ]
  },
  {
   "cell_type": "code",
   "execution_count": null,
   "metadata": {},
   "outputs": [],
   "source": []
  }
 ],
 "metadata": {
  "kernelspec": {
   "display_name": "Python 3",
   "language": "python",
   "name": "python3"
  },
  "language_info": {
   "codemirror_mode": {
    "name": "ipython",
    "version": 3
   },
   "file_extension": ".py",
   "mimetype": "text/x-python",
   "name": "python",
   "nbconvert_exporter": "python",
   "pygments_lexer": "ipython3",
   "version": "3.7.6"
  }
 },
 "nbformat": 4,
 "nbformat_minor": 2
}
