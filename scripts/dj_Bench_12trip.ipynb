{
 "cells": [
  {
   "cell_type": "markdown",
   "metadata": {},
   "source": [
    "# Бенчмарк для задачи OneTwoTrip Contest\n",
    "\n",
    "https://boosters.pro/championship/onetwotrip_challenge/overview\n",
    "    \n",
    "    \n",
    "для студентов ВМК МГУ\n",
    "\n",
    "2019, Александр Дьяконов www.dyakonov.org/ag/"
   ]
  },
  {
   "cell_type": "code",
   "execution_count": 1,
   "metadata": {},
   "outputs": [
    {
     "name": "stdout",
     "output_type": "stream",
     "text": [
      "Populating the interactive namespace from numpy and matplotlib\n"
     ]
    }
   ],
   "source": [
    "# подгружаем все нужные пакеты\n",
    "import pandas as pd\n",
    "import numpy as np\n",
    "# для встроенных картинок\n",
    "%pylab inline\n",
    "# отключить предупреждения\n",
    "import warnings\n",
    "warnings.filterwarnings('ignore')\n",
    "# прогресс-бар\n",
    "from tqdm import tqdm, tqdm_notebook"
   ]
  },
  {
   "cell_type": "code",
   "execution_count": 68,
   "metadata": {},
   "outputs": [],
   "source": [
    "USE_PSEUDOLABELING = True\n",
    "USE_SOFTLABELS = False"
   ]
  },
  {
   "cell_type": "markdown",
   "metadata": {},
   "source": [
    "## загрузка данных"
   ]
  },
  {
   "cell_type": "code",
   "execution_count": 3,
   "metadata": {},
   "outputs": [
    {
     "name": "stdout",
     "output_type": "stream",
     "text": [
      "размеры: (196056, 43) (455011, 37)\n"
     ]
    }
   ],
   "source": [
    "data_train = pd.read_csv('../data/onetwotrip_challenge_train.csv')\n",
    "data_test = pd.read_csv('../data/onetwotrip_challenge_test.csv')\n",
    "print ('размеры:', data_train.shape, data_test.shape)"
   ]
  },
  {
   "cell_type": "markdown",
   "metadata": {},
   "source": [
    "## посмотрим на данные\n",
    "\n",
    "обратите внимание, как выводятся дата-фреймы"
   ]
  },
  {
   "cell_type": "code",
   "execution_count": 4,
   "metadata": {
    "scrolled": true
   },
   "outputs": [
    {
     "data": {
      "text/html": [
       "<div>\n",
       "<style scoped>\n",
       "    .dataframe tbody tr th:only-of-type {\n",
       "        vertical-align: middle;\n",
       "    }\n",
       "\n",
       "    .dataframe tbody tr th {\n",
       "        vertical-align: top;\n",
       "    }\n",
       "\n",
       "    .dataframe thead th {\n",
       "        text-align: right;\n",
       "    }\n",
       "</style>\n",
       "<table border=\"1\" class=\"dataframe\">\n",
       "  <thead>\n",
       "    <tr style=\"text-align: right;\">\n",
       "      <th></th>\n",
       "      <th>orderid</th>\n",
       "      <th>userid</th>\n",
       "      <th>field0</th>\n",
       "      <th>field1</th>\n",
       "      <th>field2</th>\n",
       "      <th>field3</th>\n",
       "      <th>field4</th>\n",
       "      <th>field5</th>\n",
       "      <th>field6</th>\n",
       "      <th>field7</th>\n",
       "      <th>...</th>\n",
       "      <th>indicator_goal22</th>\n",
       "      <th>indicator_goal23</th>\n",
       "      <th>indicator_goal24</th>\n",
       "      <th>indicator_goal25</th>\n",
       "      <th>goal21</th>\n",
       "      <th>goal22</th>\n",
       "      <th>goal23</th>\n",
       "      <th>goal24</th>\n",
       "      <th>goal25</th>\n",
       "      <th>goal1</th>\n",
       "    </tr>\n",
       "  </thead>\n",
       "  <tbody>\n",
       "    <tr>\n",
       "      <th>0</th>\n",
       "      <td>0</td>\n",
       "      <td>10d654494cbe97bbb25d51ead2600679aff9e097924add...</td>\n",
       "      <td>0</td>\n",
       "      <td>-0.626508</td>\n",
       "      <td>11</td>\n",
       "      <td>12</td>\n",
       "      <td>1</td>\n",
       "      <td>1</td>\n",
       "      <td>0</td>\n",
       "      <td>1</td>\n",
       "      <td>...</td>\n",
       "      <td>1</td>\n",
       "      <td>0</td>\n",
       "      <td>1</td>\n",
       "      <td>1</td>\n",
       "      <td>0</td>\n",
       "      <td>1</td>\n",
       "      <td>0</td>\n",
       "      <td>0</td>\n",
       "      <td>0</td>\n",
       "      <td>0</td>\n",
       "    </tr>\n",
       "    <tr>\n",
       "      <th>1</th>\n",
       "      <td>1</td>\n",
       "      <td>4aafc0391f72bbcf60537aece62923baf9ce644b64ac36...</td>\n",
       "      <td>144</td>\n",
       "      <td>-0.393794</td>\n",
       "      <td>5</td>\n",
       "      <td>7</td>\n",
       "      <td>2</td>\n",
       "      <td>0</td>\n",
       "      <td>0</td>\n",
       "      <td>2</td>\n",
       "      <td>...</td>\n",
       "      <td>1</td>\n",
       "      <td>0</td>\n",
       "      <td>1</td>\n",
       "      <td>0</td>\n",
       "      <td>0</td>\n",
       "      <td>0</td>\n",
       "      <td>0</td>\n",
       "      <td>0</td>\n",
       "      <td>0</td>\n",
       "      <td>0</td>\n",
       "    </tr>\n",
       "    <tr>\n",
       "      <th>2</th>\n",
       "      <td>2</td>\n",
       "      <td>bac8ffef46348f587c8d17137ab01fb24aef21547c647d...</td>\n",
       "      <td>134</td>\n",
       "      <td>-0.548937</td>\n",
       "      <td>2</td>\n",
       "      <td>3</td>\n",
       "      <td>2</td>\n",
       "      <td>0</td>\n",
       "      <td>0</td>\n",
       "      <td>1</td>\n",
       "      <td>...</td>\n",
       "      <td>1</td>\n",
       "      <td>0</td>\n",
       "      <td>1</td>\n",
       "      <td>1</td>\n",
       "      <td>0</td>\n",
       "      <td>0</td>\n",
       "      <td>0</td>\n",
       "      <td>0</td>\n",
       "      <td>0</td>\n",
       "      <td>0</td>\n",
       "    </tr>\n",
       "    <tr>\n",
       "      <th>3</th>\n",
       "      <td>3</td>\n",
       "      <td>0392247b4b87674aba2c32bf2292b105771a6a376871be...</td>\n",
       "      <td>0</td>\n",
       "      <td>-0.238651</td>\n",
       "      <td>10</td>\n",
       "      <td>11</td>\n",
       "      <td>1</td>\n",
       "      <td>1</td>\n",
       "      <td>3</td>\n",
       "      <td>2</td>\n",
       "      <td>...</td>\n",
       "      <td>1</td>\n",
       "      <td>0</td>\n",
       "      <td>1</td>\n",
       "      <td>1</td>\n",
       "      <td>0</td>\n",
       "      <td>0</td>\n",
       "      <td>0</td>\n",
       "      <td>0</td>\n",
       "      <td>0</td>\n",
       "      <td>0</td>\n",
       "    </tr>\n",
       "    <tr>\n",
       "      <th>4</th>\n",
       "      <td>4</td>\n",
       "      <td>d1aeefef311bbeb4bd84876c8d49421f276674527d5578...</td>\n",
       "      <td>0</td>\n",
       "      <td>-0.704079</td>\n",
       "      <td>8</td>\n",
       "      <td>11</td>\n",
       "      <td>1</td>\n",
       "      <td>1</td>\n",
       "      <td>0</td>\n",
       "      <td>1</td>\n",
       "      <td>...</td>\n",
       "      <td>1</td>\n",
       "      <td>0</td>\n",
       "      <td>0</td>\n",
       "      <td>1</td>\n",
       "      <td>0</td>\n",
       "      <td>0</td>\n",
       "      <td>0</td>\n",
       "      <td>0</td>\n",
       "      <td>0</td>\n",
       "      <td>0</td>\n",
       "    </tr>\n",
       "  </tbody>\n",
       "</table>\n",
       "<p>5 rows × 43 columns</p>\n",
       "</div>"
      ],
      "text/plain": [
       "   orderid                                             userid  field0  \\\n",
       "0        0  10d654494cbe97bbb25d51ead2600679aff9e097924add...       0   \n",
       "1        1  4aafc0391f72bbcf60537aece62923baf9ce644b64ac36...     144   \n",
       "2        2  bac8ffef46348f587c8d17137ab01fb24aef21547c647d...     134   \n",
       "3        3  0392247b4b87674aba2c32bf2292b105771a6a376871be...       0   \n",
       "4        4  d1aeefef311bbeb4bd84876c8d49421f276674527d5578...       0   \n",
       "\n",
       "     field1  field2  field3  field4  field5  field6  field7  ...  \\\n",
       "0 -0.626508      11      12       1       1       0       1  ...   \n",
       "1 -0.393794       5       7       2       0       0       2  ...   \n",
       "2 -0.548937       2       3       2       0       0       1  ...   \n",
       "3 -0.238651      10      11       1       1       3       2  ...   \n",
       "4 -0.704079       8      11       1       1       0       1  ...   \n",
       "\n",
       "   indicator_goal22  indicator_goal23  indicator_goal24  indicator_goal25  \\\n",
       "0                 1                 0                 1                 1   \n",
       "1                 1                 0                 1                 0   \n",
       "2                 1                 0                 1                 1   \n",
       "3                 1                 0                 1                 1   \n",
       "4                 1                 0                 0                 1   \n",
       "\n",
       "   goal21  goal22  goal23  goal24  goal25  goal1  \n",
       "0       0       1       0       0       0      0  \n",
       "1       0       0       0       0       0      0  \n",
       "2       0       0       0       0       0      0  \n",
       "3       0       0       0       0       0      0  \n",
       "4       0       0       0       0       0      0  \n",
       "\n",
       "[5 rows x 43 columns]"
      ]
     },
     "execution_count": 4,
     "metadata": {},
     "output_type": "execute_result"
    }
   ],
   "source": [
    "data_train.head()"
   ]
  },
  {
   "cell_type": "code",
   "execution_count": 5,
   "metadata": {},
   "outputs": [
    {
     "data": {
      "text/html": [
       "<div>\n",
       "<style scoped>\n",
       "    .dataframe tbody tr th:only-of-type {\n",
       "        vertical-align: middle;\n",
       "    }\n",
       "\n",
       "    .dataframe tbody tr th {\n",
       "        vertical-align: top;\n",
       "    }\n",
       "\n",
       "    .dataframe thead th {\n",
       "        text-align: right;\n",
       "    }\n",
       "</style>\n",
       "<table border=\"1\" class=\"dataframe\">\n",
       "  <thead>\n",
       "    <tr style=\"text-align: right;\">\n",
       "      <th></th>\n",
       "      <th>orderid</th>\n",
       "      <th>userid</th>\n",
       "      <th>field0</th>\n",
       "      <th>field1</th>\n",
       "      <th>field2</th>\n",
       "      <th>field3</th>\n",
       "      <th>field4</th>\n",
       "      <th>field5</th>\n",
       "      <th>field6</th>\n",
       "      <th>field7</th>\n",
       "      <th>...</th>\n",
       "      <th>field25</th>\n",
       "      <th>field26</th>\n",
       "      <th>field27</th>\n",
       "      <th>field28</th>\n",
       "      <th>field29</th>\n",
       "      <th>indicator_goal21</th>\n",
       "      <th>indicator_goal22</th>\n",
       "      <th>indicator_goal23</th>\n",
       "      <th>indicator_goal24</th>\n",
       "      <th>indicator_goal25</th>\n",
       "    </tr>\n",
       "  </thead>\n",
       "  <tbody>\n",
       "    <tr>\n",
       "      <th>0</th>\n",
       "      <td>0</td>\n",
       "      <td>3a6a6af55e097d3f92705936a7ea3ca8aef651f5966832...</td>\n",
       "      <td>0</td>\n",
       "      <td>-0.548937</td>\n",
       "      <td>10</td>\n",
       "      <td>10</td>\n",
       "      <td>1</td>\n",
       "      <td>1</td>\n",
       "      <td>0</td>\n",
       "      <td>1</td>\n",
       "      <td>...</td>\n",
       "      <td>1</td>\n",
       "      <td>1</td>\n",
       "      <td>1</td>\n",
       "      <td>0</td>\n",
       "      <td>4</td>\n",
       "      <td>1</td>\n",
       "      <td>1</td>\n",
       "      <td>0</td>\n",
       "      <td>0</td>\n",
       "      <td>1</td>\n",
       "    </tr>\n",
       "    <tr>\n",
       "      <th>1</th>\n",
       "      <td>1</td>\n",
       "      <td>2df10f61960163da94a4294773ed9c865296e37c330304...</td>\n",
       "      <td>82</td>\n",
       "      <td>-0.626508</td>\n",
       "      <td>3</td>\n",
       "      <td>4</td>\n",
       "      <td>3</td>\n",
       "      <td>0</td>\n",
       "      <td>0</td>\n",
       "      <td>1</td>\n",
       "      <td>...</td>\n",
       "      <td>1</td>\n",
       "      <td>1</td>\n",
       "      <td>1</td>\n",
       "      <td>0</td>\n",
       "      <td>1</td>\n",
       "      <td>1</td>\n",
       "      <td>1</td>\n",
       "      <td>0</td>\n",
       "      <td>1</td>\n",
       "      <td>1</td>\n",
       "    </tr>\n",
       "    <tr>\n",
       "      <th>2</th>\n",
       "      <td>2</td>\n",
       "      <td>20dc3fec5b5eb42fbfe08119063c3a0010a73c7ec94abb...</td>\n",
       "      <td>0</td>\n",
       "      <td>-0.548937</td>\n",
       "      <td>6</td>\n",
       "      <td>8</td>\n",
       "      <td>1</td>\n",
       "      <td>1</td>\n",
       "      <td>0</td>\n",
       "      <td>2</td>\n",
       "      <td>...</td>\n",
       "      <td>35</td>\n",
       "      <td>1</td>\n",
       "      <td>1</td>\n",
       "      <td>0</td>\n",
       "      <td>2</td>\n",
       "      <td>1</td>\n",
       "      <td>0</td>\n",
       "      <td>0</td>\n",
       "      <td>1</td>\n",
       "      <td>1</td>\n",
       "    </tr>\n",
       "    <tr>\n",
       "      <th>3</th>\n",
       "      <td>3</td>\n",
       "      <td>ed75b3496977bac207eccb59dc91fe9a8d6a27777a6422...</td>\n",
       "      <td>6</td>\n",
       "      <td>0.304348</td>\n",
       "      <td>7</td>\n",
       "      <td>7</td>\n",
       "      <td>2</td>\n",
       "      <td>0</td>\n",
       "      <td>10</td>\n",
       "      <td>1</td>\n",
       "      <td>...</td>\n",
       "      <td>1</td>\n",
       "      <td>3</td>\n",
       "      <td>1</td>\n",
       "      <td>0</td>\n",
       "      <td>3</td>\n",
       "      <td>1</td>\n",
       "      <td>1</td>\n",
       "      <td>0</td>\n",
       "      <td>1</td>\n",
       "      <td>1</td>\n",
       "    </tr>\n",
       "    <tr>\n",
       "      <th>4</th>\n",
       "      <td>4</td>\n",
       "      <td>a346d08351c5fd0bda82984ed7c8b12b6395829da5b857...</td>\n",
       "      <td>115</td>\n",
       "      <td>-0.471365</td>\n",
       "      <td>3</td>\n",
       "      <td>3</td>\n",
       "      <td>2</td>\n",
       "      <td>0</td>\n",
       "      <td>0</td>\n",
       "      <td>1</td>\n",
       "      <td>...</td>\n",
       "      <td>1</td>\n",
       "      <td>1</td>\n",
       "      <td>1</td>\n",
       "      <td>0</td>\n",
       "      <td>1</td>\n",
       "      <td>1</td>\n",
       "      <td>1</td>\n",
       "      <td>0</td>\n",
       "      <td>1</td>\n",
       "      <td>1</td>\n",
       "    </tr>\n",
       "  </tbody>\n",
       "</table>\n",
       "<p>5 rows × 37 columns</p>\n",
       "</div>"
      ],
      "text/plain": [
       "   orderid                                             userid  field0  \\\n",
       "0        0  3a6a6af55e097d3f92705936a7ea3ca8aef651f5966832...       0   \n",
       "1        1  2df10f61960163da94a4294773ed9c865296e37c330304...      82   \n",
       "2        2  20dc3fec5b5eb42fbfe08119063c3a0010a73c7ec94abb...       0   \n",
       "3        3  ed75b3496977bac207eccb59dc91fe9a8d6a27777a6422...       6   \n",
       "4        4  a346d08351c5fd0bda82984ed7c8b12b6395829da5b857...     115   \n",
       "\n",
       "     field1  field2  field3  field4  field5  field6  field7  ...  field25  \\\n",
       "0 -0.548937      10      10       1       1       0       1  ...        1   \n",
       "1 -0.626508       3       4       3       0       0       1  ...        1   \n",
       "2 -0.548937       6       8       1       1       0       2  ...       35   \n",
       "3  0.304348       7       7       2       0      10       1  ...        1   \n",
       "4 -0.471365       3       3       2       0       0       1  ...        1   \n",
       "\n",
       "   field26  field27  field28  field29  indicator_goal21  indicator_goal22  \\\n",
       "0        1        1        0        4                 1                 1   \n",
       "1        1        1        0        1                 1                 1   \n",
       "2        1        1        0        2                 1                 0   \n",
       "3        3        1        0        3                 1                 1   \n",
       "4        1        1        0        1                 1                 1   \n",
       "\n",
       "   indicator_goal23  indicator_goal24  indicator_goal25  \n",
       "0                 0                 0                 1  \n",
       "1                 0                 1                 1  \n",
       "2                 0                 1                 1  \n",
       "3                 0                 1                 1  \n",
       "4                 0                 1                 1  \n",
       "\n",
       "[5 rows x 37 columns]"
      ]
     },
     "execution_count": 5,
     "metadata": {},
     "output_type": "execute_result"
    }
   ],
   "source": [
    "data_test.head()"
   ]
  },
  {
   "cell_type": "markdown",
   "metadata": {},
   "source": [
    "### Проведем немного FE (feature enginering):"
   ]
  },
  {
   "cell_type": "code",
   "execution_count": 6,
   "metadata": {},
   "outputs": [],
   "source": [
    "full_data = pd.concat([data_train, data_test], axis=0, sort=False)"
   ]
  },
  {
   "cell_type": "code",
   "execution_count": 7,
   "metadata": {},
   "outputs": [],
   "source": [
    "full_data = full_data.fillna(-1)"
   ]
  },
  {
   "cell_type": "code",
   "execution_count": 8,
   "metadata": {},
   "outputs": [],
   "source": [
    "\n",
    "full_data.drop(['goal21'], inplace=True, axis=1)\n",
    "full_data.drop(['goal22'], inplace=True, axis=1)\n",
    "full_data.drop(['goal23'], inplace=True, axis=1)\n",
    "full_data.drop(['goal24'], inplace=True, axis=1)\n",
    "full_data.drop(['goal25'], inplace=True, axis=1)\n",
    "# full_data.drop(['indicator_goal21'], inplace=True, axis=1)\n",
    "# full_data.drop(['indicator_goal22'], inplace=True, axis=1)\n",
    "# full_data.drop(['indicator_goal23'], inplace=True, axis=1)\n",
    "# full_data.drop(['indicator_goal24'], inplace=True, axis=1)\n",
    "# full_data.drop(['indicator_goal25'], inplace=True, axis=1)"
   ]
  },
  {
   "cell_type": "code",
   "execution_count": 9,
   "metadata": {},
   "outputs": [
    {
     "data": {
      "text/plain": [
       "orderid             455011\n",
       "userid              378449\n",
       "field0                 503\n",
       "field1                 317\n",
       "field2                  12\n",
       "field3                  12\n",
       "field4                 756\n",
       "field5                   2\n",
       "field6                 212\n",
       "field7                   2\n",
       "field8                   2\n",
       "field9                   5\n",
       "field10                  2\n",
       "field11                 24\n",
       "field12                316\n",
       "field13                929\n",
       "field14                199\n",
       "field15                 15\n",
       "field16                332\n",
       "field17                180\n",
       "field18                  7\n",
       "field19                 10\n",
       "field20                  7\n",
       "field21                  2\n",
       "field22               1050\n",
       "field23                 24\n",
       "field24                 15\n",
       "field25                194\n",
       "field26                 30\n",
       "field27                  7\n",
       "field28                 12\n",
       "field29                  4\n",
       "indicator_goal21         2\n",
       "indicator_goal22         2\n",
       "indicator_goal23         2\n",
       "indicator_goal24         2\n",
       "indicator_goal25         2\n",
       "goal1                    3\n",
       "dtype: int64"
      ]
     },
     "execution_count": 9,
     "metadata": {},
     "output_type": "execute_result"
    }
   ],
   "source": [
    "full_data.nunique()"
   ]
  },
  {
   "cell_type": "markdown",
   "metadata": {},
   "source": [
    "0, 1, 2, 3, 4, 12, 15, 18, 21, 29 "
   ]
  },
  {
   "cell_type": "code",
   "execution_count": 10,
   "metadata": {},
   "outputs": [],
   "source": [
    "from tqdm import tqdm_notebook"
   ]
  },
  {
   "cell_type": "code",
   "execution_count": null,
   "metadata": {},
   "outputs": [],
   "source": []
  },
  {
   "cell_type": "code",
   "execution_count": 11,
   "metadata": {},
   "outputs": [
    {
     "data": {
      "application/vnd.jupyter.widget-view+json": {
       "model_id": "81a906c1d400476b9faa66e919dc9194",
       "version_major": 2,
       "version_minor": 0
      },
      "text/plain": [
       "HBox(children=(FloatProgress(value=0.0, max=36.0), HTML(value='')))"
      ]
     },
     "metadata": {},
     "output_type": "display_data"
    },
    {
     "name": "stdout",
     "output_type": "stream",
     "text": [
      "\n"
     ]
    },
    {
     "data": {
      "application/vnd.jupyter.widget-view+json": {
       "model_id": "5f381b91474b41bbace29ccee96256c7",
       "version_major": 2,
       "version_minor": 0
      },
      "text/plain": [
       "HBox(children=(FloatProgress(value=0.0, max=36.0), HTML(value='')))"
      ]
     },
     "metadata": {},
     "output_type": "display_data"
    },
    {
     "name": "stdout",
     "output_type": "stream",
     "text": [
      "\n"
     ]
    },
    {
     "data": {
      "application/vnd.jupyter.widget-view+json": {
       "model_id": "a074977114b64da0a80457d50085cce2",
       "version_major": 2,
       "version_minor": 0
      },
      "text/plain": [
       "HBox(children=(FloatProgress(value=0.0, max=36.0), HTML(value='')))"
      ]
     },
     "metadata": {},
     "output_type": "display_data"
    },
    {
     "name": "stdout",
     "output_type": "stream",
     "text": [
      "\n"
     ]
    },
    {
     "data": {
      "application/vnd.jupyter.widget-view+json": {
       "model_id": "8f7500ac99384076a40e49207fe482cf",
       "version_major": 2,
       "version_minor": 0
      },
      "text/plain": [
       "HBox(children=(FloatProgress(value=0.0, max=36.0), HTML(value='')))"
      ]
     },
     "metadata": {},
     "output_type": "display_data"
    },
    {
     "name": "stdout",
     "output_type": "stream",
     "text": [
      "\n"
     ]
    },
    {
     "data": {
      "application/vnd.jupyter.widget-view+json": {
       "model_id": "037712027829485db80c4496cfe03e77",
       "version_major": 2,
       "version_minor": 0
      },
      "text/plain": [
       "HBox(children=(FloatProgress(value=0.0, max=36.0), HTML(value='')))"
      ]
     },
     "metadata": {},
     "output_type": "display_data"
    },
    {
     "name": "stdout",
     "output_type": "stream",
     "text": [
      "\n"
     ]
    },
    {
     "data": {
      "application/vnd.jupyter.widget-view+json": {
       "model_id": "c2d06e016c0d4fb7bd59a738922fcddf",
       "version_major": 2,
       "version_minor": 0
      },
      "text/plain": [
       "HBox(children=(FloatProgress(value=0.0, max=36.0), HTML(value='')))"
      ]
     },
     "metadata": {},
     "output_type": "display_data"
    },
    {
     "name": "stdout",
     "output_type": "stream",
     "text": [
      "\n"
     ]
    },
    {
     "data": {
      "application/vnd.jupyter.widget-view+json": {
       "model_id": "4904fce309d3451abe36f1f9d5ad50f3",
       "version_major": 2,
       "version_minor": 0
      },
      "text/plain": [
       "HBox(children=(FloatProgress(value=0.0, max=36.0), HTML(value='')))"
      ]
     },
     "metadata": {},
     "output_type": "display_data"
    },
    {
     "name": "stdout",
     "output_type": "stream",
     "text": [
      "\n"
     ]
    },
    {
     "data": {
      "application/vnd.jupyter.widget-view+json": {
       "model_id": "3690fc69d247434a96701f90257ef445",
       "version_major": 2,
       "version_minor": 0
      },
      "text/plain": [
       "HBox(children=(FloatProgress(value=0.0, max=36.0), HTML(value='')))"
      ]
     },
     "metadata": {},
     "output_type": "display_data"
    },
    {
     "name": "stdout",
     "output_type": "stream",
     "text": [
      "\n"
     ]
    },
    {
     "data": {
      "application/vnd.jupyter.widget-view+json": {
       "model_id": "53f9527767664d7c91e2306c30e9bf38",
       "version_major": 2,
       "version_minor": 0
      },
      "text/plain": [
       "HBox(children=(FloatProgress(value=0.0, max=36.0), HTML(value='')))"
      ]
     },
     "metadata": {},
     "output_type": "display_data"
    },
    {
     "name": "stdout",
     "output_type": "stream",
     "text": [
      "\n"
     ]
    },
    {
     "data": {
      "application/vnd.jupyter.widget-view+json": {
       "model_id": "473c150ccf6e4f07b5c32f8dcc8855ba",
       "version_major": 2,
       "version_minor": 0
      },
      "text/plain": [
       "HBox(children=(FloatProgress(value=0.0, max=36.0), HTML(value='')))"
      ]
     },
     "metadata": {},
     "output_type": "display_data"
    },
    {
     "name": "stdout",
     "output_type": "stream",
     "text": [
      "\n"
     ]
    },
    {
     "data": {
      "application/vnd.jupyter.widget-view+json": {
       "model_id": "ccfbc46af706490f8c9bb011584ce4ac",
       "version_major": 2,
       "version_minor": 0
      },
      "text/plain": [
       "HBox(children=(FloatProgress(value=0.0, max=36.0), HTML(value='')))"
      ]
     },
     "metadata": {},
     "output_type": "display_data"
    },
    {
     "name": "stdout",
     "output_type": "stream",
     "text": [
      "\n"
     ]
    },
    {
     "data": {
      "application/vnd.jupyter.widget-view+json": {
       "model_id": "6edf36ac24014911ab5126dbb5433047",
       "version_major": 2,
       "version_minor": 0
      },
      "text/plain": [
       "HBox(children=(FloatProgress(value=0.0, max=36.0), HTML(value='')))"
      ]
     },
     "metadata": {},
     "output_type": "display_data"
    },
    {
     "name": "stdout",
     "output_type": "stream",
     "text": [
      "\n"
     ]
    },
    {
     "data": {
      "application/vnd.jupyter.widget-view+json": {
       "model_id": "9c4148553a4d4c01bb345649fd6f4100",
       "version_major": 2,
       "version_minor": 0
      },
      "text/plain": [
       "HBox(children=(FloatProgress(value=0.0, max=36.0), HTML(value='')))"
      ]
     },
     "metadata": {},
     "output_type": "display_data"
    },
    {
     "name": "stdout",
     "output_type": "stream",
     "text": [
      "\n"
     ]
    },
    {
     "data": {
      "application/vnd.jupyter.widget-view+json": {
       "model_id": "43836d91c3b8457ca4d94c2e4dc5cff9",
       "version_major": 2,
       "version_minor": 0
      },
      "text/plain": [
       "HBox(children=(FloatProgress(value=0.0, max=36.0), HTML(value='')))"
      ]
     },
     "metadata": {},
     "output_type": "display_data"
    },
    {
     "name": "stdout",
     "output_type": "stream",
     "text": [
      "\n"
     ]
    },
    {
     "data": {
      "application/vnd.jupyter.widget-view+json": {
       "model_id": "eb4abe78fcca4a3fa3741940eec7c4dc",
       "version_major": 2,
       "version_minor": 0
      },
      "text/plain": [
       "HBox(children=(FloatProgress(value=0.0, max=36.0), HTML(value='')))"
      ]
     },
     "metadata": {},
     "output_type": "display_data"
    },
    {
     "name": "stdout",
     "output_type": "stream",
     "text": [
      "\n",
      "CPU times: user 5min 9s, sys: 2min 40s, total: 7min 50s\n",
      "Wall time: 7min 46s\n"
     ]
    }
   ],
   "source": [
    "%%time\n",
    "\n",
    "\n",
    "group_by_features = ['userid', 'field0', 'field1',\n",
    "                     'field2', 'field3',# 'field4', 'field6', 'field9', 'field11'\n",
    "                     'field12', 'field15', 'field18',\n",
    "                     'field21', 'field29', 'indicator_goal21', 'indicator_goal22', 'indicator_goal23',\n",
    "                     'indicator_goal24', 'indicator_goal25']\n",
    "cols = full_data.columns.delete(1)[:-1]\n",
    "\n",
    "for group_by_feature in group_by_features:\n",
    "    for fname in tqdm_notebook(cols):\n",
    "        full_data[f'{fname}_to_mean_{group_by_feature}'] = full_data[fname] / full_data.groupby([group_by_feature])[\n",
    "            fname].transform('mean').replace(-np.inf, np.nan).replace(np.inf, np.nan).astype(np.float32)\n",
    "        full_data[f'{fname}_to_std_{group_by_feature}'] = full_data[fname] / full_data.groupby([group_by_feature])[\n",
    "            fname].transform('std').replace(-np.inf, np.nan).replace(np.inf, np.nan).astype(np.float32)"
   ]
  },
  {
   "cell_type": "code",
   "execution_count": 12,
   "metadata": {},
   "outputs": [
    {
     "data": {
      "text/plain": [
       "(651067, 1118)"
      ]
     },
     "execution_count": 12,
     "metadata": {},
     "output_type": "execute_result"
    }
   ],
   "source": [
    "full_data.shape"
   ]
  },
  {
   "cell_type": "code",
   "execution_count": 13,
   "metadata": {},
   "outputs": [],
   "source": [
    "full_data['tickets_amount_wout_baby'] = full_data['field15'] - full_data['field9']\n",
    "full_data['order_cost_1'] = full_data['field14'] * full_data['field15']\n",
    "full_data['prices_ratio'] = full_data['field1'] / (full_data['field14'] * full_data['field15'])"
   ]
  },
  {
   "cell_type": "code",
   "execution_count": 14,
   "metadata": {},
   "outputs": [],
   "source": [
    "full_data = pd.merge(full_data.reset_index(), full_data.groupby('userid')['field0'].agg(['count']), on='userid', how='left').set_index('orderid')"
   ]
  },
  {
   "cell_type": "code",
   "execution_count": 15,
   "metadata": {},
   "outputs": [],
   "source": [
    "full_data = pd.merge(full_data.reset_index(), full_data.groupby('userid')['field1'].agg(['mean','std']), on='userid').rename(columns={'mean':'field1_stat_mean','std':'field1_stat_std'})\n",
    "full_data = pd.merge(full_data, full_data.groupby('userid')['field14'].agg(['mean','std']), on='userid').rename(columns={'mean':'field14_stat_mean','std':'field14_stat_std'})\n",
    "# full_data = pd.merge(full_data, full_data.groupby('userid')['field24'].agg(['mean','std']), on='userid').rename(columns={'mean':'field24_stat_mean','std':'field24_stat_std'})\n",
    "full_data = full_data.set_index('orderid')"
   ]
  },
  {
   "cell_type": "code",
   "execution_count": 174,
   "metadata": {},
   "outputs": [],
   "source": [
    "data_train = full_data[full_data['goal1'] >= 0]\n",
    "data_test = full_data[full_data['goal1'] < 0]"
   ]
  },
  {
   "cell_type": "markdown",
   "metadata": {},
   "source": [
    "## получаем таблички для обучения"
   ]
  },
  {
   "cell_type": "code",
   "execution_count": 175,
   "metadata": {},
   "outputs": [],
   "source": [
    "y = data_train.pop('goal1') # целевая переменная для первой задачи"
   ]
  },
  {
   "cell_type": "code",
   "execution_count": 176,
   "metadata": {},
   "outputs": [],
   "source": [
    "y = y.values # мне так спокойней - в numpy.array"
   ]
  },
  {
   "cell_type": "code",
   "execution_count": 177,
   "metadata": {
    "scrolled": false
   },
   "outputs": [
    {
     "data": {
      "text/html": [
       "<div>\n",
       "<style scoped>\n",
       "    .dataframe tbody tr th:only-of-type {\n",
       "        vertical-align: middle;\n",
       "    }\n",
       "\n",
       "    .dataframe tbody tr th {\n",
       "        vertical-align: top;\n",
       "    }\n",
       "\n",
       "    .dataframe thead th {\n",
       "        text-align: right;\n",
       "    }\n",
       "</style>\n",
       "<table border=\"1\" class=\"dataframe\">\n",
       "  <thead>\n",
       "    <tr style=\"text-align: right;\">\n",
       "      <th></th>\n",
       "      <th>index</th>\n",
       "      <th>userid</th>\n",
       "      <th>field0</th>\n",
       "      <th>field1</th>\n",
       "      <th>field2</th>\n",
       "      <th>field3</th>\n",
       "      <th>field4</th>\n",
       "      <th>field5</th>\n",
       "      <th>field6</th>\n",
       "      <th>field7</th>\n",
       "      <th>...</th>\n",
       "      <th>indicator_goal25_to_mean_indicator_goal25</th>\n",
       "      <th>indicator_goal25_to_std_indicator_goal25</th>\n",
       "      <th>tickets_amount_wout_baby</th>\n",
       "      <th>order_cost_1</th>\n",
       "      <th>prices_ratio</th>\n",
       "      <th>count</th>\n",
       "      <th>field1_stat_mean</th>\n",
       "      <th>field1_stat_std</th>\n",
       "      <th>field14_stat_mean</th>\n",
       "      <th>field14_stat_std</th>\n",
       "    </tr>\n",
       "    <tr>\n",
       "      <th>orderid</th>\n",
       "      <th></th>\n",
       "      <th></th>\n",
       "      <th></th>\n",
       "      <th></th>\n",
       "      <th></th>\n",
       "      <th></th>\n",
       "      <th></th>\n",
       "      <th></th>\n",
       "      <th></th>\n",
       "      <th></th>\n",
       "      <th></th>\n",
       "      <th></th>\n",
       "      <th></th>\n",
       "      <th></th>\n",
       "      <th></th>\n",
       "      <th></th>\n",
       "      <th></th>\n",
       "      <th></th>\n",
       "      <th></th>\n",
       "      <th></th>\n",
       "      <th></th>\n",
       "    </tr>\n",
       "  </thead>\n",
       "  <tbody>\n",
       "    <tr>\n",
       "      <th>0</th>\n",
       "      <td>0</td>\n",
       "      <td>10d654494cbe97bbb25d51ead2600679aff9e097924add...</td>\n",
       "      <td>0</td>\n",
       "      <td>-0.626508</td>\n",
       "      <td>11</td>\n",
       "      <td>12</td>\n",
       "      <td>1</td>\n",
       "      <td>1</td>\n",
       "      <td>0</td>\n",
       "      <td>1</td>\n",
       "      <td>...</td>\n",
       "      <td>1.0</td>\n",
       "      <td>inf</td>\n",
       "      <td>1</td>\n",
       "      <td>-0.661308</td>\n",
       "      <td>0.947377</td>\n",
       "      <td>1</td>\n",
       "      <td>-0.626508</td>\n",
       "      <td>NaN</td>\n",
       "      <td>-0.661308</td>\n",
       "      <td>NaN</td>\n",
       "    </tr>\n",
       "    <tr>\n",
       "      <th>1</th>\n",
       "      <td>1</td>\n",
       "      <td>4aafc0391f72bbcf60537aece62923baf9ce644b64ac36...</td>\n",
       "      <td>144</td>\n",
       "      <td>-0.393794</td>\n",
       "      <td>5</td>\n",
       "      <td>7</td>\n",
       "      <td>2</td>\n",
       "      <td>0</td>\n",
       "      <td>0</td>\n",
       "      <td>2</td>\n",
       "      <td>...</td>\n",
       "      <td>NaN</td>\n",
       "      <td>NaN</td>\n",
       "      <td>1</td>\n",
       "      <td>-0.101043</td>\n",
       "      <td>3.897296</td>\n",
       "      <td>2</td>\n",
       "      <td>-0.393794</td>\n",
       "      <td>0.000000</td>\n",
       "      <td>-0.171076</td>\n",
       "      <td>0.099042</td>\n",
       "    </tr>\n",
       "    <tr>\n",
       "      <th>174861</th>\n",
       "      <td>174861</td>\n",
       "      <td>4aafc0391f72bbcf60537aece62923baf9ce644b64ac36...</td>\n",
       "      <td>0</td>\n",
       "      <td>-0.393794</td>\n",
       "      <td>12</td>\n",
       "      <td>2</td>\n",
       "      <td>1</td>\n",
       "      <td>1</td>\n",
       "      <td>0</td>\n",
       "      <td>2</td>\n",
       "      <td>...</td>\n",
       "      <td>NaN</td>\n",
       "      <td>NaN</td>\n",
       "      <td>1</td>\n",
       "      <td>-0.241109</td>\n",
       "      <td>1.633260</td>\n",
       "      <td>2</td>\n",
       "      <td>-0.393794</td>\n",
       "      <td>0.000000</td>\n",
       "      <td>-0.171076</td>\n",
       "      <td>0.099042</td>\n",
       "    </tr>\n",
       "    <tr>\n",
       "      <th>2</th>\n",
       "      <td>2</td>\n",
       "      <td>bac8ffef46348f587c8d17137ab01fb24aef21547c647d...</td>\n",
       "      <td>134</td>\n",
       "      <td>-0.548937</td>\n",
       "      <td>2</td>\n",
       "      <td>3</td>\n",
       "      <td>2</td>\n",
       "      <td>0</td>\n",
       "      <td>0</td>\n",
       "      <td>1</td>\n",
       "      <td>...</td>\n",
       "      <td>1.0</td>\n",
       "      <td>inf</td>\n",
       "      <td>1</td>\n",
       "      <td>-0.661308</td>\n",
       "      <td>0.830077</td>\n",
       "      <td>2</td>\n",
       "      <td>-0.587722</td>\n",
       "      <td>0.054851</td>\n",
       "      <td>-0.661308</td>\n",
       "      <td>0.000000</td>\n",
       "    </tr>\n",
       "    <tr>\n",
       "      <th>173820</th>\n",
       "      <td>173820</td>\n",
       "      <td>bac8ffef46348f587c8d17137ab01fb24aef21547c647d...</td>\n",
       "      <td>0</td>\n",
       "      <td>-0.626508</td>\n",
       "      <td>10</td>\n",
       "      <td>10</td>\n",
       "      <td>1</td>\n",
       "      <td>1</td>\n",
       "      <td>0</td>\n",
       "      <td>1</td>\n",
       "      <td>...</td>\n",
       "      <td>1.0</td>\n",
       "      <td>inf</td>\n",
       "      <td>1</td>\n",
       "      <td>-0.661308</td>\n",
       "      <td>0.947377</td>\n",
       "      <td>2</td>\n",
       "      <td>-0.587722</td>\n",
       "      <td>0.054851</td>\n",
       "      <td>-0.661308</td>\n",
       "      <td>0.000000</td>\n",
       "    </tr>\n",
       "  </tbody>\n",
       "</table>\n",
       "<p>5 rows × 1125 columns</p>\n",
       "</div>"
      ],
      "text/plain": [
       "          index                                             userid  field0  \\\n",
       "orderid                                                                      \n",
       "0             0  10d654494cbe97bbb25d51ead2600679aff9e097924add...       0   \n",
       "1             1  4aafc0391f72bbcf60537aece62923baf9ce644b64ac36...     144   \n",
       "174861   174861  4aafc0391f72bbcf60537aece62923baf9ce644b64ac36...       0   \n",
       "2             2  bac8ffef46348f587c8d17137ab01fb24aef21547c647d...     134   \n",
       "173820   173820  bac8ffef46348f587c8d17137ab01fb24aef21547c647d...       0   \n",
       "\n",
       "           field1  field2  field3  field4  field5  field6  field7  ...  \\\n",
       "orderid                                                            ...   \n",
       "0       -0.626508      11      12       1       1       0       1  ...   \n",
       "1       -0.393794       5       7       2       0       0       2  ...   \n",
       "174861  -0.393794      12       2       1       1       0       2  ...   \n",
       "2       -0.548937       2       3       2       0       0       1  ...   \n",
       "173820  -0.626508      10      10       1       1       0       1  ...   \n",
       "\n",
       "         indicator_goal25_to_mean_indicator_goal25  \\\n",
       "orderid                                              \n",
       "0                                              1.0   \n",
       "1                                              NaN   \n",
       "174861                                         NaN   \n",
       "2                                              1.0   \n",
       "173820                                         1.0   \n",
       "\n",
       "         indicator_goal25_to_std_indicator_goal25  tickets_amount_wout_baby  \\\n",
       "orderid                                                                       \n",
       "0                                             inf                         1   \n",
       "1                                             NaN                         1   \n",
       "174861                                        NaN                         1   \n",
       "2                                             inf                         1   \n",
       "173820                                        inf                         1   \n",
       "\n",
       "         order_cost_1  prices_ratio  count  field1_stat_mean  field1_stat_std  \\\n",
       "orderid                                                                         \n",
       "0           -0.661308      0.947377      1         -0.626508              NaN   \n",
       "1           -0.101043      3.897296      2         -0.393794         0.000000   \n",
       "174861      -0.241109      1.633260      2         -0.393794         0.000000   \n",
       "2           -0.661308      0.830077      2         -0.587722         0.054851   \n",
       "173820      -0.661308      0.947377      2         -0.587722         0.054851   \n",
       "\n",
       "         field14_stat_mean  field14_stat_std  \n",
       "orderid                                       \n",
       "0                -0.661308               NaN  \n",
       "1                -0.171076          0.099042  \n",
       "174861           -0.171076          0.099042  \n",
       "2                -0.661308          0.000000  \n",
       "173820           -0.661308          0.000000  \n",
       "\n",
       "[5 rows x 1125 columns]"
      ]
     },
     "execution_count": 177,
     "metadata": {},
     "output_type": "execute_result"
    }
   ],
   "source": [
    "# что получилось\n",
    "data_train.head()"
   ]
  },
  {
   "cell_type": "code",
   "execution_count": 178,
   "metadata": {},
   "outputs": [],
   "source": [
    "# удаляем ненужные признаки\n",
    "train_userid = data_train['userid']\n",
    "ids = data_test.pop('index') # сохраняем id для теста\n"
   ]
  },
  {
   "cell_type": "code",
   "execution_count": 179,
   "metadata": {},
   "outputs": [],
   "source": [
    "data_test.drop(['userid'], inplace=True, axis=1)\n",
    "data_test.drop(['goal1'], inplace=True, axis=1)\n"
   ]
  },
  {
   "cell_type": "code",
   "execution_count": 180,
   "metadata": {
    "scrolled": true
   },
   "outputs": [
    {
     "data": {
      "text/plain": [
       "Index(['field0', 'field1', 'field2', 'field3', 'field4', 'field5', 'field6',\n",
       "       'field7', 'field8', 'field9',\n",
       "       ...\n",
       "       'indicator_goal25_to_mean_indicator_goal25',\n",
       "       'indicator_goal25_to_std_indicator_goal25', 'tickets_amount_wout_baby',\n",
       "       'order_cost_1', 'prices_ratio', 'count', 'field1_stat_mean',\n",
       "       'field1_stat_std', 'field14_stat_mean', 'field14_stat_std'],\n",
       "      dtype='object', length=1123)"
      ]
     },
     "execution_count": 180,
     "metadata": {},
     "output_type": "execute_result"
    }
   ],
   "source": [
    "cols = data_test.columns # значимые колонки\n",
    "cols"
   ]
  },
  {
   "cell_type": "code",
   "execution_count": 181,
   "metadata": {},
   "outputs": [],
   "source": [
    "data_train = data_train[cols]"
   ]
  },
  {
   "cell_type": "code",
   "execution_count": null,
   "metadata": {},
   "outputs": [],
   "source": []
  },
  {
   "cell_type": "code",
   "execution_count": null,
   "metadata": {},
   "outputs": [],
   "source": []
  },
  {
   "cell_type": "markdown",
   "metadata": {},
   "source": [
    "### Эксперименты\n",
    "\n",
    "сначала делим выборку на обучение и тест\n",
    "\n",
    "не самое лучшее решение, но для быстроты экспериментов сгодится"
   ]
  },
  {
   "cell_type": "code",
   "execution_count": 40,
   "metadata": {},
   "outputs": [],
   "source": [
    "from sklearn.model_selection import train_test_split\n",
    "X_train, X_test, y_train, y_test = train_test_split(data_train, y, test_size=0.3, random_state=13)"
   ]
  },
  {
   "cell_type": "markdown",
   "metadata": {},
   "source": [
    "### Случайный лес\n",
    "\n",
    "\n",
    "строим по одному дереву и вычисляем метрику качества (ROC AUC)\n",
    "\n",
    "обратите внимание на прогресс-бар"
   ]
  },
  {
   "cell_type": "code",
   "execution_count": 41,
   "metadata": {},
   "outputs": [],
   "source": [
    "# from sklearn.ensemble import RandomForestClassifier\n",
    "# from sklearn.metrics import roc_auc_score\n",
    "\n",
    "# model = RandomForestClassifier(max_features=1, n_estimators=1, oob_score=False, warm_start=True, random_state=1)\n",
    "\n",
    "# aucs = []\n",
    "# for t in tqdm_notebook(list(range(1, 101))):\n",
    "#     model.set_params(n_estimators=t)\n",
    "#     model.fit(X_train, y_train)\n",
    "#     a = model.predict_proba(X_test)[:, 1]\n",
    "#     q = roc_auc_score(y_test, a)\n",
    "#     aucs.append(q)\n",
    "    \n",
    "# plt.plot(range(1, 101), aucs)"
   ]
  },
  {
   "cell_type": "code",
   "execution_count": 42,
   "metadata": {},
   "outputs": [],
   "source": [
    "# # аналогичные эксперименты с max_features=2\n",
    "\n",
    "# model = RandomForestClassifier(max_features=2, n_estimators=1, oob_score=False, warm_start=True, random_state=1)\n",
    "\n",
    "# aucs = []\n",
    "# for t in tqdm_notebook(list(range(1, 101))):\n",
    "#     model.set_params(n_estimators=t)\n",
    "#     model.fit(X_train, y_train)\n",
    "#     a = model.predict_proba(X_test)[:, 1]\n",
    "#     q = roc_auc_score(y_test, a)\n",
    "#     aucs.append(q)\n",
    "    \n",
    "# plt.plot(range(1, 101), aucs)   "
   ]
  },
  {
   "cell_type": "markdown",
   "metadata": {},
   "source": [
    "### Модель с кросс-валидацией:"
   ]
  },
  {
   "cell_type": "code",
   "execution_count": 43,
   "metadata": {},
   "outputs": [],
   "source": [
    "from sklearn.model_selection import GroupKFold, StratifiedKFold\n",
    "\n",
    "N_SPLITS = 5\n",
    "gr_kfold = StratifiedKFold(n_splits=N_SPLITS)"
   ]
  },
  {
   "cell_type": "code",
   "execution_count": 44,
   "metadata": {},
   "outputs": [],
   "source": [
    "import lightgbm as lgb\n",
    "model = lgb.LGBMClassifier(bagging_fraction=0.5539674763124854, bagging_freq=5,\n",
    "               boosting_type='gbdt', class_weight=None,\n",
    "               colsample_bytree=0.7841488307689868, eval_metric='AUC',\n",
    "               importance_type='split', lambda_l1=7.892207361708597,\n",
    "               lambda_l2=8.705620624758234, learning_rate=0.03909410437165517,\n",
    "               max_bin=270, max_depth=10, metric='AUC', min_child_samples=20,\n",
    "               min_child_weight=0.001, min_split_gain=0.0, n_estimators=2000,\n",
    "               n_jobs=16, num_leaves=15, objective='binary', random_state=None,\n",
    "               reg_alpha=0.0, reg_lambda=0.0, seed=42, silent=True,\n",
    "               subsample=1.0, subsample_for_bin=200000, subsample_freq=0,\n",
    "               verbose=0)"
   ]
  },
  {
   "cell_type": "code",
   "execution_count": 28,
   "metadata": {
    "scrolled": true
   },
   "outputs": [
    {
     "name": "stdout",
     "output_type": "stream",
     "text": [
      "Training until validation scores don't improve for 200 rounds\n",
      "Early stopping, best iteration is:\n",
      "[174]\tvalid_0's auc: 0.770037\tvalid_1's auc: 0.695856\n",
      "Training until validation scores don't improve for 200 rounds\n",
      "Early stopping, best iteration is:\n",
      "[178]\tvalid_0's auc: 0.773144\tvalid_1's auc: 0.705325\n",
      "Training until validation scores don't improve for 200 rounds\n",
      "Early stopping, best iteration is:\n",
      "[122]\tvalid_0's auc: 0.753955\tvalid_1's auc: 0.69414\n",
      "Training until validation scores don't improve for 200 rounds\n",
      "Early stopping, best iteration is:\n",
      "[171]\tvalid_0's auc: 0.771846\tvalid_1's auc: 0.687598\n",
      "Training until validation scores don't improve for 200 rounds\n",
      "Early stopping, best iteration is:\n",
      "[180]\tvalid_0's auc: 0.779922\tvalid_1's auc: 0.666981\n",
      "CPU times: user 1h 10min 18s, sys: 18.5 s, total: 1h 10min 37s\n",
      "Wall time: 5min 27s\n"
     ]
    }
   ],
   "source": [
    "%%time\n",
    "\n",
    "param = {'bagging_fraction': 0.5539674763124854, 'bagging_freq':5,\n",
    "               'boosting_type': 'gbdt', 'class_weight':None,\n",
    "               'colsample_bytree': 0.7841488307689868, 'eval_metric': 'AUC',\n",
    "               'importance_type': 'split', 'lambda_l1': 7.892207361708597,\n",
    "               'lambda_l2': 8.705620624758234, 'learning_rate': 0.03909410437165517,\n",
    "               'max_bin': 270, 'max_depth': 10, 'metric': 'AUC', 'min_child_samples': 20,\n",
    "               'min_child_weight': 0.001, 'min_split_gain': 0.0, 'n_estimators': 2000,\n",
    "               'n_jobs': 16, 'num_leaves': 15, 'objective': 'binary', 'random_state': 13,\n",
    "               'seed': 13, 'silent': False,\n",
    "               'verbose': 100, 'early_stopping_rounds': 200}\n",
    "param['metric'] = 'auc'\n",
    "oof_predictions = np.zeros(data_train.shape[0])\n",
    "\n",
    "for train_idxs, test_idxs in gr_kfold.split(data_train, y):\n",
    "    q = lgb.train(param, train_set=lgb.Dataset(data_train.values[train_idxs], y[train_idxs]), num_boost_round=500,\n",
    "                  valid_sets=[lgb.Dataset(data_train.values[train_idxs], y[train_idxs]),\n",
    "                              lgb.Dataset(data_train.values[test_idxs], y[test_idxs])],\n",
    "                 verbose_eval=500)\n",
    "    oof_predictions[test_idxs] = q.predict(data_train.values[test_idxs])"
   ]
  },
  {
   "cell_type": "code",
   "execution_count": 33,
   "metadata": {},
   "outputs": [],
   "source": [
    "from sklearn.metrics import roc_auc_score"
   ]
  },
  {
   "cell_type": "code",
   "execution_count": 34,
   "metadata": {},
   "outputs": [
    {
     "ename": "NameError",
     "evalue": "name 'oof_predictions' is not defined",
     "output_type": "error",
     "traceback": [
      "\u001b[0;31m---------------------------------------------------------------------------\u001b[0m",
      "\u001b[0;31mNameError\u001b[0m                                 Traceback (most recent call last)",
      "\u001b[0;32m<ipython-input-34-7c0a18839bb2>\u001b[0m in \u001b[0;36m<module>\u001b[0;34m\u001b[0m\n\u001b[0;32m----> 1\u001b[0;31m \u001b[0mroc_auc_score\u001b[0m\u001b[0;34m(\u001b[0m\u001b[0my\u001b[0m\u001b[0;34m,\u001b[0m \u001b[0moof_predictions\u001b[0m\u001b[0;34m[\u001b[0m\u001b[0;34m:\u001b[0m\u001b[0mdata_train\u001b[0m\u001b[0;34m.\u001b[0m\u001b[0mshape\u001b[0m\u001b[0;34m[\u001b[0m\u001b[0;36m0\u001b[0m\u001b[0;34m]\u001b[0m\u001b[0;34m]\u001b[0m\u001b[0;34m)\u001b[0m\u001b[0;34m\u001b[0m\u001b[0;34m\u001b[0m\u001b[0m\n\u001b[0m",
      "\u001b[0;31mNameError\u001b[0m: name 'oof_predictions' is not defined"
     ]
    }
   ],
   "source": [
    "roc_auc_score(y, oof_predictions[:data_train.shape[0]])"
   ]
  },
  {
   "cell_type": "markdown",
   "metadata": {},
   "source": [
    "0.7002432786953284"
   ]
  },
  {
   "cell_type": "markdown",
   "metadata": {},
   "source": [
    "[50]\tvalid_0's auc: 0.709098\tvalid_1's auc: 0.675885\n",
    "[100]\tvalid_0's auc: 0.726553\tvalid_1's auc: 0.679719\n",
    "[150]\tvalid_0's auc: 0.736703\tvalid_1's auc: 0.679034\n",
    "[200]\tvalid_0's auc: 0.747241\tvalid_1's auc: 0.678564\n",
    "[250]\tvalid_0's auc: 0.756099\tvalid_1's auc: 0.67807\n",
    "[300]\tvalid_0's auc: 0.762981\tvalid_1's auc: 0.677406\n",
    "[350]\tvalid_0's auc: 0.771099\tvalid_1's auc: 0.676982\n",
    "[400]\tvalid_0's auc: 0.778818\tvalid_1's auc: 0.676227\n",
    "[450]\tvalid_0's auc: 0.783759\tvalid_1's auc: 0.675318\n",
    "[500]\tvalid_0's auc: 0.789803\tvalid_1's auc: 0.67336\n",
    "CPU times: user 2min 20s, sys: 3.32 s, total: 2min 23s"
   ]
  },
  {
   "cell_type": "markdown",
   "metadata": {},
   "source": [
    "Воспользуемся bayes_opt для подбора параметров:"
   ]
  },
  {
   "cell_type": "code",
   "execution_count": 45,
   "metadata": {},
   "outputs": [],
   "source": [
    "from bayes_opt import BayesianOptimization\n",
    "from sklearn.metrics import roc_auc_score\n",
    "\n",
    "\n",
    "def lgb_bayesian(max_depth,\n",
    "                 lambda_l1,\n",
    "                 lambda_l2,\n",
    "                 bagging_fraction,\n",
    "                 bagging_freq,\n",
    "                 colsample_bytree,\n",
    "                 learning_rate,\n",
    "                 num_leaves,\n",
    "                 max_bin\n",
    "                      ):\n",
    "    params = {\n",
    "        'boosting_type': 'gbdt',\n",
    "        'metric': 'AUC',\n",
    "        'objective': 'binary',\n",
    "        'eval_metric': 'AUC',\n",
    "        'n_jobs': 16,\n",
    "        'seed': 42,\n",
    "        'early_stopping_rounds': 150,\n",
    "        'n_estimators': 2000,\n",
    "        'learning_rate': learning_rate,\n",
    "        'max_depth': int(max_depth),\n",
    "        'lambda_l1': lambda_l1,\n",
    "        'lambda_l2': lambda_l2,\n",
    "        'bagging_fraction': bagging_fraction,\n",
    "        'bagging_freq': int(bagging_freq),\n",
    "        'colsample_bytree': colsample_bytree,\n",
    "        'verbose': 0,\n",
    "        'early_stopping_rounds': 200\n",
    "    }\n",
    "    oof_predictions = np.zeros(data_train.shape[0])\n",
    "    for train_idxs, test_idxs in gr_kfold.split(data_train, y):\n",
    "        model = lgb.LGBMClassifier(boosting_type=params['boosting_type'],\n",
    "                                    metric='AUC',\n",
    "                                    objective='binary',\n",
    "                                    eval_metric='AUC',\n",
    "                                    n_jobs= 16,\n",
    "                                    seed=13,\n",
    "    #                                 early_stopping_rounds=150,\n",
    "                                    n_estimators= 2000,\n",
    "                                    learning_rate=learning_rate,\n",
    "                                    max_depth=int(max_depth),\n",
    "                                    lambda_l1=lambda_l1,\n",
    "                                    lambda_l2=lambda_l2,\n",
    "                                    bagging_fraction=bagging_fraction,\n",
    "                                    bagging_freq=int(bagging_freq),\n",
    "                                    max_bin=int(max_bin),\n",
    "                                    num_leaves=int(num_leaves),\n",
    "                                    colsample_bytree=colsample_bytree,\n",
    "                                    verbose=0\n",
    "    #                                 valid_sets=[lgb.Dataset(X_train, y_train), lgb.Dataset(X_test, y_test)]\n",
    "                                    )\n",
    "        model.fit(data_train.values[train_idxs],\n",
    "                  y[train_idxs],\n",
    "                  early_stopping_rounds=200,\n",
    "                  eval_metric='AUC',\n",
    "                  eval_set=(data_train.values[test_idxs], y[test_idxs]), verbose=0)\n",
    "        oof_predictions[test_idxs] = model.predict_proba(data_train.values[test_idxs])[:, 1]\n",
    "    return roc_auc_score(y, oof_predictions)"
   ]
  },
  {
   "cell_type": "code",
   "execution_count": 46,
   "metadata": {},
   "outputs": [],
   "source": [
    "bounds_LGB = {\n",
    "    'max_depth': (2, 25),\n",
    "    'lambda_l1': (0, 10),\n",
    "    'lambda_l2': (0, 10),\n",
    "    'bagging_fraction': (0.4, 0.9),\n",
    "    'bagging_freq': (1, 10),\n",
    "    'colsample_bytree': (0.4, 0.9),\n",
    "    'learning_rate': (0.025, 0.1),\n",
    "    'num_leaves': (2, 20),\n",
    "    'max_bin': (2, 1000)\n",
    "}\n",
    "\n",
    "\n",
    "lgbm_BO = BayesianOptimization(lgb_bayesian, bounds_LGB, random_state=13 * 2)"
   ]
  },
  {
   "cell_type": "code",
   "execution_count": 47,
   "metadata": {},
   "outputs": [
    {
     "name": "stdout",
     "output_type": "stream",
     "text": [
      "|   iter    |  target   | baggin... | baggin... | colsam... | lambda_l1 | lambda_l2 | learni... |  max_bin  | max_depth | num_le... |\n",
      "-------------------------------------------------------------------------------------------------------------------------------------\n",
      "| \u001b[0m 1       \u001b[0m | \u001b[0m 0.7006  \u001b[0m | \u001b[0m 0.554   \u001b[0m | \u001b[0m 5.675   \u001b[0m | \u001b[0m 0.7841  \u001b[0m | \u001b[0m 7.892   \u001b[0m | \u001b[0m 8.706   \u001b[0m | \u001b[0m 0.03909 \u001b[0m | \u001b[0m 271.0   \u001b[0m | \u001b[0m 13.41   \u001b[0m | \u001b[0m 15.3    \u001b[0m |\n",
      "| \u001b[95m 2       \u001b[0m | \u001b[95m 0.7012  \u001b[0m | \u001b[95m 0.4975  \u001b[0m | \u001b[95m 2.618   \u001b[0m | \u001b[95m 0.6694  \u001b[0m | \u001b[95m 2.828   \u001b[0m | \u001b[95m 7.609   \u001b[0m | \u001b[95m 0.04523 \u001b[0m | \u001b[95m 294.9   \u001b[0m | \u001b[95m 24.14   \u001b[0m | \u001b[95m 18.44   \u001b[0m |\n",
      "| \u001b[95m 3       \u001b[0m | \u001b[95m 0.7025  \u001b[0m | \u001b[95m 0.6841  \u001b[0m | \u001b[95m 5.369   \u001b[0m | \u001b[95m 0.7269  \u001b[0m | \u001b[95m 5.366   \u001b[0m | \u001b[95m 9.957   \u001b[0m | \u001b[95m 0.03565 \u001b[0m | \u001b[95m 975.4   \u001b[0m | \u001b[95m 16.25   \u001b[0m | \u001b[95m 14.97   \u001b[0m |\n",
      "| \u001b[0m 4       \u001b[0m | \u001b[0m 0.699   \u001b[0m | \u001b[0m 0.5475  \u001b[0m | \u001b[0m 6.401   \u001b[0m | \u001b[0m 0.7753  \u001b[0m | \u001b[0m 6.414   \u001b[0m | \u001b[0m 9.233   \u001b[0m | \u001b[0m 0.09165 \u001b[0m | \u001b[0m 645.4   \u001b[0m | \u001b[0m 8.8     \u001b[0m | \u001b[0m 14.29   \u001b[0m |\n",
      "| \u001b[0m 5       \u001b[0m | \u001b[0m 0.695   \u001b[0m | \u001b[0m 0.5385  \u001b[0m | \u001b[0m 2.138   \u001b[0m | \u001b[0m 0.685   \u001b[0m | \u001b[0m 4.091   \u001b[0m | \u001b[0m 5.604   \u001b[0m | \u001b[0m 0.08908 \u001b[0m | \u001b[0m 98.53   \u001b[0m | \u001b[0m 10.15   \u001b[0m | \u001b[0m 19.53   \u001b[0m |\n",
      "| \u001b[0m 6       \u001b[0m | \u001b[0m 0.7007  \u001b[0m | \u001b[0m 0.861   \u001b[0m | \u001b[0m 9.718   \u001b[0m | \u001b[0m 0.4255  \u001b[0m | \u001b[0m 8.836   \u001b[0m | \u001b[0m 7.7     \u001b[0m | \u001b[0m 0.04297 \u001b[0m | \u001b[0m 105.6   \u001b[0m | \u001b[0m 6.285   \u001b[0m | \u001b[0m 15.55   \u001b[0m |\n",
      "| \u001b[0m 7       \u001b[0m | \u001b[0m 0.7015  \u001b[0m | \u001b[0m 0.8764  \u001b[0m | \u001b[0m 8.115   \u001b[0m | \u001b[0m 0.4933  \u001b[0m | \u001b[0m 5.12    \u001b[0m | \u001b[0m 0.8145  \u001b[0m | \u001b[0m 0.06424 \u001b[0m | \u001b[0m 135.6   \u001b[0m | \u001b[0m 6.568   \u001b[0m | \u001b[0m 3.948   \u001b[0m |\n",
      "| \u001b[0m 8       \u001b[0m | \u001b[0m 0.6988  \u001b[0m | \u001b[0m 0.7164  \u001b[0m | \u001b[0m 9.567   \u001b[0m | \u001b[0m 0.6632  \u001b[0m | \u001b[0m 3.368   \u001b[0m | \u001b[0m 5.083   \u001b[0m | \u001b[0m 0.09929 \u001b[0m | \u001b[0m 634.0   \u001b[0m | \u001b[0m 10.39   \u001b[0m | \u001b[0m 19.56   \u001b[0m |\n",
      "| \u001b[95m 9       \u001b[0m | \u001b[95m 0.7038  \u001b[0m | \u001b[95m 0.7912  \u001b[0m | \u001b[95m 1.349   \u001b[0m | \u001b[95m 0.8927  \u001b[0m | \u001b[95m 3.521   \u001b[0m | \u001b[95m 2.779   \u001b[0m | \u001b[95m 0.04853 \u001b[0m | \u001b[95m 640.9   \u001b[0m | \u001b[95m 13.2    \u001b[0m | \u001b[95m 6.886   \u001b[0m |\n"
     ]
    },
    {
     "ename": "KeyboardInterrupt",
     "evalue": "",
     "output_type": "error",
     "traceback": [
      "\u001b[0;31m---------------------------------------------------------------------------\u001b[0m",
      "\u001b[0;31mKeyError\u001b[0m                                  Traceback (most recent call last)",
      "\u001b[0;32m~/anaconda3/envs/kaggle/lib/python3.7/site-packages/bayes_opt/target_space.py\u001b[0m in \u001b[0;36mprobe\u001b[0;34m(self, params)\u001b[0m\n\u001b[1;32m    190\u001b[0m         \u001b[0;32mtry\u001b[0m\u001b[0;34m:\u001b[0m\u001b[0;34m\u001b[0m\u001b[0;34m\u001b[0m\u001b[0m\n\u001b[0;32m--> 191\u001b[0;31m             \u001b[0mtarget\u001b[0m \u001b[0;34m=\u001b[0m \u001b[0mself\u001b[0m\u001b[0;34m.\u001b[0m\u001b[0m_cache\u001b[0m\u001b[0;34m[\u001b[0m\u001b[0m_hashable\u001b[0m\u001b[0;34m(\u001b[0m\u001b[0mx\u001b[0m\u001b[0;34m)\u001b[0m\u001b[0;34m]\u001b[0m\u001b[0;34m\u001b[0m\u001b[0;34m\u001b[0m\u001b[0m\n\u001b[0m\u001b[1;32m    192\u001b[0m         \u001b[0;32mexcept\u001b[0m \u001b[0mKeyError\u001b[0m\u001b[0;34m:\u001b[0m\u001b[0;34m\u001b[0m\u001b[0;34m\u001b[0m\u001b[0m\n",
      "\u001b[0;31mKeyError\u001b[0m: (0.8729549895312931, 4.688032277875747, 0.533876045457445, 8.633533779140363, 4.613313248895047, 0.07754476107927515, 455.0017363117301, 19.141849316763263, 3.107295179565944)",
      "\nDuring handling of the above exception, another exception occurred:\n",
      "\u001b[0;31mKeyboardInterrupt\u001b[0m                         Traceback (most recent call last)",
      "\u001b[0;32m<timed exec>\u001b[0m in \u001b[0;36m<module>\u001b[0;34m\u001b[0m\n",
      "\u001b[0;32m~/anaconda3/envs/kaggle/lib/python3.7/site-packages/bayes_opt/bayesian_optimization.py\u001b[0m in \u001b[0;36mmaximize\u001b[0;34m(self, init_points, n_iter, acq, kappa, xi, **gp_params)\u001b[0m\n\u001b[1;32m    172\u001b[0m                 \u001b[0miteration\u001b[0m \u001b[0;34m+=\u001b[0m \u001b[0;36m1\u001b[0m\u001b[0;34m\u001b[0m\u001b[0;34m\u001b[0m\u001b[0m\n\u001b[1;32m    173\u001b[0m \u001b[0;34m\u001b[0m\u001b[0m\n\u001b[0;32m--> 174\u001b[0;31m             \u001b[0mself\u001b[0m\u001b[0;34m.\u001b[0m\u001b[0mprobe\u001b[0m\u001b[0;34m(\u001b[0m\u001b[0mx_probe\u001b[0m\u001b[0;34m,\u001b[0m \u001b[0mlazy\u001b[0m\u001b[0;34m=\u001b[0m\u001b[0;32mFalse\u001b[0m\u001b[0;34m)\u001b[0m\u001b[0;34m\u001b[0m\u001b[0;34m\u001b[0m\u001b[0m\n\u001b[0m\u001b[1;32m    175\u001b[0m \u001b[0;34m\u001b[0m\u001b[0m\n\u001b[1;32m    176\u001b[0m         \u001b[0mself\u001b[0m\u001b[0;34m.\u001b[0m\u001b[0mdispatch\u001b[0m\u001b[0;34m(\u001b[0m\u001b[0mEvents\u001b[0m\u001b[0;34m.\u001b[0m\u001b[0mOPTMIZATION_END\u001b[0m\u001b[0;34m)\u001b[0m\u001b[0;34m\u001b[0m\u001b[0;34m\u001b[0m\u001b[0m\n",
      "\u001b[0;32m~/anaconda3/envs/kaggle/lib/python3.7/site-packages/bayes_opt/bayesian_optimization.py\u001b[0m in \u001b[0;36mprobe\u001b[0;34m(self, params, lazy)\u001b[0m\n\u001b[1;32m    110\u001b[0m             \u001b[0mself\u001b[0m\u001b[0;34m.\u001b[0m\u001b[0m_queue\u001b[0m\u001b[0;34m.\u001b[0m\u001b[0madd\u001b[0m\u001b[0;34m(\u001b[0m\u001b[0mparams\u001b[0m\u001b[0;34m)\u001b[0m\u001b[0;34m\u001b[0m\u001b[0;34m\u001b[0m\u001b[0m\n\u001b[1;32m    111\u001b[0m         \u001b[0;32melse\u001b[0m\u001b[0;34m:\u001b[0m\u001b[0;34m\u001b[0m\u001b[0;34m\u001b[0m\u001b[0m\n\u001b[0;32m--> 112\u001b[0;31m             \u001b[0mself\u001b[0m\u001b[0;34m.\u001b[0m\u001b[0m_space\u001b[0m\u001b[0;34m.\u001b[0m\u001b[0mprobe\u001b[0m\u001b[0;34m(\u001b[0m\u001b[0mparams\u001b[0m\u001b[0;34m)\u001b[0m\u001b[0;34m\u001b[0m\u001b[0;34m\u001b[0m\u001b[0m\n\u001b[0m\u001b[1;32m    113\u001b[0m             \u001b[0mself\u001b[0m\u001b[0;34m.\u001b[0m\u001b[0mdispatch\u001b[0m\u001b[0;34m(\u001b[0m\u001b[0mEvents\u001b[0m\u001b[0;34m.\u001b[0m\u001b[0mOPTMIZATION_STEP\u001b[0m\u001b[0;34m)\u001b[0m\u001b[0;34m\u001b[0m\u001b[0;34m\u001b[0m\u001b[0m\n\u001b[1;32m    114\u001b[0m \u001b[0;34m\u001b[0m\u001b[0m\n",
      "\u001b[0;32m~/anaconda3/envs/kaggle/lib/python3.7/site-packages/bayes_opt/target_space.py\u001b[0m in \u001b[0;36mprobe\u001b[0;34m(self, params)\u001b[0m\n\u001b[1;32m    192\u001b[0m         \u001b[0;32mexcept\u001b[0m \u001b[0mKeyError\u001b[0m\u001b[0;34m:\u001b[0m\u001b[0;34m\u001b[0m\u001b[0;34m\u001b[0m\u001b[0m\n\u001b[1;32m    193\u001b[0m             \u001b[0mparams\u001b[0m \u001b[0;34m=\u001b[0m \u001b[0mdict\u001b[0m\u001b[0;34m(\u001b[0m\u001b[0mzip\u001b[0m\u001b[0;34m(\u001b[0m\u001b[0mself\u001b[0m\u001b[0;34m.\u001b[0m\u001b[0m_keys\u001b[0m\u001b[0;34m,\u001b[0m \u001b[0mx\u001b[0m\u001b[0;34m)\u001b[0m\u001b[0;34m)\u001b[0m\u001b[0;34m\u001b[0m\u001b[0;34m\u001b[0m\u001b[0m\n\u001b[0;32m--> 194\u001b[0;31m             \u001b[0mtarget\u001b[0m \u001b[0;34m=\u001b[0m \u001b[0mself\u001b[0m\u001b[0;34m.\u001b[0m\u001b[0mtarget_func\u001b[0m\u001b[0;34m(\u001b[0m\u001b[0;34m**\u001b[0m\u001b[0mparams\u001b[0m\u001b[0;34m)\u001b[0m\u001b[0;34m\u001b[0m\u001b[0;34m\u001b[0m\u001b[0m\n\u001b[0m\u001b[1;32m    195\u001b[0m             \u001b[0mself\u001b[0m\u001b[0;34m.\u001b[0m\u001b[0mregister\u001b[0m\u001b[0;34m(\u001b[0m\u001b[0mx\u001b[0m\u001b[0;34m,\u001b[0m \u001b[0mtarget\u001b[0m\u001b[0;34m)\u001b[0m\u001b[0;34m\u001b[0m\u001b[0;34m\u001b[0m\u001b[0m\n\u001b[1;32m    196\u001b[0m         \u001b[0;32mreturn\u001b[0m \u001b[0mtarget\u001b[0m\u001b[0;34m\u001b[0m\u001b[0;34m\u001b[0m\u001b[0m\n",
      "\u001b[0;32m<ipython-input-45-e9e86146bebe>\u001b[0m in \u001b[0;36mlgb_bayesian\u001b[0;34m(max_depth, lambda_l1, lambda_l2, bagging_fraction, bagging_freq, colsample_bytree, learning_rate, num_leaves, max_bin)\u001b[0m\n\u001b[1;32m     58\u001b[0m                   \u001b[0mearly_stopping_rounds\u001b[0m\u001b[0;34m=\u001b[0m\u001b[0;36m200\u001b[0m\u001b[0;34m,\u001b[0m\u001b[0;34m\u001b[0m\u001b[0;34m\u001b[0m\u001b[0m\n\u001b[1;32m     59\u001b[0m                   \u001b[0meval_metric\u001b[0m\u001b[0;34m=\u001b[0m\u001b[0;34m'AUC'\u001b[0m\u001b[0;34m,\u001b[0m\u001b[0;34m\u001b[0m\u001b[0;34m\u001b[0m\u001b[0m\n\u001b[0;32m---> 60\u001b[0;31m                   eval_set=(data_train.values[test_idxs], y[test_idxs]), verbose=0)\n\u001b[0m\u001b[1;32m     61\u001b[0m         \u001b[0moof_predictions\u001b[0m\u001b[0;34m[\u001b[0m\u001b[0mtest_idxs\u001b[0m\u001b[0;34m]\u001b[0m \u001b[0;34m=\u001b[0m \u001b[0mmodel\u001b[0m\u001b[0;34m.\u001b[0m\u001b[0mpredict_proba\u001b[0m\u001b[0;34m(\u001b[0m\u001b[0mdata_train\u001b[0m\u001b[0;34m.\u001b[0m\u001b[0mvalues\u001b[0m\u001b[0;34m[\u001b[0m\u001b[0mtest_idxs\u001b[0m\u001b[0;34m]\u001b[0m\u001b[0;34m)\u001b[0m\u001b[0;34m[\u001b[0m\u001b[0;34m:\u001b[0m\u001b[0;34m,\u001b[0m \u001b[0;36m1\u001b[0m\u001b[0;34m]\u001b[0m\u001b[0;34m\u001b[0m\u001b[0;34m\u001b[0m\u001b[0m\n\u001b[1;32m     62\u001b[0m     \u001b[0;32mreturn\u001b[0m \u001b[0mroc_auc_score\u001b[0m\u001b[0;34m(\u001b[0m\u001b[0my\u001b[0m\u001b[0;34m,\u001b[0m \u001b[0moof_predictions\u001b[0m\u001b[0;34m)\u001b[0m\u001b[0;34m\u001b[0m\u001b[0;34m\u001b[0m\u001b[0m\n",
      "\u001b[0;32m~/anaconda3/envs/kaggle/lib/python3.7/site-packages/lightgbm/sklearn.py\u001b[0m in \u001b[0;36mfit\u001b[0;34m(self, X, y, sample_weight, init_score, eval_set, eval_names, eval_sample_weight, eval_class_weight, eval_init_score, eval_metric, early_stopping_rounds, verbose, feature_name, categorical_feature, callbacks, init_model)\u001b[0m\n\u001b[1;32m    813\u001b[0m                                         \u001b[0mverbose\u001b[0m\u001b[0;34m=\u001b[0m\u001b[0mverbose\u001b[0m\u001b[0;34m,\u001b[0m \u001b[0mfeature_name\u001b[0m\u001b[0;34m=\u001b[0m\u001b[0mfeature_name\u001b[0m\u001b[0;34m,\u001b[0m\u001b[0;34m\u001b[0m\u001b[0;34m\u001b[0m\u001b[0m\n\u001b[1;32m    814\u001b[0m                                         \u001b[0mcategorical_feature\u001b[0m\u001b[0;34m=\u001b[0m\u001b[0mcategorical_feature\u001b[0m\u001b[0;34m,\u001b[0m\u001b[0;34m\u001b[0m\u001b[0;34m\u001b[0m\u001b[0m\n\u001b[0;32m--> 815\u001b[0;31m                                         callbacks=callbacks, init_model=init_model)\n\u001b[0m\u001b[1;32m    816\u001b[0m         \u001b[0;32mreturn\u001b[0m \u001b[0mself\u001b[0m\u001b[0;34m\u001b[0m\u001b[0;34m\u001b[0m\u001b[0m\n\u001b[1;32m    817\u001b[0m \u001b[0;34m\u001b[0m\u001b[0m\n",
      "\u001b[0;32m~/anaconda3/envs/kaggle/lib/python3.7/site-packages/lightgbm/sklearn.py\u001b[0m in \u001b[0;36mfit\u001b[0;34m(self, X, y, sample_weight, init_score, group, eval_set, eval_names, eval_sample_weight, eval_class_weight, eval_init_score, eval_group, eval_metric, early_stopping_rounds, verbose, feature_name, categorical_feature, callbacks, init_model)\u001b[0m\n\u001b[1;32m    605\u001b[0m                               \u001b[0mverbose_eval\u001b[0m\u001b[0;34m=\u001b[0m\u001b[0mverbose\u001b[0m\u001b[0;34m,\u001b[0m \u001b[0mfeature_name\u001b[0m\u001b[0;34m=\u001b[0m\u001b[0mfeature_name\u001b[0m\u001b[0;34m,\u001b[0m\u001b[0;34m\u001b[0m\u001b[0;34m\u001b[0m\u001b[0m\n\u001b[1;32m    606\u001b[0m                               \u001b[0mcategorical_feature\u001b[0m\u001b[0;34m=\u001b[0m\u001b[0mcategorical_feature\u001b[0m\u001b[0;34m,\u001b[0m\u001b[0;34m\u001b[0m\u001b[0;34m\u001b[0m\u001b[0m\n\u001b[0;32m--> 607\u001b[0;31m                               callbacks=callbacks, init_model=init_model)\n\u001b[0m\u001b[1;32m    608\u001b[0m \u001b[0;34m\u001b[0m\u001b[0m\n\u001b[1;32m    609\u001b[0m         \u001b[0;32mif\u001b[0m \u001b[0mevals_result\u001b[0m\u001b[0;34m:\u001b[0m\u001b[0;34m\u001b[0m\u001b[0;34m\u001b[0m\u001b[0m\n",
      "\u001b[0;32m~/anaconda3/envs/kaggle/lib/python3.7/site-packages/lightgbm/engine.py\u001b[0m in \u001b[0;36mtrain\u001b[0;34m(params, train_set, num_boost_round, valid_sets, valid_names, fobj, feval, init_model, feature_name, categorical_feature, early_stopping_rounds, evals_result, verbose_eval, learning_rates, keep_training_booster, callbacks)\u001b[0m\n\u001b[1;32m    247\u001b[0m                                     evaluation_result_list=None))\n\u001b[1;32m    248\u001b[0m \u001b[0;34m\u001b[0m\u001b[0m\n\u001b[0;32m--> 249\u001b[0;31m         \u001b[0mbooster\u001b[0m\u001b[0;34m.\u001b[0m\u001b[0mupdate\u001b[0m\u001b[0;34m(\u001b[0m\u001b[0mfobj\u001b[0m\u001b[0;34m=\u001b[0m\u001b[0mfobj\u001b[0m\u001b[0;34m)\u001b[0m\u001b[0;34m\u001b[0m\u001b[0;34m\u001b[0m\u001b[0m\n\u001b[0m\u001b[1;32m    250\u001b[0m \u001b[0;34m\u001b[0m\u001b[0m\n\u001b[1;32m    251\u001b[0m         \u001b[0mevaluation_result_list\u001b[0m \u001b[0;34m=\u001b[0m \u001b[0;34m[\u001b[0m\u001b[0;34m]\u001b[0m\u001b[0;34m\u001b[0m\u001b[0;34m\u001b[0m\u001b[0m\n",
      "\u001b[0;32m~/anaconda3/envs/kaggle/lib/python3.7/site-packages/lightgbm/basic.py\u001b[0m in \u001b[0;36mupdate\u001b[0;34m(self, train_set, fobj)\u001b[0m\n\u001b[1;32m   1974\u001b[0m             _safe_call(_LIB.LGBM_BoosterUpdateOneIter(\n\u001b[1;32m   1975\u001b[0m                 \u001b[0mself\u001b[0m\u001b[0;34m.\u001b[0m\u001b[0mhandle\u001b[0m\u001b[0;34m,\u001b[0m\u001b[0;34m\u001b[0m\u001b[0;34m\u001b[0m\u001b[0m\n\u001b[0;32m-> 1976\u001b[0;31m                 ctypes.byref(is_finished)))\n\u001b[0m\u001b[1;32m   1977\u001b[0m             \u001b[0mself\u001b[0m\u001b[0;34m.\u001b[0m\u001b[0m__is_predicted_cur_iter\u001b[0m \u001b[0;34m=\u001b[0m \u001b[0;34m[\u001b[0m\u001b[0;32mFalse\u001b[0m \u001b[0;32mfor\u001b[0m \u001b[0m_\u001b[0m \u001b[0;32min\u001b[0m \u001b[0mrange_\u001b[0m\u001b[0;34m(\u001b[0m\u001b[0mself\u001b[0m\u001b[0;34m.\u001b[0m\u001b[0m__num_dataset\u001b[0m\u001b[0;34m)\u001b[0m\u001b[0;34m]\u001b[0m\u001b[0;34m\u001b[0m\u001b[0;34m\u001b[0m\u001b[0m\n\u001b[1;32m   1978\u001b[0m             \u001b[0;32mreturn\u001b[0m \u001b[0mis_finished\u001b[0m\u001b[0;34m.\u001b[0m\u001b[0mvalue\u001b[0m \u001b[0;34m==\u001b[0m \u001b[0;36m1\u001b[0m\u001b[0;34m\u001b[0m\u001b[0;34m\u001b[0m\u001b[0m\n",
      "\u001b[0;31mKeyboardInterrupt\u001b[0m: "
     ]
    }
   ],
   "source": [
    "%%time\n",
    "\n",
    "with warnings.catch_warnings():\n",
    "    warnings.filterwarnings('ignore')\n",
    "    lgbm_BO.maximize(init_points=10, n_iter=10, xi=0, alpha=1e-3)"
   ]
  },
  {
   "cell_type": "code",
   "execution_count": 48,
   "metadata": {},
   "outputs": [],
   "source": [
    "## 7038"
   ]
  },
  {
   "cell_type": "code",
   "execution_count": 49,
   "metadata": {},
   "outputs": [],
   "source": [
    "# model_params = {\n",
    "#     'max_depth': int(lgbm_BO.max['params']['max_depth']),\n",
    "# #     'n_estimators': int(lgbm_BO.max['params']['n_estimators']),\n",
    "#     'learning_rate': lgbm_BO.max['params']['learning_rate'],\n",
    "#     'num_leaves': int(lgbm_BO.max['params']['num_leaves']),\n",
    "#     'max_bin': int(lgbm_BO.max['params']['max_bin']),\n",
    "#     'boosting_type': 'gbdt',\n",
    "#     'metric': 'AUC',\n",
    "#     'objective': 'binary',\n",
    "#     'eval_metric': 'AUC',\n",
    "#     'n_jobs': 16,\n",
    "#     'seed': 42,\n",
    "# #     'early_stopping_rounds': 150,\n",
    "#     'n_estimators': 2000,\n",
    "#     'lambda_l1': lambda_l1,\n",
    "#     'lambda_l2': lambda_l2,\n",
    "#     'bagging_fraction': lgbm_BO.max['params']['bagging_fraction'],\n",
    "#     'bagging_freq': int(lgbm_BO.max['params']['bagging_freq']),\n",
    "#     'colsample_bytree': lgbm_BO.max['params']['colsampel_bytree'],\n",
    "#     'verbose': 0\n",
    "# }"
   ]
  },
  {
   "cell_type": "code",
   "execution_count": 182,
   "metadata": {},
   "outputs": [],
   "source": [
    "import sklearn.utils\n",
    "\n",
    "if USE_PSEUDOLABELING:\n",
    "    pseudolabels = pd.read_csv('./pseudolabels_692673.csv', index_col=0)\n",
    "    data_train = pd.concat([data_train, data_test[(pseudolabels['proba'].values.reshape(-1) > 0.99) | (pseudolabels['proba'].values.reshape(-1) < 0.01)]], sort=False).reset_index(drop=True)\n",
    "    pseudolabels = pseudolabels[(pseudolabels['proba'].values.reshape(-1) > 0.99) | (pseudolabels['proba'].values.reshape(-1) < 0.01)]\n",
    "    y = np.hstack([y.reshape(-1), pseudolabels['proba'].values])\n",
    "    if not USE_SOFTLABELS:\n",
    "        y = np.where(y > 0.8, 1, 0)\n",
    "    data_train, y = sklearn.utils.shuffle(data_train, y, random_state=13)"
   ]
  },
  {
   "cell_type": "code",
   "execution_count": 156,
   "metadata": {},
   "outputs": [
    {
     "ename": "ValueError",
     "evalue": "Item wrong length 46604 instead of 455011.",
     "output_type": "error",
     "traceback": [
      "\u001b[0;31m---------------------------------------------------------------------------\u001b[0m",
      "\u001b[0;31mValueError\u001b[0m                                Traceback (most recent call last)",
      "\u001b[0;32m<ipython-input-156-2b443f11f914>\u001b[0m in \u001b[0;36m<module>\u001b[0;34m\u001b[0m\n\u001b[0;32m----> 1\u001b[0;31m \u001b[0mdata_test\u001b[0m\u001b[0;34m[\u001b[0m\u001b[0;34m(\u001b[0m\u001b[0mpseudolabels\u001b[0m\u001b[0;34m[\u001b[0m\u001b[0;34m'proba'\u001b[0m\u001b[0;34m]\u001b[0m\u001b[0;34m.\u001b[0m\u001b[0mvalues\u001b[0m\u001b[0;34m.\u001b[0m\u001b[0mreshape\u001b[0m\u001b[0;34m(\u001b[0m\u001b[0;34m-\u001b[0m\u001b[0;36m1\u001b[0m\u001b[0;34m)\u001b[0m \u001b[0;34m>\u001b[0m \u001b[0;36m0.995\u001b[0m\u001b[0;34m)\u001b[0m \u001b[0;34m|\u001b[0m \u001b[0;34m(\u001b[0m\u001b[0mpseudolabels\u001b[0m\u001b[0;34m[\u001b[0m\u001b[0;34m'proba'\u001b[0m\u001b[0;34m]\u001b[0m\u001b[0;34m.\u001b[0m\u001b[0mvalues\u001b[0m\u001b[0;34m.\u001b[0m\u001b[0mreshape\u001b[0m\u001b[0;34m(\u001b[0m\u001b[0;34m-\u001b[0m\u001b[0;36m1\u001b[0m\u001b[0;34m)\u001b[0m \u001b[0;34m<\u001b[0m \u001b[0;36m0.008\u001b[0m\u001b[0;34m)\u001b[0m\u001b[0;34m]\u001b[0m\u001b[0;34m.\u001b[0m\u001b[0mshape\u001b[0m\u001b[0;34m\u001b[0m\u001b[0;34m\u001b[0m\u001b[0m\n\u001b[0m",
      "\u001b[0;32m~/anaconda3/envs/kaggle/lib/python3.7/site-packages/pandas/core/frame.py\u001b[0m in \u001b[0;36m__getitem__\u001b[0;34m(self, key)\u001b[0m\n\u001b[1;32m   2984\u001b[0m         \u001b[0;31m# Do we have a (boolean) 1d indexer?\u001b[0m\u001b[0;34m\u001b[0m\u001b[0;34m\u001b[0m\u001b[0;34m\u001b[0m\u001b[0m\n\u001b[1;32m   2985\u001b[0m         \u001b[0;32mif\u001b[0m \u001b[0mcom\u001b[0m\u001b[0;34m.\u001b[0m\u001b[0mis_bool_indexer\u001b[0m\u001b[0;34m(\u001b[0m\u001b[0mkey\u001b[0m\u001b[0;34m)\u001b[0m\u001b[0;34m:\u001b[0m\u001b[0;34m\u001b[0m\u001b[0;34m\u001b[0m\u001b[0m\n\u001b[0;32m-> 2986\u001b[0;31m             \u001b[0;32mreturn\u001b[0m \u001b[0mself\u001b[0m\u001b[0;34m.\u001b[0m\u001b[0m_getitem_bool_array\u001b[0m\u001b[0;34m(\u001b[0m\u001b[0mkey\u001b[0m\u001b[0;34m)\u001b[0m\u001b[0;34m\u001b[0m\u001b[0;34m\u001b[0m\u001b[0m\n\u001b[0m\u001b[1;32m   2987\u001b[0m \u001b[0;34m\u001b[0m\u001b[0m\n\u001b[1;32m   2988\u001b[0m         \u001b[0;31m# We are left with two options: a single key, and a collection of keys,\u001b[0m\u001b[0;34m\u001b[0m\u001b[0;34m\u001b[0m\u001b[0;34m\u001b[0m\u001b[0m\n",
      "\u001b[0;32m~/anaconda3/envs/kaggle/lib/python3.7/site-packages/pandas/core/frame.py\u001b[0m in \u001b[0;36m_getitem_bool_array\u001b[0;34m(self, key)\u001b[0m\n\u001b[1;32m   3031\u001b[0m         \u001b[0;32melif\u001b[0m \u001b[0mlen\u001b[0m\u001b[0;34m(\u001b[0m\u001b[0mkey\u001b[0m\u001b[0;34m)\u001b[0m \u001b[0;34m!=\u001b[0m \u001b[0mlen\u001b[0m\u001b[0;34m(\u001b[0m\u001b[0mself\u001b[0m\u001b[0;34m.\u001b[0m\u001b[0mindex\u001b[0m\u001b[0;34m)\u001b[0m\u001b[0;34m:\u001b[0m\u001b[0;34m\u001b[0m\u001b[0;34m\u001b[0m\u001b[0m\n\u001b[1;32m   3032\u001b[0m             raise ValueError(\n\u001b[0;32m-> 3033\u001b[0;31m                 \u001b[0;34m\"Item wrong length %d instead of %d.\"\u001b[0m \u001b[0;34m%\u001b[0m \u001b[0;34m(\u001b[0m\u001b[0mlen\u001b[0m\u001b[0;34m(\u001b[0m\u001b[0mkey\u001b[0m\u001b[0;34m)\u001b[0m\u001b[0;34m,\u001b[0m \u001b[0mlen\u001b[0m\u001b[0;34m(\u001b[0m\u001b[0mself\u001b[0m\u001b[0;34m.\u001b[0m\u001b[0mindex\u001b[0m\u001b[0;34m)\u001b[0m\u001b[0;34m)\u001b[0m\u001b[0;34m\u001b[0m\u001b[0;34m\u001b[0m\u001b[0m\n\u001b[0m\u001b[1;32m   3034\u001b[0m             )\n\u001b[1;32m   3035\u001b[0m \u001b[0;34m\u001b[0m\u001b[0m\n",
      "\u001b[0;31mValueError\u001b[0m: Item wrong length 46604 instead of 455011."
     ]
    }
   ],
   "source": [
    "data_test[(pseudolabels['proba'].values.reshape(-1) > 0.99) | (pseudolabels['proba'].values.reshape(-1) < 0.01)].shape"
   ]
  },
  {
   "cell_type": "code",
   "execution_count": 183,
   "metadata": {},
   "outputs": [],
   "source": [
    "from tqdm import tqdm_notebook"
   ]
  },
  {
   "cell_type": "code",
   "execution_count": 184,
   "metadata": {
    "scrolled": true
   },
   "outputs": [
    {
     "data": {
      "application/vnd.jupyter.widget-view+json": {
       "model_id": "a12e8bddd5274a7ea77aa30a362f9792",
       "version_major": 2,
       "version_minor": 0
      },
      "text/plain": [
       "HBox(children=(FloatProgress(value=1.0, bar_style='info', max=1.0), HTML(value='')))"
      ]
     },
     "metadata": {},
     "output_type": "display_data"
    },
    {
     "name": "stdout",
     "output_type": "stream",
     "text": [
      "\n",
      "OOF: \n",
      "0.7985059993634742\n"
     ]
    }
   ],
   "source": [
    "oof_predictions = np.zeros(data_train.shape[0])\n",
    "a = np.zeros(data_test.shape[0])\n",
    "for train_idxs, test_idxs in tqdm_notebook(gr_kfold.split(data_train, y)):\n",
    "    model = lgb.LGBMClassifier(\n",
    "        max_depth=int(lgbm_BO.max['params']['max_depth']),\n",
    "        learning_rate=lgbm_BO.max['params']['learning_rate'],\n",
    "        num_leaves=int(lgbm_BO.max['params']['num_leaves']),\n",
    "        max_bin=int(lgbm_BO.max['params']['max_bin']),\n",
    "        boosting_type='gbdt',\n",
    "        metric='AUC',\n",
    "        objective='binary',\n",
    "        eval_metric='AUC',\n",
    "        n_jobs=16,\n",
    "        seed=42,\n",
    "    #     'early_stopping_rounds': 150,\n",
    "        n_estimators=2000,\n",
    "        lambda_l1=lgbm_BO.max['params']['lambda_l1'],\n",
    "        lambda_l2=lgbm_BO.max['params']['lambda_l2'],\n",
    "        bagging_fraction=lgbm_BO.max['params']['bagging_fraction'],\n",
    "        bagging_freq=int(lgbm_BO.max['params']['bagging_freq']),\n",
    "        colsample_bytree=lgbm_BO.max['params']['colsample_bytree'],\n",
    "        verbose=0\n",
    "    )\n",
    "    model.fit(data_train.values[train_idxs],\n",
    "              y[train_idxs],\n",
    "              early_stopping_rounds=200,\n",
    "              eval_metric='AUC',\n",
    "              eval_set=(data_train.values[test_idxs], y[test_idxs]), verbose=0)\n",
    "    oof_predictions[test_idxs] = model.predict_proba(data_train.values[test_idxs])[:, 1]\n",
    "    a += model.predict_proba(data_test.values)[:, 1] / N_SPLITS\n",
    "print('OOF: \\n' + str(roc_auc_score(y, oof_predictions)))"
   ]
  },
  {
   "cell_type": "markdown",
   "metadata": {},
   "source": [
    "\n",
    "OOF: \n",
    "0.7655344173061015 - pseudolabeling"
   ]
  },
  {
   "cell_type": "markdown",
   "metadata": {},
   "source": [
    "OOF: \n",
    "0.7025600443067261"
   ]
  },
  {
   "cell_type": "code",
   "execution_count": 185,
   "metadata": {},
   "outputs": [],
   "source": [
    "pd.DataFrame(a,  columns=['proba'], index=ids.values).to_csv('lgbm_pseudolabeling.csv')"
   ]
  },
  {
   "cell_type": "code",
   "execution_count": null,
   "metadata": {},
   "outputs": [],
   "source": [
    "%%time\n",
    "\n",
    "from xgboost import XGBClassifier"
   ]
  },
  {
   "cell_type": "code",
   "execution_count": null,
   "metadata": {},
   "outputs": [],
   "source": [
    "oof_predictions = np.zeros(data_train.shape[0])\n",
    "a = np.zeros(data_test.shape[0])\n",
    "for train_idxs, test_idxs in tqdm_notebook(gr_kfold.split(data_train, y)):\n",
    "    model = XGBClassifier(gpu_hist=True, nthread=16, booster='dart', objective='binary:logistic')\n",
    "    model.fit(data_train.values[train_idxs],\n",
    "              y[train_idxs], \n",
    "             )\n",
    "    oof_predictions[test_idxs] = model.predict_proba(data_train.values[test_idxs])[:, 1]\n",
    "    a += model.predict_proba(data_test.values)[:, 1] / N_SPLITS\n",
    "print('OOF: \\n' + str(roc_auc_score(y, oof_predictions)))"
   ]
  },
  {
   "cell_type": "markdown",
   "metadata": {},
   "source": [
    "OOF: \n",
    "0.6969501317966372"
   ]
  },
  {
   "cell_type": "code",
   "execution_count": null,
   "metadata": {},
   "outputs": [],
   "source": [
    "pd.DataFrame(a,  columns=['proba'], index=ids.values).to_csv('xgb_653feats_plusindicators.csv')"
   ]
  },
  {
   "cell_type": "code",
   "execution_count": null,
   "metadata": {},
   "outputs": [],
   "source": [
    "from catboost import CatBoostClassifier\n",
    "\n",
    "\n",
    "def catboost_bayesian(max_depth,\n",
    "                      n_estimators,\n",
    "                      lr,\n",
    "                      ):\n",
    "    max_depth = int(max_depth)\n",
    "    n_estimators = int(n_estimators)\n",
    "    model = CatBoostClassifier(max_depth=max_depth, n_estimators=n_estimators,\n",
    "                               learning_rate=lr, objective='CrossEntropy', eval_metric='AUC',\n",
    "                               task_type='GPU', verbose=0, thread_count=16)\n",
    "    model.fit(X_train, y_train)\n",
    "\n",
    "    return roc_auc_score(y_test, model.predict_proba(X_test)[:, 1])"
   ]
  },
  {
   "cell_type": "code",
   "execution_count": null,
   "metadata": {},
   "outputs": [],
   "source": [
    "bounds_cat = {\n",
    "    'max_depth': (1, 16),\n",
    "    'n_estimators': (1, 1000),\n",
    "    'lr': (1e-3, 1),\n",
    "}\n",
    "\n",
    "cat_BO = BayesianOptimization(catboost_bayesian, bounds_cat, random_state=13 * 2)"
   ]
  },
  {
   "cell_type": "code",
   "execution_count": null,
   "metadata": {},
   "outputs": [],
   "source": [
    "%%time\n",
    "import warnings\n",
    "\n",
    "\n",
    "with warnings.catch_warnings():\n",
    "    warnings.filterwarnings('ignore')\n",
    "    cat_BO.maximize(init_points=20, n_iter=20, acq='ucb')"
   ]
  },
  {
   "cell_type": "code",
   "execution_count": null,
   "metadata": {},
   "outputs": [],
   "source": [
    "model = CatBoostClassifier(max_depth=int(cat_BO.max['params']['max_depth']),\n",
    "                           n_estimators=int(cat_BO.max['params']['n_estimators']),\n",
    "                           learning_rate=cat_BO.max['params']['lr'],\n",
    "                           objective='CrossEntropy', eval_metric='AUC',\n",
    "                               task_type='GPU', verbose=0, thread_count=16)"
   ]
  },
  {
   "cell_type": "code",
   "execution_count": null,
   "metadata": {},
   "outputs": [],
   "source": [
    "model.fit(data_train, y)"
   ]
  },
  {
   "cell_type": "code",
   "execution_count": null,
   "metadata": {},
   "outputs": [],
   "source": [
    "a = model.predict_proba(data_test)[:, 1] # вероятности за 1й класс"
   ]
  },
  {
   "cell_type": "code",
   "execution_count": null,
   "metadata": {},
   "outputs": [],
   "source": [
    "pd.DataFrame(a,  columns=['proba'], index=ids.values).to_csv('ctb.csv')"
   ]
  },
  {
   "cell_type": "code",
   "execution_count": null,
   "metadata": {},
   "outputs": [],
   "source": []
  },
  {
   "cell_type": "markdown",
   "metadata": {},
   "source": [
    "### Обучение и формирование ответа"
   ]
  },
  {
   "cell_type": "code",
   "execution_count": null,
   "metadata": {},
   "outputs": [],
   "source": [
    "model.fit(data_train, y)"
   ]
  },
  {
   "cell_type": "code",
   "execution_count": null,
   "metadata": {},
   "outputs": [],
   "source": [
    "a = model.predict_proba(data_test)[:, 1] # вероятности за 1й класс"
   ]
  },
  {
   "cell_type": "code",
   "execution_count": null,
   "metadata": {},
   "outputs": [],
   "source": [
    "pd.DataFrame(a,  columns=['proba'], index=ids.values).to_csv('dj1_01_.csv')"
   ]
  },
  {
   "cell_type": "code",
   "execution_count": null,
   "metadata": {},
   "outputs": [],
   "source": []
  }
 ],
 "metadata": {
  "kernelspec": {
   "display_name": "Python 3",
   "language": "python",
   "name": "python3"
  },
  "language_info": {
   "codemirror_mode": {
    "name": "ipython",
    "version": 3
   },
   "file_extension": ".py",
   "mimetype": "text/x-python",
   "name": "python",
   "nbconvert_exporter": "python",
   "pygments_lexer": "ipython3",
   "version": "3.7.6"
  }
 },
 "nbformat": 4,
 "nbformat_minor": 2
}
