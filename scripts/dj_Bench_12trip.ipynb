{
 "cells": [
  {
   "cell_type": "markdown",
   "metadata": {},
   "source": [
    "# Бенчмарк для задачи OneTwoTrip Contest\n",
    "\n",
    "https://boosters.pro/championship/onetwotrip_challenge/overview\n",
    "    \n",
    "    \n",
    "для студентов ВМК МГУ\n",
    "\n",
    "2019, Александр Дьяконов www.dyakonov.org/ag/"
   ]
  },
  {
   "cell_type": "code",
   "execution_count": 1,
   "metadata": {},
   "outputs": [
    {
     "name": "stdout",
     "output_type": "stream",
     "text": [
      "Populating the interactive namespace from numpy and matplotlib\n"
     ]
    }
   ],
   "source": [
    "# подгружаем все нужные пакеты\n",
    "import pandas as pd\n",
    "import numpy as np\n",
    "# для встроенных картинок\n",
    "%pylab inline\n",
    "# отключить предупреждения\n",
    "import warnings\n",
    "warnings.filterwarnings('ignore')\n",
    "# прогресс-бар\n",
    "from tqdm import tqdm, tqdm_notebook"
   ]
  },
  {
   "cell_type": "markdown",
   "metadata": {},
   "source": [
    "## загрузка данных"
   ]
  },
  {
   "cell_type": "code",
   "execution_count": 2,
   "metadata": {},
   "outputs": [
    {
     "name": "stdout",
     "output_type": "stream",
     "text": [
      "размеры: (196056, 43) (455011, 37)\n"
     ]
    }
   ],
   "source": [
    "data_train = pd.read_csv('../data/onetwotrip_challenge_train.csv')\n",
    "data_test = pd.read_csv('../data/onetwotrip_challenge_test.csv')\n",
    "print ('размеры:', data_train.shape, data_test.shape)"
   ]
  },
  {
   "cell_type": "markdown",
   "metadata": {},
   "source": [
    "## посмотрим на данные\n",
    "\n",
    "обратите внимание, как выводятся дата-фреймы"
   ]
  },
  {
   "cell_type": "code",
   "execution_count": 3,
   "metadata": {},
   "outputs": [
    {
     "data": {
      "text/html": [
       "<div>\n",
       "<style scoped>\n",
       "    .dataframe tbody tr th:only-of-type {\n",
       "        vertical-align: middle;\n",
       "    }\n",
       "\n",
       "    .dataframe tbody tr th {\n",
       "        vertical-align: top;\n",
       "    }\n",
       "\n",
       "    .dataframe thead th {\n",
       "        text-align: right;\n",
       "    }\n",
       "</style>\n",
       "<table border=\"1\" class=\"dataframe\">\n",
       "  <thead>\n",
       "    <tr style=\"text-align: right;\">\n",
       "      <th></th>\n",
       "      <th>orderid</th>\n",
       "      <th>userid</th>\n",
       "      <th>field0</th>\n",
       "      <th>field1</th>\n",
       "      <th>field2</th>\n",
       "      <th>field3</th>\n",
       "      <th>field4</th>\n",
       "      <th>field5</th>\n",
       "      <th>field6</th>\n",
       "      <th>field7</th>\n",
       "      <th>...</th>\n",
       "      <th>indicator_goal22</th>\n",
       "      <th>indicator_goal23</th>\n",
       "      <th>indicator_goal24</th>\n",
       "      <th>indicator_goal25</th>\n",
       "      <th>goal21</th>\n",
       "      <th>goal22</th>\n",
       "      <th>goal23</th>\n",
       "      <th>goal24</th>\n",
       "      <th>goal25</th>\n",
       "      <th>goal1</th>\n",
       "    </tr>\n",
       "  </thead>\n",
       "  <tbody>\n",
       "    <tr>\n",
       "      <th>0</th>\n",
       "      <td>0</td>\n",
       "      <td>10d654494cbe97bbb25d51ead2600679aff9e097924add...</td>\n",
       "      <td>0</td>\n",
       "      <td>-0.626508</td>\n",
       "      <td>11</td>\n",
       "      <td>12</td>\n",
       "      <td>1</td>\n",
       "      <td>1</td>\n",
       "      <td>0</td>\n",
       "      <td>1</td>\n",
       "      <td>...</td>\n",
       "      <td>1</td>\n",
       "      <td>0</td>\n",
       "      <td>1</td>\n",
       "      <td>1</td>\n",
       "      <td>0</td>\n",
       "      <td>1</td>\n",
       "      <td>0</td>\n",
       "      <td>0</td>\n",
       "      <td>0</td>\n",
       "      <td>0</td>\n",
       "    </tr>\n",
       "    <tr>\n",
       "      <th>1</th>\n",
       "      <td>1</td>\n",
       "      <td>4aafc0391f72bbcf60537aece62923baf9ce644b64ac36...</td>\n",
       "      <td>144</td>\n",
       "      <td>-0.393794</td>\n",
       "      <td>5</td>\n",
       "      <td>7</td>\n",
       "      <td>2</td>\n",
       "      <td>0</td>\n",
       "      <td>0</td>\n",
       "      <td>2</td>\n",
       "      <td>...</td>\n",
       "      <td>1</td>\n",
       "      <td>0</td>\n",
       "      <td>1</td>\n",
       "      <td>0</td>\n",
       "      <td>0</td>\n",
       "      <td>0</td>\n",
       "      <td>0</td>\n",
       "      <td>0</td>\n",
       "      <td>0</td>\n",
       "      <td>0</td>\n",
       "    </tr>\n",
       "    <tr>\n",
       "      <th>2</th>\n",
       "      <td>2</td>\n",
       "      <td>bac8ffef46348f587c8d17137ab01fb24aef21547c647d...</td>\n",
       "      <td>134</td>\n",
       "      <td>-0.548937</td>\n",
       "      <td>2</td>\n",
       "      <td>3</td>\n",
       "      <td>2</td>\n",
       "      <td>0</td>\n",
       "      <td>0</td>\n",
       "      <td>1</td>\n",
       "      <td>...</td>\n",
       "      <td>1</td>\n",
       "      <td>0</td>\n",
       "      <td>1</td>\n",
       "      <td>1</td>\n",
       "      <td>0</td>\n",
       "      <td>0</td>\n",
       "      <td>0</td>\n",
       "      <td>0</td>\n",
       "      <td>0</td>\n",
       "      <td>0</td>\n",
       "    </tr>\n",
       "    <tr>\n",
       "      <th>3</th>\n",
       "      <td>3</td>\n",
       "      <td>0392247b4b87674aba2c32bf2292b105771a6a376871be...</td>\n",
       "      <td>0</td>\n",
       "      <td>-0.238651</td>\n",
       "      <td>10</td>\n",
       "      <td>11</td>\n",
       "      <td>1</td>\n",
       "      <td>1</td>\n",
       "      <td>3</td>\n",
       "      <td>2</td>\n",
       "      <td>...</td>\n",
       "      <td>1</td>\n",
       "      <td>0</td>\n",
       "      <td>1</td>\n",
       "      <td>1</td>\n",
       "      <td>0</td>\n",
       "      <td>0</td>\n",
       "      <td>0</td>\n",
       "      <td>0</td>\n",
       "      <td>0</td>\n",
       "      <td>0</td>\n",
       "    </tr>\n",
       "    <tr>\n",
       "      <th>4</th>\n",
       "      <td>4</td>\n",
       "      <td>d1aeefef311bbeb4bd84876c8d49421f276674527d5578...</td>\n",
       "      <td>0</td>\n",
       "      <td>-0.704079</td>\n",
       "      <td>8</td>\n",
       "      <td>11</td>\n",
       "      <td>1</td>\n",
       "      <td>1</td>\n",
       "      <td>0</td>\n",
       "      <td>1</td>\n",
       "      <td>...</td>\n",
       "      <td>1</td>\n",
       "      <td>0</td>\n",
       "      <td>0</td>\n",
       "      <td>1</td>\n",
       "      <td>0</td>\n",
       "      <td>0</td>\n",
       "      <td>0</td>\n",
       "      <td>0</td>\n",
       "      <td>0</td>\n",
       "      <td>0</td>\n",
       "    </tr>\n",
       "  </tbody>\n",
       "</table>\n",
       "<p>5 rows × 43 columns</p>\n",
       "</div>"
      ],
      "text/plain": [
       "   orderid                                             userid  field0  \\\n",
       "0        0  10d654494cbe97bbb25d51ead2600679aff9e097924add...       0   \n",
       "1        1  4aafc0391f72bbcf60537aece62923baf9ce644b64ac36...     144   \n",
       "2        2  bac8ffef46348f587c8d17137ab01fb24aef21547c647d...     134   \n",
       "3        3  0392247b4b87674aba2c32bf2292b105771a6a376871be...       0   \n",
       "4        4  d1aeefef311bbeb4bd84876c8d49421f276674527d5578...       0   \n",
       "\n",
       "     field1  field2  field3  field4  field5  field6  field7  ...  \\\n",
       "0 -0.626508      11      12       1       1       0       1  ...   \n",
       "1 -0.393794       5       7       2       0       0       2  ...   \n",
       "2 -0.548937       2       3       2       0       0       1  ...   \n",
       "3 -0.238651      10      11       1       1       3       2  ...   \n",
       "4 -0.704079       8      11       1       1       0       1  ...   \n",
       "\n",
       "   indicator_goal22  indicator_goal23  indicator_goal24  indicator_goal25  \\\n",
       "0                 1                 0                 1                 1   \n",
       "1                 1                 0                 1                 0   \n",
       "2                 1                 0                 1                 1   \n",
       "3                 1                 0                 1                 1   \n",
       "4                 1                 0                 0                 1   \n",
       "\n",
       "   goal21  goal22  goal23  goal24  goal25  goal1  \n",
       "0       0       1       0       0       0      0  \n",
       "1       0       0       0       0       0      0  \n",
       "2       0       0       0       0       0      0  \n",
       "3       0       0       0       0       0      0  \n",
       "4       0       0       0       0       0      0  \n",
       "\n",
       "[5 rows x 43 columns]"
      ]
     },
     "execution_count": 3,
     "metadata": {},
     "output_type": "execute_result"
    }
   ],
   "source": [
    "data_train.head()"
   ]
  },
  {
   "cell_type": "code",
   "execution_count": 4,
   "metadata": {},
   "outputs": [
    {
     "data": {
      "text/html": [
       "<div>\n",
       "<style scoped>\n",
       "    .dataframe tbody tr th:only-of-type {\n",
       "        vertical-align: middle;\n",
       "    }\n",
       "\n",
       "    .dataframe tbody tr th {\n",
       "        vertical-align: top;\n",
       "    }\n",
       "\n",
       "    .dataframe thead th {\n",
       "        text-align: right;\n",
       "    }\n",
       "</style>\n",
       "<table border=\"1\" class=\"dataframe\">\n",
       "  <thead>\n",
       "    <tr style=\"text-align: right;\">\n",
       "      <th></th>\n",
       "      <th>orderid</th>\n",
       "      <th>userid</th>\n",
       "      <th>field0</th>\n",
       "      <th>field1</th>\n",
       "      <th>field2</th>\n",
       "      <th>field3</th>\n",
       "      <th>field4</th>\n",
       "      <th>field5</th>\n",
       "      <th>field6</th>\n",
       "      <th>field7</th>\n",
       "      <th>...</th>\n",
       "      <th>field25</th>\n",
       "      <th>field26</th>\n",
       "      <th>field27</th>\n",
       "      <th>field28</th>\n",
       "      <th>field29</th>\n",
       "      <th>indicator_goal21</th>\n",
       "      <th>indicator_goal22</th>\n",
       "      <th>indicator_goal23</th>\n",
       "      <th>indicator_goal24</th>\n",
       "      <th>indicator_goal25</th>\n",
       "    </tr>\n",
       "  </thead>\n",
       "  <tbody>\n",
       "    <tr>\n",
       "      <th>0</th>\n",
       "      <td>0</td>\n",
       "      <td>3a6a6af55e097d3f92705936a7ea3ca8aef651f5966832...</td>\n",
       "      <td>0</td>\n",
       "      <td>-0.548937</td>\n",
       "      <td>10</td>\n",
       "      <td>10</td>\n",
       "      <td>1</td>\n",
       "      <td>1</td>\n",
       "      <td>0</td>\n",
       "      <td>1</td>\n",
       "      <td>...</td>\n",
       "      <td>1</td>\n",
       "      <td>1</td>\n",
       "      <td>1</td>\n",
       "      <td>0</td>\n",
       "      <td>4</td>\n",
       "      <td>1</td>\n",
       "      <td>1</td>\n",
       "      <td>0</td>\n",
       "      <td>0</td>\n",
       "      <td>1</td>\n",
       "    </tr>\n",
       "    <tr>\n",
       "      <th>1</th>\n",
       "      <td>1</td>\n",
       "      <td>2df10f61960163da94a4294773ed9c865296e37c330304...</td>\n",
       "      <td>82</td>\n",
       "      <td>-0.626508</td>\n",
       "      <td>3</td>\n",
       "      <td>4</td>\n",
       "      <td>3</td>\n",
       "      <td>0</td>\n",
       "      <td>0</td>\n",
       "      <td>1</td>\n",
       "      <td>...</td>\n",
       "      <td>1</td>\n",
       "      <td>1</td>\n",
       "      <td>1</td>\n",
       "      <td>0</td>\n",
       "      <td>1</td>\n",
       "      <td>1</td>\n",
       "      <td>1</td>\n",
       "      <td>0</td>\n",
       "      <td>1</td>\n",
       "      <td>1</td>\n",
       "    </tr>\n",
       "    <tr>\n",
       "      <th>2</th>\n",
       "      <td>2</td>\n",
       "      <td>20dc3fec5b5eb42fbfe08119063c3a0010a73c7ec94abb...</td>\n",
       "      <td>0</td>\n",
       "      <td>-0.548937</td>\n",
       "      <td>6</td>\n",
       "      <td>8</td>\n",
       "      <td>1</td>\n",
       "      <td>1</td>\n",
       "      <td>0</td>\n",
       "      <td>2</td>\n",
       "      <td>...</td>\n",
       "      <td>35</td>\n",
       "      <td>1</td>\n",
       "      <td>1</td>\n",
       "      <td>0</td>\n",
       "      <td>2</td>\n",
       "      <td>1</td>\n",
       "      <td>0</td>\n",
       "      <td>0</td>\n",
       "      <td>1</td>\n",
       "      <td>1</td>\n",
       "    </tr>\n",
       "    <tr>\n",
       "      <th>3</th>\n",
       "      <td>3</td>\n",
       "      <td>ed75b3496977bac207eccb59dc91fe9a8d6a27777a6422...</td>\n",
       "      <td>6</td>\n",
       "      <td>0.304348</td>\n",
       "      <td>7</td>\n",
       "      <td>7</td>\n",
       "      <td>2</td>\n",
       "      <td>0</td>\n",
       "      <td>10</td>\n",
       "      <td>1</td>\n",
       "      <td>...</td>\n",
       "      <td>1</td>\n",
       "      <td>3</td>\n",
       "      <td>1</td>\n",
       "      <td>0</td>\n",
       "      <td>3</td>\n",
       "      <td>1</td>\n",
       "      <td>1</td>\n",
       "      <td>0</td>\n",
       "      <td>1</td>\n",
       "      <td>1</td>\n",
       "    </tr>\n",
       "    <tr>\n",
       "      <th>4</th>\n",
       "      <td>4</td>\n",
       "      <td>a346d08351c5fd0bda82984ed7c8b12b6395829da5b857...</td>\n",
       "      <td>115</td>\n",
       "      <td>-0.471365</td>\n",
       "      <td>3</td>\n",
       "      <td>3</td>\n",
       "      <td>2</td>\n",
       "      <td>0</td>\n",
       "      <td>0</td>\n",
       "      <td>1</td>\n",
       "      <td>...</td>\n",
       "      <td>1</td>\n",
       "      <td>1</td>\n",
       "      <td>1</td>\n",
       "      <td>0</td>\n",
       "      <td>1</td>\n",
       "      <td>1</td>\n",
       "      <td>1</td>\n",
       "      <td>0</td>\n",
       "      <td>1</td>\n",
       "      <td>1</td>\n",
       "    </tr>\n",
       "  </tbody>\n",
       "</table>\n",
       "<p>5 rows × 37 columns</p>\n",
       "</div>"
      ],
      "text/plain": [
       "   orderid                                             userid  field0  \\\n",
       "0        0  3a6a6af55e097d3f92705936a7ea3ca8aef651f5966832...       0   \n",
       "1        1  2df10f61960163da94a4294773ed9c865296e37c330304...      82   \n",
       "2        2  20dc3fec5b5eb42fbfe08119063c3a0010a73c7ec94abb...       0   \n",
       "3        3  ed75b3496977bac207eccb59dc91fe9a8d6a27777a6422...       6   \n",
       "4        4  a346d08351c5fd0bda82984ed7c8b12b6395829da5b857...     115   \n",
       "\n",
       "     field1  field2  field3  field4  field5  field6  field7  ...  field25  \\\n",
       "0 -0.548937      10      10       1       1       0       1  ...        1   \n",
       "1 -0.626508       3       4       3       0       0       1  ...        1   \n",
       "2 -0.548937       6       8       1       1       0       2  ...       35   \n",
       "3  0.304348       7       7       2       0      10       1  ...        1   \n",
       "4 -0.471365       3       3       2       0       0       1  ...        1   \n",
       "\n",
       "   field26  field27  field28  field29  indicator_goal21  indicator_goal22  \\\n",
       "0        1        1        0        4                 1                 1   \n",
       "1        1        1        0        1                 1                 1   \n",
       "2        1        1        0        2                 1                 0   \n",
       "3        3        1        0        3                 1                 1   \n",
       "4        1        1        0        1                 1                 1   \n",
       "\n",
       "   indicator_goal23  indicator_goal24  indicator_goal25  \n",
       "0                 0                 0                 1  \n",
       "1                 0                 1                 1  \n",
       "2                 0                 1                 1  \n",
       "3                 0                 1                 1  \n",
       "4                 0                 1                 1  \n",
       "\n",
       "[5 rows x 37 columns]"
      ]
     },
     "execution_count": 4,
     "metadata": {},
     "output_type": "execute_result"
    }
   ],
   "source": [
    "data_test.head()"
   ]
  },
  {
   "cell_type": "markdown",
   "metadata": {},
   "source": [
    "## получаем таблички для обучения"
   ]
  },
  {
   "cell_type": "code",
   "execution_count": 5,
   "metadata": {},
   "outputs": [],
   "source": [
    "# удаляем ненужные признаки\n",
    "ids = data_test.pop('orderid') # сохраняем id для теста\n",
    "data_test.drop(['userid'], inplace=True, axis=1)"
   ]
  },
  {
   "cell_type": "code",
   "execution_count": 6,
   "metadata": {},
   "outputs": [
    {
     "data": {
      "text/plain": [
       "Index(['field0', 'field1', 'field2', 'field3', 'field4', 'field5', 'field6',\n",
       "       'field7', 'field8', 'field9', 'field10', 'field11', 'field12',\n",
       "       'field13', 'field14', 'field15', 'field16', 'field17', 'field18',\n",
       "       'field19', 'field20', 'field21', 'field22', 'field23', 'field24',\n",
       "       'field25', 'field26', 'field27', 'field28', 'field29',\n",
       "       'indicator_goal21', 'indicator_goal22', 'indicator_goal23',\n",
       "       'indicator_goal24', 'indicator_goal25'],\n",
       "      dtype='object')"
      ]
     },
     "execution_count": 6,
     "metadata": {},
     "output_type": "execute_result"
    }
   ],
   "source": [
    "cols = data_test.columns # значимые колонки\n",
    "cols"
   ]
  },
  {
   "cell_type": "code",
   "execution_count": 7,
   "metadata": {},
   "outputs": [],
   "source": [
    "y = data_train.pop('goal1') # целевая переменная для первой задачи"
   ]
  },
  {
   "cell_type": "code",
   "execution_count": 8,
   "metadata": {},
   "outputs": [],
   "source": [
    "y = y.values # мне так спокойней - в numpy.array"
   ]
  },
  {
   "cell_type": "code",
   "execution_count": 9,
   "metadata": {},
   "outputs": [],
   "source": [
    "data_train = data_train[cols] # оставить только нужные колонки"
   ]
  },
  {
   "cell_type": "code",
   "execution_count": 10,
   "metadata": {},
   "outputs": [
    {
     "data": {
      "text/html": [
       "<div>\n",
       "<style scoped>\n",
       "    .dataframe tbody tr th:only-of-type {\n",
       "        vertical-align: middle;\n",
       "    }\n",
       "\n",
       "    .dataframe tbody tr th {\n",
       "        vertical-align: top;\n",
       "    }\n",
       "\n",
       "    .dataframe thead th {\n",
       "        text-align: right;\n",
       "    }\n",
       "</style>\n",
       "<table border=\"1\" class=\"dataframe\">\n",
       "  <thead>\n",
       "    <tr style=\"text-align: right;\">\n",
       "      <th></th>\n",
       "      <th>field0</th>\n",
       "      <th>field1</th>\n",
       "      <th>field2</th>\n",
       "      <th>field3</th>\n",
       "      <th>field4</th>\n",
       "      <th>field5</th>\n",
       "      <th>field6</th>\n",
       "      <th>field7</th>\n",
       "      <th>field8</th>\n",
       "      <th>field9</th>\n",
       "      <th>...</th>\n",
       "      <th>field25</th>\n",
       "      <th>field26</th>\n",
       "      <th>field27</th>\n",
       "      <th>field28</th>\n",
       "      <th>field29</th>\n",
       "      <th>indicator_goal21</th>\n",
       "      <th>indicator_goal22</th>\n",
       "      <th>indicator_goal23</th>\n",
       "      <th>indicator_goal24</th>\n",
       "      <th>indicator_goal25</th>\n",
       "    </tr>\n",
       "  </thead>\n",
       "  <tbody>\n",
       "    <tr>\n",
       "      <th>0</th>\n",
       "      <td>0</td>\n",
       "      <td>-0.626508</td>\n",
       "      <td>11</td>\n",
       "      <td>12</td>\n",
       "      <td>1</td>\n",
       "      <td>1</td>\n",
       "      <td>0</td>\n",
       "      <td>1</td>\n",
       "      <td>1</td>\n",
       "      <td>0</td>\n",
       "      <td>...</td>\n",
       "      <td>1</td>\n",
       "      <td>2</td>\n",
       "      <td>1</td>\n",
       "      <td>0</td>\n",
       "      <td>4</td>\n",
       "      <td>1</td>\n",
       "      <td>1</td>\n",
       "      <td>0</td>\n",
       "      <td>1</td>\n",
       "      <td>1</td>\n",
       "    </tr>\n",
       "    <tr>\n",
       "      <th>1</th>\n",
       "      <td>144</td>\n",
       "      <td>-0.393794</td>\n",
       "      <td>5</td>\n",
       "      <td>7</td>\n",
       "      <td>2</td>\n",
       "      <td>0</td>\n",
       "      <td>0</td>\n",
       "      <td>2</td>\n",
       "      <td>1</td>\n",
       "      <td>0</td>\n",
       "      <td>...</td>\n",
       "      <td>41</td>\n",
       "      <td>3</td>\n",
       "      <td>1</td>\n",
       "      <td>0</td>\n",
       "      <td>2</td>\n",
       "      <td>1</td>\n",
       "      <td>1</td>\n",
       "      <td>0</td>\n",
       "      <td>1</td>\n",
       "      <td>0</td>\n",
       "    </tr>\n",
       "    <tr>\n",
       "      <th>2</th>\n",
       "      <td>134</td>\n",
       "      <td>-0.548937</td>\n",
       "      <td>2</td>\n",
       "      <td>3</td>\n",
       "      <td>2</td>\n",
       "      <td>0</td>\n",
       "      <td>0</td>\n",
       "      <td>1</td>\n",
       "      <td>1</td>\n",
       "      <td>0</td>\n",
       "      <td>...</td>\n",
       "      <td>1</td>\n",
       "      <td>11</td>\n",
       "      <td>7</td>\n",
       "      <td>0</td>\n",
       "      <td>1</td>\n",
       "      <td>1</td>\n",
       "      <td>1</td>\n",
       "      <td>0</td>\n",
       "      <td>1</td>\n",
       "      <td>1</td>\n",
       "    </tr>\n",
       "    <tr>\n",
       "      <th>3</th>\n",
       "      <td>0</td>\n",
       "      <td>-0.238651</td>\n",
       "      <td>10</td>\n",
       "      <td>11</td>\n",
       "      <td>1</td>\n",
       "      <td>1</td>\n",
       "      <td>3</td>\n",
       "      <td>2</td>\n",
       "      <td>1</td>\n",
       "      <td>0</td>\n",
       "      <td>...</td>\n",
       "      <td>18</td>\n",
       "      <td>1</td>\n",
       "      <td>1</td>\n",
       "      <td>0</td>\n",
       "      <td>4</td>\n",
       "      <td>1</td>\n",
       "      <td>1</td>\n",
       "      <td>0</td>\n",
       "      <td>1</td>\n",
       "      <td>1</td>\n",
       "    </tr>\n",
       "    <tr>\n",
       "      <th>4</th>\n",
       "      <td>0</td>\n",
       "      <td>-0.704079</td>\n",
       "      <td>8</td>\n",
       "      <td>11</td>\n",
       "      <td>1</td>\n",
       "      <td>1</td>\n",
       "      <td>0</td>\n",
       "      <td>1</td>\n",
       "      <td>1</td>\n",
       "      <td>0</td>\n",
       "      <td>...</td>\n",
       "      <td>1</td>\n",
       "      <td>1</td>\n",
       "      <td>1</td>\n",
       "      <td>0</td>\n",
       "      <td>3</td>\n",
       "      <td>1</td>\n",
       "      <td>1</td>\n",
       "      <td>0</td>\n",
       "      <td>0</td>\n",
       "      <td>1</td>\n",
       "    </tr>\n",
       "  </tbody>\n",
       "</table>\n",
       "<p>5 rows × 35 columns</p>\n",
       "</div>"
      ],
      "text/plain": [
       "   field0    field1  field2  field3  field4  field5  field6  field7  field8  \\\n",
       "0       0 -0.626508      11      12       1       1       0       1       1   \n",
       "1     144 -0.393794       5       7       2       0       0       2       1   \n",
       "2     134 -0.548937       2       3       2       0       0       1       1   \n",
       "3       0 -0.238651      10      11       1       1       3       2       1   \n",
       "4       0 -0.704079       8      11       1       1       0       1       1   \n",
       "\n",
       "   field9  ...  field25  field26  field27  field28  field29  indicator_goal21  \\\n",
       "0       0  ...        1        2        1        0        4                 1   \n",
       "1       0  ...       41        3        1        0        2                 1   \n",
       "2       0  ...        1       11        7        0        1                 1   \n",
       "3       0  ...       18        1        1        0        4                 1   \n",
       "4       0  ...        1        1        1        0        3                 1   \n",
       "\n",
       "   indicator_goal22  indicator_goal23  indicator_goal24  indicator_goal25  \n",
       "0                 1                 0                 1                 1  \n",
       "1                 1                 0                 1                 0  \n",
       "2                 1                 0                 1                 1  \n",
       "3                 1                 0                 1                 1  \n",
       "4                 1                 0                 0                 1  \n",
       "\n",
       "[5 rows x 35 columns]"
      ]
     },
     "execution_count": 10,
     "metadata": {},
     "output_type": "execute_result"
    }
   ],
   "source": [
    "# что получилось\n",
    "data_train.head()"
   ]
  },
  {
   "cell_type": "markdown",
   "metadata": {},
   "source": [
    "### Эксперименты\n",
    "\n",
    "сначала делим выборку на обучение и тест\n",
    "\n",
    "не самое лучшее решение, но для быстроты экспериментов сгодится"
   ]
  },
  {
   "cell_type": "code",
   "execution_count": 11,
   "metadata": {},
   "outputs": [],
   "source": [
    "from sklearn.model_selection import train_test_split\n",
    "X_train, X_test, y_train, y_test = train_test_split(data_train, y, test_size=0.3, random_state=13)"
   ]
  },
  {
   "cell_type": "markdown",
   "metadata": {},
   "source": [
    "### Случайный лес\n",
    "\n",
    "\n",
    "строим по одному дереву и вычисляем метрику качества (ROC AUC)\n",
    "\n",
    "обратите внимание на прогресс-бар"
   ]
  },
  {
   "cell_type": "code",
   "execution_count": 12,
   "metadata": {},
   "outputs": [
    {
     "data": {
      "application/vnd.jupyter.widget-view+json": {
       "model_id": "01d2a9b0953e428b90632e6a83e507da",
       "version_major": 2,
       "version_minor": 0
      },
      "text/plain": [
       "HBox(children=(FloatProgress(value=0.0), HTML(value='')))"
      ]
     },
     "metadata": {},
     "output_type": "display_data"
    },
    {
     "name": "stdout",
     "output_type": "stream",
     "text": [
      "\n"
     ]
    },
    {
     "data": {
      "text/plain": [
       "[<matplotlib.lines.Line2D at 0x7efbc4875290>]"
      ]
     },
     "execution_count": 12,
     "metadata": {},
     "output_type": "execute_result"
    },
    {
     "data": {
      "image/png": "[encoded data removed]",
      "text/plain": [
       "<Figure size 432x288 with 1 Axes>"
      ]
     },
     "metadata": {
      "needs_background": "light"
     },
     "output_type": "display_data"
    }
   ],
   "source": [
    "from sklearn.ensemble import RandomForestClassifier\n",
    "from sklearn.metrics import roc_auc_score\n",
    "\n",
    "model = RandomForestClassifier(max_features=1, n_estimators=1, oob_score=False, warm_start=True, random_state=1)\n",
    "\n",
    "aucs = []\n",
    "for t in tqdm_notebook(list(range(1, 101))):\n",
    "    model.set_params(n_estimators=t)\n",
    "    model.fit(X_train, y_train)\n",
    "    a = model.predict_proba(X_test)[:, 1]\n",
    "    q = roc_auc_score(y_test, a)\n",
    "    aucs.append(q)\n",
    "    \n",
    "plt.plot(range(1, 101), aucs)"
   ]
  },
  {
   "cell_type": "code",
   "execution_count": 13,
   "metadata": {},
   "outputs": [
    {
     "data": {
      "application/vnd.jupyter.widget-view+json": {
       "model_id": "f50dbd8751c146bdbe11aa84cde39ac0",
       "version_major": 2,
       "version_minor": 0
      },
      "text/plain": [
       "HBox(children=(FloatProgress(value=0.0), HTML(value='')))"
      ]
     },
     "metadata": {},
     "output_type": "display_data"
    },
    {
     "name": "stdout",
     "output_type": "stream",
     "text": [
      "\n"
     ]
    },
    {
     "data": {
      "text/plain": [
       "[<matplotlib.lines.Line2D at 0x7efbc479a990>]"
      ]
     },
     "execution_count": 13,
     "metadata": {},
     "output_type": "execute_result"
    },
    {
     "data": {
      "image/png": "[encoded data removed]",
      "text/plain": [
       "<Figure size 432x288 with 1 Axes>"
      ]
     },
     "metadata": {
      "needs_background": "light"
     },
     "output_type": "display_data"
    }
   ],
   "source": [
    "# аналогичные эксперименты с max_features=2\n",
    "\n",
    "model = RandomForestClassifier(max_features=2, n_estimators=1, oob_score=False, warm_start=True, random_state=1)\n",
    "\n",
    "aucs = []\n",
    "for t in tqdm_notebook(list(range(1, 101))):\n",
    "    model.set_params(n_estimators=t)\n",
    "    model.fit(X_train, y_train)\n",
    "    a = model.predict_proba(X_test)[:, 1]\n",
    "    q = roc_auc_score(y_test, a)\n",
    "    aucs.append(q)\n",
    "    \n",
    "plt.plot(range(1, 101), aucs)   "
   ]
  },
  {
   "cell_type": "markdown",
   "metadata": {},
   "source": [
    "# Козырь\n",
    "\n",
    "более хорошая модель из другой библиотеки"
   ]
  },
  {
   "cell_type": "code",
   "execution_count": 14,
   "metadata": {},
   "outputs": [],
   "source": [
    "import lightgbm as lgb\n",
    "model = lgb.LGBMClassifier(num_leaves=6, learning_rate=0.08, n_estimators=700)"
   ]
  },
  {
   "cell_type": "code",
   "execution_count": 15,
   "metadata": {},
   "outputs": [
    {
     "name": "stdout",
     "output_type": "stream",
     "text": [
      "[50]\tvalid_0's auc: 0.706054\tvalid_1's auc: 0.677412\n",
      "[100]\tvalid_0's auc: 0.722662\tvalid_1's auc: 0.680443\n",
      "[150]\tvalid_0's auc: 0.734048\tvalid_1's auc: 0.679557\n",
      "[200]\tvalid_0's auc: 0.745404\tvalid_1's auc: 0.679468\n",
      "[250]\tvalid_0's auc: 0.754917\tvalid_1's auc: 0.678977\n",
      "[300]\tvalid_0's auc: 0.761519\tvalid_1's auc: 0.678591\n",
      "[350]\tvalid_0's auc: 0.769911\tvalid_1's auc: 0.677659\n",
      "[400]\tvalid_0's auc: 0.775379\tvalid_1's auc: 0.675867\n",
      "[450]\tvalid_0's auc: 0.780452\tvalid_1's auc: 0.674587\n",
      "[500]\tvalid_0's auc: 0.786622\tvalid_1's auc: 0.673604\n",
      "CPU times: user 3min 11s, sys: 4.36 s, total: 3min 15s\n",
      "Wall time: 6.35 s\n"
     ]
    }
   ],
   "source": [
    "%%time\n",
    "\n",
    "param = {'num_leaves': 6, 'objective': 'binary', 'learning_rate': 0.1}\n",
    "param['metric'] = 'auc'\n",
    "\n",
    "q = lgb.train(param, train_set=lgb.Dataset(X_train, y_train), num_boost_round=500,\n",
    "              valid_sets=[lgb.Dataset(X_train, y_train), lgb.Dataset(X_test, y_test)],\n",
    "             verbose_eval=50)"
   ]
  },
  {
   "cell_type": "code",
   "execution_count": 26,
   "metadata": {},
   "outputs": [
    {
     "data": {
      "text/plain": [
       "<bound method Booster.eval_valid of <lightgbm.basic.Booster object at 0x7efbc47e1450>>"
      ]
     },
     "execution_count": 26,
     "metadata": {},
     "output_type": "execute_result"
    }
   ],
   "source": []
  },
  {
   "cell_type": "markdown",
   "metadata": {},
   "source": [
    "Воспользуемся bayes_opt для подбора параметров:"
   ]
  },
  {
   "cell_type": "code",
   "execution_count": 133,
   "metadata": {},
   "outputs": [],
   "source": [
    "from bayes_opt import BayesianOptimization\n",
    "from sklearn.metrics import roc_auc_score\n",
    "\n",
    "\n",
    "def lgb_bayesian(max_depth,\n",
    "                 lambda_l1,\n",
    "                 lambda_l2,\n",
    "                 bagging_fraction,\n",
    "                 bagging_freq,\n",
    "                 colsample_bytree,\n",
    "                 learning_rate,\n",
    "                 num_leaves,\n",
    "                 max_bin\n",
    "                      ):\n",
    "    params = {\n",
    "        'boosting_type': 'gbdt',\n",
    "        'metric': 'AUC',\n",
    "        'objective': 'binary',\n",
    "        'eval_metric': 'AUC',\n",
    "        'n_jobs': 16,\n",
    "        'seed': 42,\n",
    "        'early_stopping_rounds': 150,\n",
    "        'n_estimators': 2000,\n",
    "        'learning_rate': learning_rate,\n",
    "        'max_depth': int(max_depth),\n",
    "        'lambda_l1': lambda_l1,\n",
    "        'lambda_l2': lambda_l2,\n",
    "        'bagging_fraction': bagging_fraction,\n",
    "        'bagging_freq': int(bagging_freq),\n",
    "        'colsample_bytree': colsample_bytree,\n",
    "        'verbose': 0\n",
    "    }\n",
    "    model = lgb.LGBMClassifier(boosting_type=params['boosting_type'],\n",
    "                                metric='AUC',\n",
    "                                objective='binary',\n",
    "                                eval_metric='AUC',\n",
    "                                n_jobs= 16,\n",
    "                                seed=42,\n",
    "#                                 early_stopping_rounds=150,\n",
    "                                n_estimators= 2000,\n",
    "                                learning_rate=learning_rate,\n",
    "                                max_depth=int(max_depth),\n",
    "                                lambda_l1=lambda_l1,\n",
    "                                lambda_l2=lambda_l2,\n",
    "                                bagging_fraction=bagging_fraction,\n",
    "                                bagging_freq=int(bagging_freq),\n",
    "                                max_bin=int(max_bin),\n",
    "                                num_leaves=int(num_leaves),\n",
    "                                colsample_bytree=colsample_bytree,\n",
    "                                verbose=0,\n",
    "#                                 valid_sets=[lgb.Dataset(X_train, y_train), lgb.Dataset(X_test, y_test)]\n",
    "                                )\n",
    "    model.fit(X_train, y_train)\n",
    "\n",
    "    return roc_auc_score(y_test, model.predict_proba(X_test)[:, 1])"
   ]
  },
  {
   "cell_type": "code",
   "execution_count": 134,
   "metadata": {},
   "outputs": [],
   "source": [
    "bounds_LGB = {\n",
    "    'max_depth': (2, 20),\n",
    "    'lambda_l1': (0, 10),\n",
    "    'lambda_l2': (0, 10),\n",
    "    'bagging_fraction': (0.4, 0.9),\n",
    "    'bagging_freq': (1, 10),\n",
    "    'colsample_bytree': (0.4, 0.9),\n",
    "    'learning_rate': (0.025, 0.1),\n",
    "    'num_leaves': (2, 20),\n",
    "    'max_bin': (2, 1000)\n",
    "}\n",
    "\n",
    "\n",
    "lgbm_BO = BayesianOptimization(lgb_bayesian, bounds_LGB, random_state=13 * 2)"
   ]
  },
  {
   "cell_type": "code",
   "execution_count": 135,
   "metadata": {},
   "outputs": [
    {
     "name": "stdout",
     "output_type": "stream",
     "text": [
      "|   iter    |  target   | baggin... | baggin... | colsam... | lambda_l1 | lambda_l2 | learni... | max_depth |\n",
      "-------------------------------------------------------------------------------------------------------------\n",
      "| \u001b[0m 1       \u001b[0m | \u001b[0m 0.6482  \u001b[0m | \u001b[0m 0.4616  \u001b[0m | \u001b[0m 5.675   \u001b[0m | \u001b[0m 0.5537  \u001b[0m | \u001b[0m 3.946   \u001b[0m | \u001b[0m 4.353   \u001b[0m | \u001b[0m 0.03909 \u001b[0m | \u001b[0m 6.851   \u001b[0m |\n",
      "| \u001b[0m 2       \u001b[0m | \u001b[0m 0.6332  \u001b[0m | \u001b[0m 0.4992  \u001b[0m | \u001b[0m 7.652   \u001b[0m | \u001b[0m 0.439   \u001b[0m | \u001b[0m 0.8987  \u001b[0m | \u001b[0m 2.694   \u001b[0m | \u001b[0m 0.04621 \u001b[0m | \u001b[0m 15.7    \u001b[0m |\n",
      "| \u001b[0m 3       \u001b[0m | \u001b[0m 0.6336  \u001b[0m | \u001b[0m 0.4539  \u001b[0m | \u001b[0m 3.642   \u001b[0m | \u001b[0m 0.5925  \u001b[0m | \u001b[0m 4.566   \u001b[0m | \u001b[0m 2.841   \u001b[0m | \u001b[0m 0.06141 \u001b[0m | \u001b[0m 13.77   \u001b[0m |\n",
      "| \u001b[0m 4       \u001b[0m | \u001b[0m 0.6279  \u001b[0m | \u001b[0m 0.5073  \u001b[0m | \u001b[0m 9.962   \u001b[0m | \u001b[0m 0.4284  \u001b[0m | \u001b[0m 4.877   \u001b[0m | \u001b[0m 3.098   \u001b[0m | \u001b[0m 0.07904 \u001b[0m | \u001b[0m 7.311   \u001b[0m |\n",
      "| \u001b[0m 5       \u001b[0m | \u001b[0m 0.6321  \u001b[0m | \u001b[0m 0.52    \u001b[0m | \u001b[0m 7.756   \u001b[0m | \u001b[0m 0.5283  \u001b[0m | \u001b[0m 4.616   \u001b[0m | \u001b[0m 4.444   \u001b[0m | \u001b[0m 0.07335 \u001b[0m | \u001b[0m 7.322   \u001b[0m |\n",
      "| \u001b[0m 6       \u001b[0m | \u001b[0m 0.632   \u001b[0m | \u001b[0m 0.5365  \u001b[0m | \u001b[0m 3.493   \u001b[0m | \u001b[0m 0.4253  \u001b[0m | \u001b[0m 2.85    \u001b[0m | \u001b[0m 2.045   \u001b[0m | \u001b[0m 0.06703 \u001b[0m | \u001b[0m 17.38   \u001b[0m |\n",
      "| \u001b[95m 7       \u001b[0m | \u001b[95m 0.6565  \u001b[0m | \u001b[95m 0.4193  \u001b[0m | \u001b[95m 4.189   \u001b[0m | \u001b[95m 0.5947  \u001b[0m | \u001b[95m 4.61    \u001b[0m | \u001b[95m 4.843   \u001b[0m | \u001b[95m 0.02882 \u001b[0m | \u001b[95m 17.9    \u001b[0m |\n",
      "| \u001b[0m 8       \u001b[0m | \u001b[0m 0.6145  \u001b[0m | \u001b[0m 0.554   \u001b[0m | \u001b[0m 3.157   \u001b[0m | \u001b[0m 0.4208  \u001b[0m | \u001b[0m 0.9315  \u001b[0m | \u001b[0m 3.764   \u001b[0m | \u001b[0m 0.09647 \u001b[0m | \u001b[0m 16.23   \u001b[0m |\n",
      "| \u001b[95m 9       \u001b[0m | \u001b[95m 0.6693  \u001b[0m | \u001b[95m 0.4373  \u001b[0m | \u001b[95m 5.608   \u001b[0m | \u001b[95m 0.4163  \u001b[0m | \u001b[95m 2.616   \u001b[0m | \u001b[95m 0.6693  \u001b[0m | \u001b[95m 0.0399  \u001b[0m | \u001b[95m 3.948   \u001b[0m |\n",
      "| \u001b[0m 10      \u001b[0m | \u001b[0m 0.6225  \u001b[0m | \u001b[0m 0.5265  \u001b[0m | \u001b[0m 9.567   \u001b[0m | \u001b[0m 0.5053  \u001b[0m | \u001b[0m 1.684   \u001b[0m | \u001b[0m 2.542   \u001b[0m | \u001b[0m 0.09929 \u001b[0m | \u001b[0m 13.4    \u001b[0m |\n",
      "| \u001b[0m 11      \u001b[0m | \u001b[0m 0.6283  \u001b[0m | \u001b[0m 0.4729  \u001b[0m | \u001b[0m 9.782   \u001b[0m | \u001b[0m 0.5565  \u001b[0m | \u001b[0m 0.194   \u001b[0m | \u001b[0m 4.927   \u001b[0m | \u001b[0m 0.05141 \u001b[0m | \u001b[0m 7.001   \u001b[0m |\n",
      "| \u001b[0m 12      \u001b[0m | \u001b[0m 0.6311  \u001b[0m | \u001b[0m 0.4627  \u001b[0m | \u001b[0m 6.762   \u001b[0m | \u001b[0m 0.4974  \u001b[0m | \u001b[0m 1.357   \u001b[0m | \u001b[0m 4.73    \u001b[0m | \u001b[0m 0.05573 \u001b[0m | \u001b[0m 6.82    \u001b[0m |\n",
      "| \u001b[95m 13      \u001b[0m | \u001b[95m 0.6749  \u001b[0m | \u001b[95m 0.5727  \u001b[0m | \u001b[95m 5.152   \u001b[0m | \u001b[95m 0.5401  \u001b[0m | \u001b[95m 2.27    \u001b[0m | \u001b[95m 3.726   \u001b[0m | \u001b[95m 0.02961 \u001b[0m | \u001b[95m 3.201   \u001b[0m |\n",
      "| \u001b[0m 14      \u001b[0m | \u001b[0m 0.6141  \u001b[0m | \u001b[0m 0.4593  \u001b[0m | \u001b[0m 6.51    \u001b[0m | \u001b[0m 0.4027  \u001b[0m | \u001b[0m 1.911   \u001b[0m | \u001b[0m 3.398   \u001b[0m | \u001b[0m 0.09351 \u001b[0m | \u001b[0m 6.627   \u001b[0m |\n",
      "| \u001b[0m 15      \u001b[0m | \u001b[0m 0.6041  \u001b[0m | \u001b[0m 0.4207  \u001b[0m | \u001b[0m 8.505   \u001b[0m | \u001b[0m 0.5111  \u001b[0m | \u001b[0m 0.02522 \u001b[0m | \u001b[0m 1.823   \u001b[0m | \u001b[0m 0.08271 \u001b[0m | \u001b[0m 6.961   \u001b[0m |\n",
      "| \u001b[0m 16      \u001b[0m | \u001b[0m 0.6386  \u001b[0m | \u001b[0m 0.4585  \u001b[0m | \u001b[0m 1.768   \u001b[0m | \u001b[0m 0.4375  \u001b[0m | \u001b[0m 1.313   \u001b[0m | \u001b[0m 3.225   \u001b[0m | \u001b[0m 0.04203 \u001b[0m | \u001b[0m 11.25   \u001b[0m |\n",
      "| \u001b[0m 17      \u001b[0m | \u001b[0m 0.6383  \u001b[0m | \u001b[0m 0.539   \u001b[0m | \u001b[0m 8.899   \u001b[0m | \u001b[0m 0.5614  \u001b[0m | \u001b[0m 4.503   \u001b[0m | \u001b[0m 4.287   \u001b[0m | \u001b[0m 0.05783 \u001b[0m | \u001b[0m 12.61   \u001b[0m |\n",
      "| \u001b[0m 18      \u001b[0m | \u001b[0m 0.6372  \u001b[0m | \u001b[0m 0.5571  \u001b[0m | \u001b[0m 5.985   \u001b[0m | \u001b[0m 0.5242  \u001b[0m | \u001b[0m 2.868   \u001b[0m | \u001b[0m 3.681   \u001b[0m | \u001b[0m 0.09911 \u001b[0m | \u001b[0m 4.392   \u001b[0m |\n",
      "| \u001b[0m 19      \u001b[0m | \u001b[0m 0.6497  \u001b[0m | \u001b[0m 0.4227  \u001b[0m | \u001b[0m 7.314   \u001b[0m | \u001b[0m 0.4117  \u001b[0m | \u001b[0m 2.798   \u001b[0m | \u001b[0m 2.428   \u001b[0m | \u001b[0m 0.03219 \u001b[0m | \u001b[0m 16.41   \u001b[0m |\n",
      "| \u001b[0m 20      \u001b[0m | \u001b[0m 0.6729  \u001b[0m | \u001b[0m 0.4121  \u001b[0m | \u001b[0m 6.042   \u001b[0m | \u001b[0m 0.486   \u001b[0m | \u001b[0m 1.326   \u001b[0m | \u001b[0m 2.464   \u001b[0m | \u001b[0m 0.03028 \u001b[0m | \u001b[0m 3.55    \u001b[0m |\n",
      "| \u001b[0m 21      \u001b[0m | \u001b[0m 0.6439  \u001b[0m | \u001b[0m 0.4486  \u001b[0m | \u001b[0m 9.448   \u001b[0m | \u001b[0m 0.474   \u001b[0m | \u001b[0m 0.9446  \u001b[0m | \u001b[0m 4.015   \u001b[0m | \u001b[0m 0.03588 \u001b[0m | \u001b[0m 17.63   \u001b[0m |\n",
      "| \u001b[0m 22      \u001b[0m | \u001b[0m 0.6333  \u001b[0m | \u001b[0m 0.4586  \u001b[0m | \u001b[0m 1.478   \u001b[0m | \u001b[0m 0.5137  \u001b[0m | \u001b[0m 1.08    \u001b[0m | \u001b[0m 0.8705  \u001b[0m | \u001b[0m 0.04696 \u001b[0m | \u001b[0m 19.42   \u001b[0m |\n",
      "| \u001b[0m 23      \u001b[0m | \u001b[0m 0.6237  \u001b[0m | \u001b[0m 0.4362  \u001b[0m | \u001b[0m 1.745   \u001b[0m | \u001b[0m 0.572   \u001b[0m | \u001b[0m 4.676   \u001b[0m | \u001b[0m 4.468   \u001b[0m | \u001b[0m 0.09569 \u001b[0m | \u001b[0m 18.14   \u001b[0m |\n",
      "| \u001b[0m 24      \u001b[0m | \u001b[0m 0.6314  \u001b[0m | \u001b[0m 0.562   \u001b[0m | \u001b[0m 5.494   \u001b[0m | \u001b[0m 0.5993  \u001b[0m | \u001b[0m 4.515   \u001b[0m | \u001b[0m 0.5327  \u001b[0m | \u001b[0m 0.06024 \u001b[0m | \u001b[0m 8.124   \u001b[0m |\n",
      "| \u001b[0m 25      \u001b[0m | \u001b[0m 0.6326  \u001b[0m | \u001b[0m 0.521   \u001b[0m | \u001b[0m 4.841   \u001b[0m | \u001b[0m 0.5339  \u001b[0m | \u001b[0m 4.81    \u001b[0m | \u001b[0m 2.031   \u001b[0m | \u001b[0m 0.05538 \u001b[0m | \u001b[0m 15.71   \u001b[0m |\n",
      "| \u001b[0m 26      \u001b[0m | \u001b[0m 0.6301  \u001b[0m | \u001b[0m 0.5703  \u001b[0m | \u001b[0m 9.87    \u001b[0m | \u001b[0m 0.529   \u001b[0m | \u001b[0m 1.522   \u001b[0m | \u001b[0m 0.8995  \u001b[0m | \u001b[0m 0.05644 \u001b[0m | \u001b[0m 18.29   \u001b[0m |\n",
      "| \u001b[0m 27      \u001b[0m | \u001b[0m 0.6225  \u001b[0m | \u001b[0m 0.4656  \u001b[0m | \u001b[0m 3.487   \u001b[0m | \u001b[0m 0.4555  \u001b[0m | \u001b[0m 0.486   \u001b[0m | \u001b[0m 0.7282  \u001b[0m | \u001b[0m 0.05969 \u001b[0m | \u001b[0m 18.25   \u001b[0m |\n",
      "| \u001b[0m 28      \u001b[0m | \u001b[0m 0.6498  \u001b[0m | \u001b[0m 0.519   \u001b[0m | \u001b[0m 2.073   \u001b[0m | \u001b[0m 0.4265  \u001b[0m | \u001b[0m 1.003   \u001b[0m | \u001b[0m 3.766   \u001b[0m | \u001b[0m 0.03382 \u001b[0m | \u001b[0m 12.4    \u001b[0m |\n",
      "| \u001b[0m 29      \u001b[0m | \u001b[0m 0.6148  \u001b[0m | \u001b[0m 0.4921  \u001b[0m | \u001b[0m 8.097   \u001b[0m | \u001b[0m 0.4298  \u001b[0m | \u001b[0m 0.03018 \u001b[0m | \u001b[0m 0.5007  \u001b[0m | \u001b[0m 0.06367 \u001b[0m | \u001b[0m 11.92   \u001b[0m |\n",
      "| \u001b[0m 30      \u001b[0m | \u001b[0m 0.632   \u001b[0m | \u001b[0m 0.5295  \u001b[0m | \u001b[0m 2.537   \u001b[0m | \u001b[0m 0.5789  \u001b[0m | \u001b[0m 0.367   \u001b[0m | \u001b[0m 1.923   \u001b[0m | \u001b[0m 0.04984 \u001b[0m | \u001b[0m 16.29   \u001b[0m |\n",
      "| \u001b[0m 31      \u001b[0m | \u001b[0m 0.6319  \u001b[0m | \u001b[0m 0.4567  \u001b[0m | \u001b[0m 2.314   \u001b[0m | \u001b[0m 0.5187  \u001b[0m | \u001b[0m 0.02831 \u001b[0m | \u001b[0m 4.639   \u001b[0m | \u001b[0m 0.04115 \u001b[0m | \u001b[0m 8.932   \u001b[0m |\n",
      "| \u001b[0m 32      \u001b[0m | \u001b[0m 0.617   \u001b[0m | \u001b[0m 0.5475  \u001b[0m | \u001b[0m 8.038   \u001b[0m | \u001b[0m 0.4456  \u001b[0m | \u001b[0m 0.04727 \u001b[0m | \u001b[0m 4.095   \u001b[0m | \u001b[0m 0.07456 \u001b[0m | \u001b[0m 9.057   \u001b[0m |\n",
      "| \u001b[0m 33      \u001b[0m | \u001b[0m 0.6287  \u001b[0m | \u001b[0m 0.5741  \u001b[0m | \u001b[0m 3.676   \u001b[0m | \u001b[0m 0.5565  \u001b[0m | \u001b[0m 4.96    \u001b[0m | \u001b[0m 1.494   \u001b[0m | \u001b[0m 0.08891 \u001b[0m | \u001b[0m 18.31   \u001b[0m |\n",
      "| \u001b[0m 34      \u001b[0m | \u001b[0m 0.6679  \u001b[0m | \u001b[0m 0.5743  \u001b[0m | \u001b[0m 5.76    \u001b[0m | \u001b[0m 0.436   \u001b[0m | \u001b[0m 3.664   \u001b[0m | \u001b[0m 0.2109  \u001b[0m | \u001b[0m 0.06295 \u001b[0m | \u001b[0m 3.381   \u001b[0m |\n",
      "| \u001b[0m 35      \u001b[0m | \u001b[0m 0.6405  \u001b[0m | \u001b[0m 0.4622  \u001b[0m | \u001b[0m 7.879   \u001b[0m | \u001b[0m 0.5257  \u001b[0m | \u001b[0m 4.01    \u001b[0m | \u001b[0m 3.1     \u001b[0m | \u001b[0m 0.05052 \u001b[0m | \u001b[0m 6.048   \u001b[0m |\n",
      "| \u001b[0m 36      \u001b[0m | \u001b[0m 0.6321  \u001b[0m | \u001b[0m 0.4039  \u001b[0m | \u001b[0m 4.149   \u001b[0m | \u001b[0m 0.5855  \u001b[0m | \u001b[0m 3.147   \u001b[0m | \u001b[0m 2.553   \u001b[0m | \u001b[0m 0.08346 \u001b[0m | \u001b[0m 4.205   \u001b[0m |\n",
      "| \u001b[0m 37      \u001b[0m | \u001b[0m 0.6471  \u001b[0m | \u001b[0m 0.4945  \u001b[0m | \u001b[0m 7.538   \u001b[0m | \u001b[0m 0.5595  \u001b[0m | \u001b[0m 0.5793  \u001b[0m | \u001b[0m 2.037   \u001b[0m | \u001b[0m 0.02895 \u001b[0m | \u001b[0m 18.33   \u001b[0m |\n",
      "| \u001b[0m 38      \u001b[0m | \u001b[0m 0.6296  \u001b[0m | \u001b[0m 0.4948  \u001b[0m | \u001b[0m 2.564   \u001b[0m | \u001b[0m 0.5566  \u001b[0m | \u001b[0m 4.299   \u001b[0m | \u001b[0m 2.506   \u001b[0m | \u001b[0m 0.07271 \u001b[0m | \u001b[0m 13.76   \u001b[0m |\n",
      "| \u001b[0m 39      \u001b[0m | \u001b[0m 0.6071  \u001b[0m | \u001b[0m 0.4144  \u001b[0m | \u001b[0m 3.123   \u001b[0m | \u001b[0m 0.4514  \u001b[0m | \u001b[0m 1.798   \u001b[0m | \u001b[0m 0.144   \u001b[0m | \u001b[0m 0.09097 \u001b[0m | \u001b[0m 7.875   \u001b[0m |\n",
      "| \u001b[0m 40      \u001b[0m | \u001b[0m 0.6249  \u001b[0m | \u001b[0m 0.5224  \u001b[0m | \u001b[0m 9.85    \u001b[0m | \u001b[0m 0.588   \u001b[0m | \u001b[0m 4.639   \u001b[0m | \u001b[0m 3.263   \u001b[0m | \u001b[0m 0.09396 \u001b[0m | \u001b[0m 10.1    \u001b[0m |\n",
      "| \u001b[0m 41      \u001b[0m | \u001b[0m 0.6531  \u001b[0m | \u001b[0m 0.5574  \u001b[0m | \u001b[0m 2.249   \u001b[0m | \u001b[0m 0.5175  \u001b[0m | \u001b[0m 2.641   \u001b[0m | \u001b[0m 1.872   \u001b[0m | \u001b[0m 0.06325 \u001b[0m | \u001b[0m 4.675   \u001b[0m |\n",
      "| \u001b[0m 42      \u001b[0m | \u001b[0m 0.6362  \u001b[0m | \u001b[0m 0.525   \u001b[0m | \u001b[0m 5.334   \u001b[0m | \u001b[0m 0.5614  \u001b[0m | \u001b[0m 0.2714  \u001b[0m | \u001b[0m 3.676   \u001b[0m | \u001b[0m 0.03903 \u001b[0m | \u001b[0m 7.331   \u001b[0m |\n",
      "| \u001b[0m 43      \u001b[0m | \u001b[0m 0.6071  \u001b[0m | \u001b[0m 0.4724  \u001b[0m | \u001b[0m 9.084   \u001b[0m | \u001b[0m 0.5913  \u001b[0m | \u001b[0m 0.6569  \u001b[0m | \u001b[0m 2.265   \u001b[0m | \u001b[0m 0.09915 \u001b[0m | \u001b[0m 18.42   \u001b[0m |\n",
      "| \u001b[0m 44      \u001b[0m | \u001b[0m 0.6308  \u001b[0m | \u001b[0m 0.5194  \u001b[0m | \u001b[0m 2.943   \u001b[0m | \u001b[0m 0.5622  \u001b[0m | \u001b[0m 2.227   \u001b[0m | \u001b[0m 2.622   \u001b[0m | \u001b[0m 0.06045 \u001b[0m | \u001b[0m 6.354   \u001b[0m |\n"
     ]
    },
    {
     "name": "stdout",
     "output_type": "stream",
     "text": [
      "| \u001b[0m 45      \u001b[0m | \u001b[0m 0.6469  \u001b[0m | \u001b[0m 0.5619  \u001b[0m | \u001b[0m 7.966   \u001b[0m | \u001b[0m 0.5621  \u001b[0m | \u001b[0m 2.462   \u001b[0m | \u001b[0m 2.873   \u001b[0m | \u001b[0m 0.03521 \u001b[0m | \u001b[0m 14.28   \u001b[0m |\n",
      "| \u001b[0m 46      \u001b[0m | \u001b[0m 0.6588  \u001b[0m | \u001b[0m 0.4114  \u001b[0m | \u001b[0m 7.416   \u001b[0m | \u001b[0m 0.5107  \u001b[0m | \u001b[0m 2.261   \u001b[0m | \u001b[0m 0.6077  \u001b[0m | \u001b[0m 0.06637 \u001b[0m | \u001b[0m 3.441   \u001b[0m |\n",
      "| \u001b[0m 47      \u001b[0m | \u001b[0m 0.6265  \u001b[0m | \u001b[0m 0.5386  \u001b[0m | \u001b[0m 6.678   \u001b[0m | \u001b[0m 0.541   \u001b[0m | \u001b[0m 4.58    \u001b[0m | \u001b[0m 3.112   \u001b[0m | \u001b[0m 0.08385 \u001b[0m | \u001b[0m 10.24   \u001b[0m |\n",
      "| \u001b[0m 48      \u001b[0m | \u001b[0m 0.6158  \u001b[0m | \u001b[0m 0.4334  \u001b[0m | \u001b[0m 5.855   \u001b[0m | \u001b[0m 0.5232  \u001b[0m | \u001b[0m 3.644   \u001b[0m | \u001b[0m 2.384   \u001b[0m | \u001b[0m 0.09662 \u001b[0m | \u001b[0m 12.15   \u001b[0m |\n",
      "| \u001b[0m 49      \u001b[0m | \u001b[0m 0.6199  \u001b[0m | \u001b[0m 0.5028  \u001b[0m | \u001b[0m 8.239   \u001b[0m | \u001b[0m 0.4871  \u001b[0m | \u001b[0m 4.094   \u001b[0m | \u001b[0m 3.827   \u001b[0m | \u001b[0m 0.09063 \u001b[0m | \u001b[0m 12.32   \u001b[0m |\n",
      "| \u001b[0m 50      \u001b[0m | \u001b[0m 0.6596  \u001b[0m | \u001b[0m 0.4816  \u001b[0m | \u001b[0m 7.44    \u001b[0m | \u001b[0m 0.4211  \u001b[0m | \u001b[0m 1.507   \u001b[0m | \u001b[0m 0.8499  \u001b[0m | \u001b[0m 0.06956 \u001b[0m | \u001b[0m 3.69    \u001b[0m |\n",
      "| \u001b[95m 51      \u001b[0m | \u001b[95m 0.676   \u001b[0m | \u001b[95m 0.6     \u001b[0m | \u001b[95m 1.534   \u001b[0m | \u001b[95m 0.5957  \u001b[0m | \u001b[95m 0.0     \u001b[0m | \u001b[95m 9.839e-1\u001b[0m | \u001b[95m 0.025   \u001b[0m | \u001b[95m 2.0     \u001b[0m |\n",
      "| \u001b[0m 52      \u001b[0m | \u001b[0m 0.6466  \u001b[0m | \u001b[0m 0.5965  \u001b[0m | \u001b[0m 9.079   \u001b[0m | \u001b[0m 0.5181  \u001b[0m | \u001b[0m 4.967   \u001b[0m | \u001b[0m 4.909   \u001b[0m | \u001b[0m 0.04237 \u001b[0m | \u001b[0m 19.56   \u001b[0m |\n",
      "| \u001b[95m 53      \u001b[0m | \u001b[95m 0.6782  \u001b[0m | \u001b[95m 0.5177  \u001b[0m | \u001b[95m 1.0     \u001b[0m | \u001b[95m 0.4     \u001b[0m | \u001b[95m 0.02699 \u001b[0m | \u001b[95m 5.0     \u001b[0m | \u001b[95m 0.025   \u001b[0m | \u001b[95m 2.0     \u001b[0m |\n",
      "| \u001b[0m 54      \u001b[0m | \u001b[0m 0.6774  \u001b[0m | \u001b[0m 0.6     \u001b[0m | \u001b[0m 9.506   \u001b[0m | \u001b[0m 0.5606  \u001b[0m | \u001b[0m 1.137   \u001b[0m | \u001b[0m 5.0     \u001b[0m | \u001b[0m 0.025   \u001b[0m | \u001b[0m 2.0     \u001b[0m |\n",
      "| \u001b[95m 55      \u001b[0m | \u001b[95m 0.6789  \u001b[0m | \u001b[95m 0.5844  \u001b[0m | \u001b[95m 1.0     \u001b[0m | \u001b[95m 0.5928  \u001b[0m | \u001b[95m 5.0     \u001b[0m | \u001b[95m 5.0     \u001b[0m | \u001b[95m 0.025   \u001b[0m | \u001b[95m 2.034   \u001b[0m |\n",
      "| \u001b[0m 56      \u001b[0m | \u001b[0m 0.6494  \u001b[0m | \u001b[0m 0.4     \u001b[0m | \u001b[0m 1.0     \u001b[0m | \u001b[0m 0.6     \u001b[0m | \u001b[0m 0.0     \u001b[0m | \u001b[0m 5.0     \u001b[0m | \u001b[0m 0.025   \u001b[0m | \u001b[0m 20.0    \u001b[0m |\n",
      "| \u001b[0m 57      \u001b[0m | \u001b[0m 0.6583  \u001b[0m | \u001b[0m 0.6     \u001b[0m | \u001b[0m 9.458   \u001b[0m | \u001b[0m 0.6     \u001b[0m | \u001b[0m 5.0     \u001b[0m | \u001b[0m 0.0     \u001b[0m | \u001b[0m 0.025   \u001b[0m | \u001b[0m 16.27   \u001b[0m |\n",
      "| \u001b[0m 58      \u001b[0m | \u001b[0m 0.6775  \u001b[0m | \u001b[0m 0.4308  \u001b[0m | \u001b[0m 1.017   \u001b[0m | \u001b[0m 0.5687  \u001b[0m | \u001b[0m 4.342   \u001b[0m | \u001b[0m 0.1727  \u001b[0m | \u001b[0m 0.03487 \u001b[0m | \u001b[0m 2.273   \u001b[0m |\n",
      "| \u001b[0m 59      \u001b[0m | \u001b[0m 0.6582  \u001b[0m | \u001b[0m 0.5921  \u001b[0m | \u001b[0m 1.0     \u001b[0m | \u001b[0m 0.6     \u001b[0m | \u001b[0m 5.0     \u001b[0m | \u001b[0m 5.0     \u001b[0m | \u001b[0m 0.025   \u001b[0m | \u001b[0m 10.17   \u001b[0m |\n",
      "| \u001b[0m 60      \u001b[0m | \u001b[0m 0.6734  \u001b[0m | \u001b[0m 0.4     \u001b[0m | \u001b[0m 5.57    \u001b[0m | \u001b[0m 0.4616  \u001b[0m | \u001b[0m 3.793e-0\u001b[0m | \u001b[0m 0.0     \u001b[0m | \u001b[0m 0.025   \u001b[0m | \u001b[0m 2.0     \u001b[0m |\n",
      "| \u001b[0m 61      \u001b[0m | \u001b[0m 0.6771  \u001b[0m | \u001b[0m 0.5959  \u001b[0m | \u001b[0m 5.992   \u001b[0m | \u001b[0m 0.5124  \u001b[0m | \u001b[0m 0.08875 \u001b[0m | \u001b[0m 4.543   \u001b[0m | \u001b[0m 0.04462 \u001b[0m | \u001b[0m 2.109   \u001b[0m |\n",
      "| \u001b[0m 62      \u001b[0m | \u001b[0m 0.6781  \u001b[0m | \u001b[0m 0.6     \u001b[0m | \u001b[0m 10.0    \u001b[0m | \u001b[0m 0.6     \u001b[0m | \u001b[0m 5.0     \u001b[0m | \u001b[0m 6.101e-1\u001b[0m | \u001b[0m 0.025   \u001b[0m | \u001b[0m 2.0     \u001b[0m |\n",
      "| \u001b[0m 63      \u001b[0m | \u001b[0m 0.6775  \u001b[0m | \u001b[0m 0.5056  \u001b[0m | \u001b[0m 9.001   \u001b[0m | \u001b[0m 0.5655  \u001b[0m | \u001b[0m 4.809   \u001b[0m | \u001b[0m 4.769   \u001b[0m | \u001b[0m 0.02655 \u001b[0m | \u001b[0m 2.326   \u001b[0m |\n",
      "| \u001b[0m 64      \u001b[0m | \u001b[0m 0.6582  \u001b[0m | \u001b[0m 0.5681  \u001b[0m | \u001b[0m 5.485   \u001b[0m | \u001b[0m 0.536   \u001b[0m | \u001b[0m 1.348   \u001b[0m | \u001b[0m 4.97    \u001b[0m | \u001b[0m 0.02536 \u001b[0m | \u001b[0m 19.65   \u001b[0m |\n",
      "| \u001b[0m 65      \u001b[0m | \u001b[0m 0.6503  \u001b[0m | \u001b[0m 0.4983  \u001b[0m | \u001b[0m 7.41    \u001b[0m | \u001b[0m 0.4559  \u001b[0m | \u001b[0m 4.397   \u001b[0m | \u001b[0m 0.1019  \u001b[0m | \u001b[0m 0.03655 \u001b[0m | \u001b[0m 20.0    \u001b[0m |\n",
      "| \u001b[0m 66      \u001b[0m | \u001b[0m 0.6775  \u001b[0m | \u001b[0m 0.5404  \u001b[0m | \u001b[0m 4.133   \u001b[0m | \u001b[0m 0.4563  \u001b[0m | \u001b[0m 2.354   \u001b[0m | \u001b[0m 1.278   \u001b[0m | \u001b[0m 0.02664 \u001b[0m | \u001b[0m 2.03    \u001b[0m |\n",
      "| \u001b[0m 67      \u001b[0m | \u001b[0m 0.6596  \u001b[0m | \u001b[0m 0.5877  \u001b[0m | \u001b[0m 1.172   \u001b[0m | \u001b[0m 0.5909  \u001b[0m | \u001b[0m 0.0591  \u001b[0m | \u001b[0m 0.1445  \u001b[0m | \u001b[0m 0.03017 \u001b[0m | \u001b[0m 4.497   \u001b[0m |\n",
      "| \u001b[0m 68      \u001b[0m | \u001b[0m 0.6717  \u001b[0m | \u001b[0m 0.5713  \u001b[0m | \u001b[0m 1.004   \u001b[0m | \u001b[0m 0.5863  \u001b[0m | \u001b[0m 2.172   \u001b[0m | \u001b[0m 4.908   \u001b[0m | \u001b[0m 0.04006 \u001b[0m | \u001b[0m 3.199   \u001b[0m |\n",
      "| \u001b[95m 69      \u001b[0m | \u001b[95m 0.6792  \u001b[0m | \u001b[95m 0.6     \u001b[0m | \u001b[95m 1.0     \u001b[0m | \u001b[95m 0.4     \u001b[0m | \u001b[95m 5.0     \u001b[0m | \u001b[95m 0.0     \u001b[0m | \u001b[95m 0.025   \u001b[0m | \u001b[95m 2.0     \u001b[0m |\n",
      "| \u001b[0m 70      \u001b[0m | \u001b[0m 0.6789  \u001b[0m | \u001b[0m 0.6     \u001b[0m | \u001b[0m 10.0    \u001b[0m | \u001b[0m 0.4     \u001b[0m | \u001b[0m 0.0     \u001b[0m | \u001b[0m 0.0     \u001b[0m | \u001b[0m 0.025   \u001b[0m | \u001b[0m 2.0     \u001b[0m |\n",
      "| \u001b[0m 71      \u001b[0m | \u001b[0m 0.6779  \u001b[0m | \u001b[0m 0.4     \u001b[0m | \u001b[0m 1.0     \u001b[0m | \u001b[0m 0.4     \u001b[0m | \u001b[0m 1.728   \u001b[0m | \u001b[0m 0.0     \u001b[0m | \u001b[0m 0.025   \u001b[0m | \u001b[0m 2.0     \u001b[0m |\n",
      "| \u001b[0m 72      \u001b[0m | \u001b[0m 0.6517  \u001b[0m | \u001b[0m 0.5372  \u001b[0m | \u001b[0m 1.075   \u001b[0m | \u001b[0m 0.5194  \u001b[0m | \u001b[0m 4.914   \u001b[0m | \u001b[0m 0.2357  \u001b[0m | \u001b[0m 0.0399  \u001b[0m | \u001b[0m 6.029   \u001b[0m |\n",
      "| \u001b[0m 73      \u001b[0m | \u001b[0m 0.6774  \u001b[0m | \u001b[0m 0.6     \u001b[0m | \u001b[0m 1.0     \u001b[0m | \u001b[0m 0.5526  \u001b[0m | \u001b[0m 0.5812  \u001b[0m | \u001b[0m 1.842   \u001b[0m | \u001b[0m 0.025   \u001b[0m | \u001b[0m 2.0     \u001b[0m |\n",
      "| \u001b[0m 74      \u001b[0m | \u001b[0m 0.6622  \u001b[0m | \u001b[0m 0.4     \u001b[0m | \u001b[0m 1.0     \u001b[0m | \u001b[0m 0.4     \u001b[0m | \u001b[0m 5.0     \u001b[0m | \u001b[0m 0.0     \u001b[0m | \u001b[0m 0.025   \u001b[0m | \u001b[0m 20.0    \u001b[0m |\n",
      "| \u001b[0m 75      \u001b[0m | \u001b[0m 0.6575  \u001b[0m | \u001b[0m 0.5931  \u001b[0m | \u001b[0m 9.882   \u001b[0m | \u001b[0m 0.4273  \u001b[0m | \u001b[0m 4.271   \u001b[0m | \u001b[0m 0.002757\u001b[0m | \u001b[0m 0.02685 \u001b[0m | \u001b[0m 9.189   \u001b[0m |\n",
      "| \u001b[0m 76      \u001b[0m | \u001b[0m 0.6771  \u001b[0m | \u001b[0m 0.5724  \u001b[0m | \u001b[0m 9.834   \u001b[0m | \u001b[0m 0.407   \u001b[0m | \u001b[0m 3.393   \u001b[0m | \u001b[0m 3.576   \u001b[0m | \u001b[0m 0.02694 \u001b[0m | \u001b[0m 2.081   \u001b[0m |\n",
      "| \u001b[0m 77      \u001b[0m | \u001b[0m 0.6718  \u001b[0m | \u001b[0m 0.6     \u001b[0m | \u001b[0m 4.941   \u001b[0m | \u001b[0m 0.5724  \u001b[0m | \u001b[0m 0.1848  \u001b[0m | \u001b[0m 0.01678 \u001b[0m | \u001b[0m 0.025   \u001b[0m | \u001b[0m 3.467   \u001b[0m |\n",
      "| \u001b[0m 78      \u001b[0m | \u001b[0m 0.6784  \u001b[0m | \u001b[0m 0.5576  \u001b[0m | \u001b[0m 7.466   \u001b[0m | \u001b[0m 0.4645  \u001b[0m | \u001b[0m 4.991   \u001b[0m | \u001b[0m 2.076   \u001b[0m | \u001b[0m 0.02606 \u001b[0m | \u001b[0m 2.041   \u001b[0m |\n",
      "| \u001b[0m 79      \u001b[0m | \u001b[0m 0.6562  \u001b[0m | \u001b[0m 0.6     \u001b[0m | \u001b[0m 9.987   \u001b[0m | \u001b[0m 0.6     \u001b[0m | \u001b[0m 2.068   \u001b[0m | \u001b[0m 5.0     \u001b[0m | \u001b[0m 0.025   \u001b[0m | \u001b[0m 14.92   \u001b[0m |\n",
      "| \u001b[0m 80      \u001b[0m | \u001b[0m 0.6764  \u001b[0m | \u001b[0m 0.5799  \u001b[0m | \u001b[0m 6.877   \u001b[0m | \u001b[0m 0.5925  \u001b[0m | \u001b[0m 0.7439  \u001b[0m | \u001b[0m 2.495   \u001b[0m | \u001b[0m 0.02986 \u001b[0m | \u001b[0m 2.154   \u001b[0m |\n",
      "| \u001b[0m 81      \u001b[0m | \u001b[0m 0.6779  \u001b[0m | \u001b[0m 0.5928  \u001b[0m | \u001b[0m 6.693   \u001b[0m | \u001b[0m 0.4149  \u001b[0m | \u001b[0m 4.797   \u001b[0m | \u001b[0m 4.94    \u001b[0m | \u001b[0m 0.0342  \u001b[0m | \u001b[0m 2.414   \u001b[0m |\n",
      "| \u001b[0m 82      \u001b[0m | \u001b[0m 0.6786  \u001b[0m | \u001b[0m 0.6     \u001b[0m | \u001b[0m 10.0    \u001b[0m | \u001b[0m 0.4068  \u001b[0m | \u001b[0m 5.0     \u001b[0m | \u001b[0m 5.0     \u001b[0m | \u001b[0m 0.025   \u001b[0m | \u001b[0m 2.0     \u001b[0m |\n",
      "| \u001b[0m 83      \u001b[0m | \u001b[0m 0.6782  \u001b[0m | \u001b[0m 0.5435  \u001b[0m | \u001b[0m 3.015   \u001b[0m | \u001b[0m 0.5046  \u001b[0m | \u001b[0m 0.9312  \u001b[0m | \u001b[0m 4.715   \u001b[0m | \u001b[0m 0.02588 \u001b[0m | \u001b[0m 2.041   \u001b[0m |\n",
      "| \u001b[0m 84      \u001b[0m | \u001b[0m 0.6735  \u001b[0m | \u001b[0m 0.4     \u001b[0m | \u001b[0m 9.884   \u001b[0m | \u001b[0m 0.4     \u001b[0m | \u001b[0m 5.0     \u001b[0m | \u001b[0m 0.0     \u001b[0m | \u001b[0m 0.025   \u001b[0m | \u001b[0m 4.273   \u001b[0m |\n",
      "| \u001b[0m 85      \u001b[0m | \u001b[0m 0.6791  \u001b[0m | \u001b[0m 0.5815  \u001b[0m | \u001b[0m 7.431   \u001b[0m | \u001b[0m 0.4763  \u001b[0m | \u001b[0m 1.773   \u001b[0m | \u001b[0m 4.887   \u001b[0m | \u001b[0m 0.02553 \u001b[0m | \u001b[0m 2.193   \u001b[0m |\n",
      "| \u001b[0m 86      \u001b[0m | \u001b[0m 0.6579  \u001b[0m | \u001b[0m 0.6     \u001b[0m | \u001b[0m 7.07    \u001b[0m | \u001b[0m 0.6     \u001b[0m | \u001b[0m 2.384   \u001b[0m | \u001b[0m 0.02752 \u001b[0m | \u001b[0m 0.025   \u001b[0m | \u001b[0m 17.34   \u001b[0m |\n",
      "| \u001b[0m 87      \u001b[0m | \u001b[0m 0.6614  \u001b[0m | \u001b[0m 0.6     \u001b[0m | \u001b[0m 1.0     \u001b[0m | \u001b[0m 0.6     \u001b[0m | \u001b[0m 5.0     \u001b[0m | \u001b[0m 5.0     \u001b[0m | \u001b[0m 0.025   \u001b[0m | \u001b[0m 20.0    \u001b[0m |\n",
      "| \u001b[0m 88      \u001b[0m | \u001b[0m 0.655   \u001b[0m | \u001b[0m 0.6     \u001b[0m | \u001b[0m 1.0     \u001b[0m | \u001b[0m 0.4     \u001b[0m | \u001b[0m 0.0     \u001b[0m | \u001b[0m 5.667e-0\u001b[0m | \u001b[0m 0.025   \u001b[0m | \u001b[0m 13.91   \u001b[0m |\n",
      "| \u001b[0m 89      \u001b[0m | \u001b[0m 0.6747  \u001b[0m | \u001b[0m 0.4     \u001b[0m | \u001b[0m 3.822   \u001b[0m | \u001b[0m 0.4     \u001b[0m | \u001b[0m 2.772e-0\u001b[0m | \u001b[0m 5.0     \u001b[0m | \u001b[0m 0.025   \u001b[0m | \u001b[0m 3.97    \u001b[0m |\n"
     ]
    },
    {
     "name": "stdout",
     "output_type": "stream",
     "text": [
      "| \u001b[0m 90      \u001b[0m | \u001b[0m 0.6604  \u001b[0m | \u001b[0m 0.5885  \u001b[0m | \u001b[0m 1.228   \u001b[0m | \u001b[0m 0.5149  \u001b[0m | \u001b[0m 4.801   \u001b[0m | \u001b[0m 4.823   \u001b[0m | \u001b[0m 0.03107 \u001b[0m | \u001b[0m 5.213   \u001b[0m |\n",
      "| \u001b[0m 91      \u001b[0m | \u001b[0m 0.6767  \u001b[0m | \u001b[0m 0.5709  \u001b[0m | \u001b[0m 9.812   \u001b[0m | \u001b[0m 0.4042  \u001b[0m | \u001b[0m 0.3801  \u001b[0m | \u001b[0m 3.825   \u001b[0m | \u001b[0m 0.02509 \u001b[0m | \u001b[0m 2.307   \u001b[0m |\n",
      "| \u001b[0m 92      \u001b[0m | \u001b[0m 0.6779  \u001b[0m | \u001b[0m 0.5073  \u001b[0m | \u001b[0m 1.032   \u001b[0m | \u001b[0m 0.4442  \u001b[0m | \u001b[0m 3.905   \u001b[0m | \u001b[0m 2.383   \u001b[0m | \u001b[0m 0.02632 \u001b[0m | \u001b[0m 2.595   \u001b[0m |\n",
      "| \u001b[0m 93      \u001b[0m | \u001b[0m 0.6758  \u001b[0m | \u001b[0m 0.5845  \u001b[0m | \u001b[0m 1.877   \u001b[0m | \u001b[0m 0.4037  \u001b[0m | \u001b[0m 2.829   \u001b[0m | \u001b[0m 0.5012  \u001b[0m | \u001b[0m 0.02574 \u001b[0m | \u001b[0m 3.135   \u001b[0m |\n",
      "| \u001b[0m 94      \u001b[0m | \u001b[0m 0.678   \u001b[0m | \u001b[0m 0.5761  \u001b[0m | \u001b[0m 4.474   \u001b[0m | \u001b[0m 0.423   \u001b[0m | \u001b[0m 0.3675  \u001b[0m | \u001b[0m 1.864   \u001b[0m | \u001b[0m 0.02594 \u001b[0m | \u001b[0m 2.632   \u001b[0m |\n",
      "| \u001b[0m 95      \u001b[0m | \u001b[0m 0.6767  \u001b[0m | \u001b[0m 0.5657  \u001b[0m | \u001b[0m 9.397   \u001b[0m | \u001b[0m 0.4248  \u001b[0m | \u001b[0m 2.971   \u001b[0m | \u001b[0m 0.1769  \u001b[0m | \u001b[0m 0.0296  \u001b[0m | \u001b[0m 2.002   \u001b[0m |\n",
      "| \u001b[0m 96      \u001b[0m | \u001b[0m 0.6771  \u001b[0m | \u001b[0m 0.4     \u001b[0m | \u001b[0m 4.06    \u001b[0m | \u001b[0m 0.4     \u001b[0m | \u001b[0m 5.0     \u001b[0m | \u001b[0m 5.0     \u001b[0m | \u001b[0m 0.025   \u001b[0m | \u001b[0m 2.0     \u001b[0m |\n",
      "| \u001b[0m 97      \u001b[0m | \u001b[0m 0.6786  \u001b[0m | \u001b[0m 0.5773  \u001b[0m | \u001b[0m 5.896   \u001b[0m | \u001b[0m 0.5434  \u001b[0m | \u001b[0m 2.155   \u001b[0m | \u001b[0m 0.004428\u001b[0m | \u001b[0m 0.02783 \u001b[0m | \u001b[0m 2.226   \u001b[0m |\n",
      "| \u001b[0m 98      \u001b[0m | \u001b[0m 0.6762  \u001b[0m | \u001b[0m 0.5994  \u001b[0m | \u001b[0m 5.694   \u001b[0m | \u001b[0m 0.5049  \u001b[0m | \u001b[0m 0.334   \u001b[0m | \u001b[0m 4.893   \u001b[0m | \u001b[0m 0.02527 \u001b[0m | \u001b[0m 3.297   \u001b[0m |\n",
      "| \u001b[95m 99      \u001b[0m | \u001b[95m 0.6796  \u001b[0m | \u001b[95m 0.5559  \u001b[0m | \u001b[95m 6.426   \u001b[0m | \u001b[95m 0.5569  \u001b[0m | \u001b[95m 4.829   \u001b[0m | \u001b[95m 0.1681  \u001b[0m | \u001b[95m 0.02524 \u001b[0m | \u001b[95m 2.148   \u001b[0m |\n",
      "| \u001b[0m 100     \u001b[0m | \u001b[0m 0.6616  \u001b[0m | \u001b[0m 0.6     \u001b[0m | \u001b[0m 9.739   \u001b[0m | \u001b[0m 0.6     \u001b[0m | \u001b[0m 5.0     \u001b[0m | \u001b[0m 5.0     \u001b[0m | \u001b[0m 0.025   \u001b[0m | \u001b[0m 16.25   \u001b[0m |\n",
      "=============================================================================================================\n",
      "CPU times: user 2h 18min 8s, sys: 57.5 s, total: 2h 19min 6s\n",
      "Wall time: 15min 7s\n"
     ]
    }
   ],
   "source": [
    "%%time\n",
    "\n",
    "with warnings.catch_warnings():\n",
    "    warnings.filterwarnings('ignore')\n",
    "    lgbm_BO.maximize(init_points=50, n_iter=50)"
   ]
  },
  {
   "cell_type": "code",
   "execution_count": 138,
   "metadata": {},
   "outputs": [
    {
     "ename": "KeyError",
     "evalue": "'num_leaves'",
     "output_type": "error",
     "traceback": [
      "\u001b[0;31m---------------------------------------------------------------------------\u001b[0m",
      "\u001b[0;31mKeyError\u001b[0m                                  Traceback (most recent call last)",
      "\u001b[0;32m<ipython-input-138-d3b29f625aae>\u001b[0m in \u001b[0;36m<module>\u001b[0;34m\u001b[0m\n\u001b[1;32m      3\u001b[0m \u001b[0;31m#     'n_estimators': int(lgbm_BO.max['params']['n_estimators']),\u001b[0m\u001b[0;34m\u001b[0m\u001b[0;34m\u001b[0m\u001b[0;34m\u001b[0m\u001b[0m\n\u001b[1;32m      4\u001b[0m     \u001b[0;34m'learning_rate'\u001b[0m\u001b[0;34m:\u001b[0m \u001b[0mlgbm_BO\u001b[0m\u001b[0;34m.\u001b[0m\u001b[0mmax\u001b[0m\u001b[0;34m[\u001b[0m\u001b[0;34m'params'\u001b[0m\u001b[0;34m]\u001b[0m\u001b[0;34m[\u001b[0m\u001b[0;34m'learning_rate'\u001b[0m\u001b[0;34m]\u001b[0m\u001b[0;34m,\u001b[0m\u001b[0;34m\u001b[0m\u001b[0;34m\u001b[0m\u001b[0m\n\u001b[0;32m----> 5\u001b[0;31m     \u001b[0;34m'num_leaves'\u001b[0m\u001b[0;34m:\u001b[0m \u001b[0mint\u001b[0m\u001b[0;34m(\u001b[0m\u001b[0mlgbm_BO\u001b[0m\u001b[0;34m.\u001b[0m\u001b[0mmax\u001b[0m\u001b[0;34m[\u001b[0m\u001b[0;34m'params'\u001b[0m\u001b[0;34m]\u001b[0m\u001b[0;34m[\u001b[0m\u001b[0;34m'num_leaves'\u001b[0m\u001b[0;34m]\u001b[0m\u001b[0;34m)\u001b[0m\u001b[0;34m,\u001b[0m\u001b[0;34m\u001b[0m\u001b[0;34m\u001b[0m\u001b[0m\n\u001b[0m\u001b[1;32m      6\u001b[0m     \u001b[0;34m'max_bin'\u001b[0m\u001b[0;34m:\u001b[0m \u001b[0mint\u001b[0m\u001b[0;34m(\u001b[0m\u001b[0mlgbm_BO\u001b[0m\u001b[0;34m.\u001b[0m\u001b[0mmax\u001b[0m\u001b[0;34m[\u001b[0m\u001b[0;34m'params'\u001b[0m\u001b[0;34m]\u001b[0m\u001b[0;34m[\u001b[0m\u001b[0;34m'max_bin'\u001b[0m\u001b[0;34m]\u001b[0m\u001b[0;34m)\u001b[0m\u001b[0;34m,\u001b[0m\u001b[0;34m\u001b[0m\u001b[0;34m\u001b[0m\u001b[0m\n\u001b[1;32m      7\u001b[0m     \u001b[0;34m'boosting_type'\u001b[0m\u001b[0;34m:\u001b[0m \u001b[0;34m'gbdt'\u001b[0m\u001b[0;34m,\u001b[0m\u001b[0;34m\u001b[0m\u001b[0;34m\u001b[0m\u001b[0m\n",
      "\u001b[0;31mKeyError\u001b[0m: 'num_leaves'"
     ]
    }
   ],
   "source": [
    "# model_params = {\n",
    "#     'max_depth': int(lgbm_BO.max['params']['max_depth']),\n",
    "# #     'n_estimators': int(lgbm_BO.max['params']['n_estimators']),\n",
    "#     'learning_rate': lgbm_BO.max['params']['learning_rate'],\n",
    "#     'num_leaves': int(lgbm_BO.max['params']['num_leaves']),\n",
    "#     'max_bin': int(lgbm_BO.max['params']['max_bin']),\n",
    "#     'boosting_type': 'gbdt',\n",
    "#     'metric': 'AUC',\n",
    "#     'objective': 'binary',\n",
    "#     'eval_metric': 'AUC',\n",
    "#     'n_jobs': 16,\n",
    "#     'seed': 42,\n",
    "# #     'early_stopping_rounds': 150,\n",
    "#     'n_estimators': 2000,\n",
    "#     'lambda_l1': lambda_l1,\n",
    "#     'lambda_l2': lambda_l2,\n",
    "#     'bagging_fraction': lgbm_BO.max['params']['bagging_fraction'],\n",
    "#     'bagging_freq': int(lgbm_BO.max['params']['bagging_freq']),\n",
    "#     'colsample_bytree': lgbm_BO.max['params']['colsampel_bytree'],\n",
    "#     'verbose': 0\n",
    "}"
   ]
  },
  {
   "cell_type": "code",
   "execution_count": 142,
   "metadata": {},
   "outputs": [],
   "source": [
    "model = lgb.LGBMClassifier(\n",
    "            max_depth=int(lgbm_BO.max['params']['max_depth']),\n",
    "            learning_rate=lgbm_BO.max['params']['learning_rate'],\n",
    "#             num_leaves=int(lgbm_BO.max['params']['num_leaves']),\n",
    "#             max_bin=int(lgbm_BO.max['params']['max_bin'])\n",
    "            boosting_type='gbdt',\n",
    "            metric='AUC',\n",
    "            objective='binary',\n",
    "            eval_metric='AUC',\n",
    "            n_jobs=16,\n",
    "            seed=42,\n",
    "        #     'early_stopping_rounds': 150,\n",
    "            n_estimators=2000,\n",
    "            lambda_l1=lgbm_BO.max['params']['lambda_l1'],\n",
    "            lambda_l2=lgbm_BO.max['params']['lambda_l2'],\n",
    "            bagging_fraction=lgbm_BO.max['params']['bagging_fraction'],\n",
    "            bagging_freq=int(lgbm_BO.max['params']['bagging_freq']),\n",
    "            colsample_bytree=lgbm_BO.max['params']['colsample_bytree'],\n",
    "            verbose=0\n",
    "        )"
   ]
  },
  {
   "cell_type": "code",
   "execution_count": 143,
   "metadata": {},
   "outputs": [
    {
     "data": {
      "text/plain": [
       "LGBMClassifier(bagging_fraction=0.5559426261034605, bagging_freq=6,\n",
       "               boosting_type='gbdt', class_weight=None,\n",
       "               colsample_bytree=0.5568621880910727, eval_metric='AUC',\n",
       "               importance_type='split', lambda_l1=4.828710065743733,\n",
       "               lambda_l2=0.16813458388620361,\n",
       "               learning_rate=0.025236401957410032, max_depth=2, metric='AUC',\n",
       "               min_child_samples=20, min_child_weight=0.001, min_split_gain=0.0,\n",
       "               n_estimators=2000, n_jobs=16, num_leaves=31, objective='binary',\n",
       "               random_state=None, reg_alpha=0.0, reg_lambda=0.0, seed=42,\n",
       "               silent=True, subsample=1.0, subsample_for_bin=200000,\n",
       "               subsample_freq=0, verbose=0)"
      ]
     },
     "execution_count": 143,
     "metadata": {},
     "output_type": "execute_result"
    }
   ],
   "source": [
    "model.fit(data_train, y)"
   ]
  },
  {
   "cell_type": "code",
   "execution_count": 144,
   "metadata": {},
   "outputs": [],
   "source": [
    "a = model.predict_proba(data_test)[:, 1] # вероятности за 1й класс"
   ]
  },
  {
   "cell_type": "code",
   "execution_count": 145,
   "metadata": {},
   "outputs": [],
   "source": [
    "pd.DataFrame(a,  columns=['proba'], index=ids.values).to_csv('dj1_01_.csv')"
   ]
  },
  {
   "cell_type": "code",
   "execution_count": 146,
   "metadata": {},
   "outputs": [],
   "source": [
    "from catboost import CatBoostClassifier\n",
    "\n",
    "\n",
    "def catboost_bayesian(max_depth,\n",
    "                      n_estimators,\n",
    "                      lr,\n",
    "                      ):\n",
    "    max_depth = int(max_depth)\n",
    "    n_estimators = int(n_estimators)\n",
    "    model = CatBoostClassifier(max_depth=max_depth, n_estimators=n_estimators,\n",
    "                               learning_rate=lr, objective='CrossEntropy', eval_metric='AUC',\n",
    "                               task_type='GPU', verbose=0, thread_count=16)\n",
    "    model.fit(X_train, y_train)\n",
    "\n",
    "    return roc_auc_score(y_test, model.predict_proba(X_test)[:, 1])"
   ]
  },
  {
   "cell_type": "code",
   "execution_count": 147,
   "metadata": {},
   "outputs": [],
   "source": [
    "bounds_cat = {\n",
    "    'max_depth': (1, 16),\n",
    "    'n_estimators': (1, 1000),\n",
    "    'lr': (1e-3, 1),\n",
    "}\n",
    "\n",
    "cat_BO = BayesianOptimization(catboost_bayesian, bounds_cat, random_state=13 * 2)"
   ]
  },
  {
   "cell_type": "code",
   "execution_count": 148,
   "metadata": {},
   "outputs": [
    {
     "name": "stdout",
     "output_type": "stream",
     "text": [
      "|   iter    |  target   |    lr     | max_depth | n_esti... |\n",
      "-------------------------------------------------------------\n",
      "| \u001b[0m 1       \u001b[0m | \u001b[0m 0.5608  \u001b[0m | \u001b[0m 0.3086  \u001b[0m | \u001b[0m 8.791   \u001b[0m | \u001b[0m 768.5   \u001b[0m |\n",
      "| \u001b[95m 2       \u001b[0m | \u001b[95m 0.5876  \u001b[0m | \u001b[95m 0.7894  \u001b[0m | \u001b[95m 14.06   \u001b[0m | \u001b[95m 188.7   \u001b[0m |\n",
      "| \u001b[0m 3       \u001b[0m | \u001b[0m 0.577   \u001b[0m | \u001b[0m 0.2702  \u001b[0m | \u001b[0m 8.443   \u001b[0m | \u001b[0m 739.4   \u001b[0m |\n",
      "| \u001b[95m 4       \u001b[0m | \u001b[95m 0.6718  \u001b[0m | \u001b[95m 0.1958  \u001b[0m | \u001b[95m 3.696   \u001b[0m | \u001b[95m 539.3   \u001b[0m |\n",
      "| \u001b[0m 5       \u001b[0m | \u001b[0m 0.5972  \u001b[0m | \u001b[0m 0.2835  \u001b[0m | \u001b[0m 12.41   \u001b[0m | \u001b[0m 270.4   \u001b[0m |\n",
      "| \u001b[0m 6       \u001b[0m | \u001b[0m 0.6126  \u001b[0m | \u001b[0m 0.2942  \u001b[0m | \u001b[0m 15.44   \u001b[0m | \u001b[0m 913.3   \u001b[0m |\n",
      "| \u001b[0m 7       \u001b[0m | \u001b[0m 0.5539  \u001b[0m | \u001b[0m 0.5686  \u001b[0m | \u001b[0m 8.282   \u001b[0m | \u001b[0m 654.1   \u001b[0m |\n",
      "| \u001b[0m 8       \u001b[0m | \u001b[0m 0.5975  \u001b[0m | \u001b[0m 0.5371  \u001b[0m | \u001b[0m 15.94   \u001b[0m | \u001b[0m 142.8   \u001b[0m |\n",
      "| \u001b[0m 9       \u001b[0m | \u001b[0m 0.5839  \u001b[0m | \u001b[0m 0.9754  \u001b[0m | \u001b[0m 10.29   \u001b[0m | \u001b[0m 720.8   \u001b[0m |\n",
      "| \u001b[0m 10      \u001b[0m | \u001b[0m 0.5915  \u001b[0m | \u001b[0m 0.2958  \u001b[0m | \u001b[0m 10.0    \u001b[0m | \u001b[0m 750.9   \u001b[0m |\n",
      "| \u001b[0m 11      \u001b[0m | \u001b[0m 0.524   \u001b[0m | \u001b[0m 1.0     \u001b[0m | \u001b[0m 1.0     \u001b[0m | \u001b[0m 1.0     \u001b[0m |\n"
     ]
    },
    {
     "ename": "KeyboardInterrupt",
     "evalue": "",
     "output_type": "error",
     "traceback": [
      "\u001b[0;31m---------------------------------------------------------------------------\u001b[0m",
      "\u001b[0;31mKeyError\u001b[0m                                  Traceback (most recent call last)",
      "\u001b[0;32m~/anaconda3/envs/kaggle/lib/python3.7/site-packages/bayes_opt/target_space.py\u001b[0m in \u001b[0;36mprobe\u001b[0;34m(self, params)\u001b[0m\n\u001b[1;32m    190\u001b[0m         \u001b[0;32mtry\u001b[0m\u001b[0;34m:\u001b[0m\u001b[0;34m\u001b[0m\u001b[0;34m\u001b[0m\u001b[0m\n\u001b[0;32m--> 191\u001b[0;31m             \u001b[0mtarget\u001b[0m \u001b[0;34m=\u001b[0m \u001b[0mself\u001b[0m\u001b[0;34m.\u001b[0m\u001b[0m_cache\u001b[0m\u001b[0;34m[\u001b[0m\u001b[0m_hashable\u001b[0m\u001b[0;34m(\u001b[0m\u001b[0mx\u001b[0m\u001b[0;34m)\u001b[0m\u001b[0;34m]\u001b[0m\u001b[0;34m\u001b[0m\u001b[0;34m\u001b[0m\u001b[0m\n\u001b[0m\u001b[1;32m    192\u001b[0m         \u001b[0;32mexcept\u001b[0m \u001b[0mKeyError\u001b[0m\u001b[0;34m:\u001b[0m\u001b[0;34m\u001b[0m\u001b[0;34m\u001b[0m\u001b[0m\n",
      "\u001b[0;31mKeyError\u001b[0m: (0.0010000013861140354, 16.0, 1000.0)",
      "\nDuring handling of the above exception, another exception occurred:\n",
      "\u001b[0;31mKeyboardInterrupt\u001b[0m                         Traceback (most recent call last)",
      "\u001b[0;32m<timed exec>\u001b[0m in \u001b[0;36m<module>\u001b[0;34m\u001b[0m\n",
      "\u001b[0;32m~/anaconda3/envs/kaggle/lib/python3.7/site-packages/bayes_opt/bayesian_optimization.py\u001b[0m in \u001b[0;36mmaximize\u001b[0;34m(self, init_points, n_iter, acq, kappa, xi, **gp_params)\u001b[0m\n\u001b[1;32m    172\u001b[0m                 \u001b[0miteration\u001b[0m \u001b[0;34m+=\u001b[0m \u001b[0;36m1\u001b[0m\u001b[0;34m\u001b[0m\u001b[0;34m\u001b[0m\u001b[0m\n\u001b[1;32m    173\u001b[0m \u001b[0;34m\u001b[0m\u001b[0m\n\u001b[0;32m--> 174\u001b[0;31m             \u001b[0mself\u001b[0m\u001b[0;34m.\u001b[0m\u001b[0mprobe\u001b[0m\u001b[0;34m(\u001b[0m\u001b[0mx_probe\u001b[0m\u001b[0;34m,\u001b[0m \u001b[0mlazy\u001b[0m\u001b[0;34m=\u001b[0m\u001b[0;32mFalse\u001b[0m\u001b[0;34m)\u001b[0m\u001b[0;34m\u001b[0m\u001b[0;34m\u001b[0m\u001b[0m\n\u001b[0m\u001b[1;32m    175\u001b[0m \u001b[0;34m\u001b[0m\u001b[0m\n\u001b[1;32m    176\u001b[0m         \u001b[0mself\u001b[0m\u001b[0;34m.\u001b[0m\u001b[0mdispatch\u001b[0m\u001b[0;34m(\u001b[0m\u001b[0mEvents\u001b[0m\u001b[0;34m.\u001b[0m\u001b[0mOPTMIZATION_END\u001b[0m\u001b[0;34m)\u001b[0m\u001b[0;34m\u001b[0m\u001b[0;34m\u001b[0m\u001b[0m\n",
      "\u001b[0;32m~/anaconda3/envs/kaggle/lib/python3.7/site-packages/bayes_opt/bayesian_optimization.py\u001b[0m in \u001b[0;36mprobe\u001b[0;34m(self, params, lazy)\u001b[0m\n\u001b[1;32m    110\u001b[0m             \u001b[0mself\u001b[0m\u001b[0;34m.\u001b[0m\u001b[0m_queue\u001b[0m\u001b[0;34m.\u001b[0m\u001b[0madd\u001b[0m\u001b[0;34m(\u001b[0m\u001b[0mparams\u001b[0m\u001b[0;34m)\u001b[0m\u001b[0;34m\u001b[0m\u001b[0;34m\u001b[0m\u001b[0m\n\u001b[1;32m    111\u001b[0m         \u001b[0;32melse\u001b[0m\u001b[0;34m:\u001b[0m\u001b[0;34m\u001b[0m\u001b[0;34m\u001b[0m\u001b[0m\n\u001b[0;32m--> 112\u001b[0;31m             \u001b[0mself\u001b[0m\u001b[0;34m.\u001b[0m\u001b[0m_space\u001b[0m\u001b[0;34m.\u001b[0m\u001b[0mprobe\u001b[0m\u001b[0;34m(\u001b[0m\u001b[0mparams\u001b[0m\u001b[0;34m)\u001b[0m\u001b[0;34m\u001b[0m\u001b[0;34m\u001b[0m\u001b[0m\n\u001b[0m\u001b[1;32m    113\u001b[0m             \u001b[0mself\u001b[0m\u001b[0;34m.\u001b[0m\u001b[0mdispatch\u001b[0m\u001b[0;34m(\u001b[0m\u001b[0mEvents\u001b[0m\u001b[0;34m.\u001b[0m\u001b[0mOPTMIZATION_STEP\u001b[0m\u001b[0;34m)\u001b[0m\u001b[0;34m\u001b[0m\u001b[0;34m\u001b[0m\u001b[0m\n\u001b[1;32m    114\u001b[0m \u001b[0;34m\u001b[0m\u001b[0m\n",
      "\u001b[0;32m~/anaconda3/envs/kaggle/lib/python3.7/site-packages/bayes_opt/target_space.py\u001b[0m in \u001b[0;36mprobe\u001b[0;34m(self, params)\u001b[0m\n\u001b[1;32m    192\u001b[0m         \u001b[0;32mexcept\u001b[0m \u001b[0mKeyError\u001b[0m\u001b[0;34m:\u001b[0m\u001b[0;34m\u001b[0m\u001b[0;34m\u001b[0m\u001b[0m\n\u001b[1;32m    193\u001b[0m             \u001b[0mparams\u001b[0m \u001b[0;34m=\u001b[0m \u001b[0mdict\u001b[0m\u001b[0;34m(\u001b[0m\u001b[0mzip\u001b[0m\u001b[0;34m(\u001b[0m\u001b[0mself\u001b[0m\u001b[0;34m.\u001b[0m\u001b[0m_keys\u001b[0m\u001b[0;34m,\u001b[0m \u001b[0mx\u001b[0m\u001b[0;34m)\u001b[0m\u001b[0;34m)\u001b[0m\u001b[0;34m\u001b[0m\u001b[0;34m\u001b[0m\u001b[0m\n\u001b[0;32m--> 194\u001b[0;31m             \u001b[0mtarget\u001b[0m \u001b[0;34m=\u001b[0m \u001b[0mself\u001b[0m\u001b[0;34m.\u001b[0m\u001b[0mtarget_func\u001b[0m\u001b[0;34m(\u001b[0m\u001b[0;34m**\u001b[0m\u001b[0mparams\u001b[0m\u001b[0;34m)\u001b[0m\u001b[0;34m\u001b[0m\u001b[0;34m\u001b[0m\u001b[0m\n\u001b[0m\u001b[1;32m    195\u001b[0m             \u001b[0mself\u001b[0m\u001b[0;34m.\u001b[0m\u001b[0mregister\u001b[0m\u001b[0;34m(\u001b[0m\u001b[0mx\u001b[0m\u001b[0;34m,\u001b[0m \u001b[0mtarget\u001b[0m\u001b[0;34m)\u001b[0m\u001b[0;34m\u001b[0m\u001b[0;34m\u001b[0m\u001b[0m\n\u001b[1;32m    196\u001b[0m         \u001b[0;32mreturn\u001b[0m \u001b[0mtarget\u001b[0m\u001b[0;34m\u001b[0m\u001b[0;34m\u001b[0m\u001b[0m\n",
      "\u001b[0;32m<ipython-input-146-5fe57664f9ef>\u001b[0m in \u001b[0;36mcatboost_bayesian\u001b[0;34m(max_depth, n_estimators, lr)\u001b[0m\n\u001b[1;32m     11\u001b[0m                                \u001b[0mlearning_rate\u001b[0m\u001b[0;34m=\u001b[0m\u001b[0mlr\u001b[0m\u001b[0;34m,\u001b[0m \u001b[0mobjective\u001b[0m\u001b[0;34m=\u001b[0m\u001b[0;34m'CrossEntropy'\u001b[0m\u001b[0;34m,\u001b[0m \u001b[0meval_metric\u001b[0m\u001b[0;34m=\u001b[0m\u001b[0;34m'AUC'\u001b[0m\u001b[0;34m,\u001b[0m\u001b[0;34m\u001b[0m\u001b[0;34m\u001b[0m\u001b[0m\n\u001b[1;32m     12\u001b[0m                                task_type='GPU', verbose=0, thread_count=16)\n\u001b[0;32m---> 13\u001b[0;31m     \u001b[0mmodel\u001b[0m\u001b[0;34m.\u001b[0m\u001b[0mfit\u001b[0m\u001b[0;34m(\u001b[0m\u001b[0mX_train\u001b[0m\u001b[0;34m,\u001b[0m \u001b[0my_train\u001b[0m\u001b[0;34m)\u001b[0m\u001b[0;34m\u001b[0m\u001b[0;34m\u001b[0m\u001b[0m\n\u001b[0m\u001b[1;32m     14\u001b[0m \u001b[0;34m\u001b[0m\u001b[0m\n\u001b[1;32m     15\u001b[0m     \u001b[0;32mreturn\u001b[0m \u001b[0mroc_auc_score\u001b[0m\u001b[0;34m(\u001b[0m\u001b[0my_test\u001b[0m\u001b[0;34m,\u001b[0m \u001b[0mmodel\u001b[0m\u001b[0;34m.\u001b[0m\u001b[0mpredict_proba\u001b[0m\u001b[0;34m(\u001b[0m\u001b[0mX_test\u001b[0m\u001b[0;34m)\u001b[0m\u001b[0;34m[\u001b[0m\u001b[0;34m:\u001b[0m\u001b[0;34m,\u001b[0m \u001b[0;36m1\u001b[0m\u001b[0;34m]\u001b[0m\u001b[0;34m)\u001b[0m\u001b[0;34m\u001b[0m\u001b[0;34m\u001b[0m\u001b[0m\n",
      "\u001b[0;32m~/anaconda3/envs/kaggle/lib/python3.7/site-packages/catboost/core.py\u001b[0m in \u001b[0;36mfit\u001b[0;34m(self, X, y, cat_features, sample_weight, baseline, use_best_model, eval_set, verbose, logging_level, plot, column_description, verbose_eval, metric_period, silent, early_stopping_rounds, save_snapshot, snapshot_file, snapshot_interval, init_model)\u001b[0m\n\u001b[1;32m   3606\u001b[0m         self._fit(X, y, cat_features, None, sample_weight, None, None, None, None, baseline, use_best_model,\n\u001b[1;32m   3607\u001b[0m                   \u001b[0meval_set\u001b[0m\u001b[0;34m,\u001b[0m \u001b[0mverbose\u001b[0m\u001b[0;34m,\u001b[0m \u001b[0mlogging_level\u001b[0m\u001b[0;34m,\u001b[0m \u001b[0mplot\u001b[0m\u001b[0;34m,\u001b[0m \u001b[0mcolumn_description\u001b[0m\u001b[0;34m,\u001b[0m \u001b[0mverbose_eval\u001b[0m\u001b[0;34m,\u001b[0m \u001b[0mmetric_period\u001b[0m\u001b[0;34m,\u001b[0m\u001b[0;34m\u001b[0m\u001b[0;34m\u001b[0m\u001b[0m\n\u001b[0;32m-> 3608\u001b[0;31m                   silent, early_stopping_rounds, save_snapshot, snapshot_file, snapshot_interval, init_model)\n\u001b[0m\u001b[1;32m   3609\u001b[0m         \u001b[0;32mreturn\u001b[0m \u001b[0mself\u001b[0m\u001b[0;34m\u001b[0m\u001b[0;34m\u001b[0m\u001b[0m\n\u001b[1;32m   3610\u001b[0m \u001b[0;34m\u001b[0m\u001b[0m\n",
      "\u001b[0;32m~/anaconda3/envs/kaggle/lib/python3.7/site-packages/catboost/core.py\u001b[0m in \u001b[0;36m_fit\u001b[0;34m(self, X, y, cat_features, pairs, sample_weight, group_id, group_weight, subgroup_id, pairs_weight, baseline, use_best_model, eval_set, verbose, logging_level, plot, column_description, verbose_eval, metric_period, silent, early_stopping_rounds, save_snapshot, snapshot_file, snapshot_interval, init_model)\u001b[0m\n\u001b[1;32m   1539\u001b[0m                 \u001b[0mparams\u001b[0m\u001b[0;34m,\u001b[0m\u001b[0;34m\u001b[0m\u001b[0;34m\u001b[0m\u001b[0m\n\u001b[1;32m   1540\u001b[0m                 \u001b[0mallow_clear_pool\u001b[0m\u001b[0;34m,\u001b[0m\u001b[0;34m\u001b[0m\u001b[0;34m\u001b[0m\u001b[0m\n\u001b[0;32m-> 1541\u001b[0;31m                 \u001b[0mtrain_params\u001b[0m\u001b[0;34m[\u001b[0m\u001b[0;34m\"init_model\"\u001b[0m\u001b[0;34m]\u001b[0m\u001b[0;34m\u001b[0m\u001b[0;34m\u001b[0m\u001b[0m\n\u001b[0m\u001b[1;32m   1542\u001b[0m             )\n\u001b[1;32m   1543\u001b[0m \u001b[0;34m\u001b[0m\u001b[0m\n",
      "\u001b[0;32m~/anaconda3/envs/kaggle/lib/python3.7/site-packages/catboost/core.py\u001b[0m in \u001b[0;36m_train\u001b[0;34m(self, train_pool, test_pool, params, allow_clear_pool, init_model)\u001b[0m\n\u001b[1;32m   1099\u001b[0m \u001b[0;34m\u001b[0m\u001b[0m\n\u001b[1;32m   1100\u001b[0m     \u001b[0;32mdef\u001b[0m \u001b[0m_train\u001b[0m\u001b[0;34m(\u001b[0m\u001b[0mself\u001b[0m\u001b[0;34m,\u001b[0m \u001b[0mtrain_pool\u001b[0m\u001b[0;34m,\u001b[0m \u001b[0mtest_pool\u001b[0m\u001b[0;34m,\u001b[0m \u001b[0mparams\u001b[0m\u001b[0;34m,\u001b[0m \u001b[0mallow_clear_pool\u001b[0m\u001b[0;34m,\u001b[0m \u001b[0minit_model\u001b[0m\u001b[0;34m)\u001b[0m\u001b[0;34m:\u001b[0m\u001b[0;34m\u001b[0m\u001b[0;34m\u001b[0m\u001b[0m\n\u001b[0;32m-> 1101\u001b[0;31m         \u001b[0mself\u001b[0m\u001b[0;34m.\u001b[0m\u001b[0m_object\u001b[0m\u001b[0;34m.\u001b[0m\u001b[0m_train\u001b[0m\u001b[0;34m(\u001b[0m\u001b[0mtrain_pool\u001b[0m\u001b[0;34m,\u001b[0m \u001b[0mtest_pool\u001b[0m\u001b[0;34m,\u001b[0m \u001b[0mparams\u001b[0m\u001b[0;34m,\u001b[0m \u001b[0mallow_clear_pool\u001b[0m\u001b[0;34m,\u001b[0m \u001b[0minit_model\u001b[0m\u001b[0;34m.\u001b[0m\u001b[0m_object\u001b[0m \u001b[0;32mif\u001b[0m \u001b[0minit_model\u001b[0m \u001b[0;32melse\u001b[0m \u001b[0;32mNone\u001b[0m\u001b[0;34m)\u001b[0m\u001b[0;34m\u001b[0m\u001b[0;34m\u001b[0m\u001b[0m\n\u001b[0m\u001b[1;32m   1102\u001b[0m         \u001b[0mself\u001b[0m\u001b[0;34m.\u001b[0m\u001b[0m_set_trained_model_attributes\u001b[0m\u001b[0;34m(\u001b[0m\u001b[0;34m)\u001b[0m\u001b[0;34m\u001b[0m\u001b[0;34m\u001b[0m\u001b[0m\n\u001b[1;32m   1103\u001b[0m \u001b[0;34m\u001b[0m\u001b[0m\n",
      "\u001b[0;32m_catboost.pyx\u001b[0m in \u001b[0;36m_catboost._CatBoost._train\u001b[0;34m()\u001b[0m\n",
      "\u001b[0;32m_catboost.pyx\u001b[0m in \u001b[0;36m_catboost._CatBoost._train\u001b[0;34m()\u001b[0m\n",
      "\u001b[0;31mKeyboardInterrupt\u001b[0m: "
     ]
    }
   ],
   "source": [
    "%%time\n",
    "import warnings\n",
    "\n",
    "\n",
    "with warnings.catch_warnings():\n",
    "    warnings.filterwarnings('ignore')\n",
    "    cat_BO.maximize(init_points=10, n_iter=10, acq='ucb')"
   ]
  },
  {
   "cell_type": "code",
   "execution_count": 149,
   "metadata": {},
   "outputs": [],
   "source": [
    "model = CatBoostClassifier(max_depth=int(cat_BO.max['params']['max_depth']),\n",
    "                           n_estimators=int(cat_BO.max['params']['n_estimators']),\n",
    "                           learning_rate=cat_BO.max['params']['lr'],\n",
    "                           objective='CrossEntropy', eval_metric='AUC',\n",
    "                               task_type='GPU', verbose=0, thread_count=16)"
   ]
  },
  {
   "cell_type": "code",
   "execution_count": 150,
   "metadata": {},
   "outputs": [
    {
     "data": {
      "text/plain": [
       "<catboost.core.CatBoostClassifier at 0x7efbc504e190>"
      ]
     },
     "execution_count": 150,
     "metadata": {},
     "output_type": "execute_result"
    }
   ],
   "source": [
    "model.fit(data_train, y)"
   ]
  },
  {
   "cell_type": "code",
   "execution_count": 151,
   "metadata": {},
   "outputs": [],
   "source": [
    "a = model.predict_proba(data_test)[:, 1] # вероятности за 1й класс"
   ]
  },
  {
   "cell_type": "code",
   "execution_count": 152,
   "metadata": {},
   "outputs": [],
   "source": [
    "pd.DataFrame(a,  columns=['proba'], index=ids.values).to_csv('dj1_01_.csv')"
   ]
  },
  {
   "cell_type": "code",
   "execution_count": null,
   "metadata": {},
   "outputs": [],
   "source": []
  },
  {
   "cell_type": "markdown",
   "metadata": {},
   "source": [
    "### Обучение и формирование ответа"
   ]
  },
  {
   "cell_type": "code",
   "execution_count": 16,
   "metadata": {},
   "outputs": [
    {
     "data": {
      "text/plain": [
       "LGBMClassifier(boosting_type='gbdt', class_weight=None, colsample_bytree=1.0,\n",
       "               importance_type='split', learning_rate=0.08, max_depth=-1,\n",
       "               min_child_samples=20, min_child_weight=0.001, min_split_gain=0.0,\n",
       "               n_estimators=700, n_jobs=-1, num_leaves=6, objective=None,\n",
       "               random_state=None, reg_alpha=0.0, reg_lambda=0.0, silent=True,\n",
       "               subsample=1.0, subsample_for_bin=200000, subsample_freq=0)"
      ]
     },
     "execution_count": 16,
     "metadata": {},
     "output_type": "execute_result"
    }
   ],
   "source": [
    "model.fit(data_train, y)"
   ]
  },
  {
   "cell_type": "code",
   "execution_count": 17,
   "metadata": {},
   "outputs": [],
   "source": [
    "a = model.predict_proba(data_test)[:, 1] # вероятности за 1й класс"
   ]
  },
  {
   "cell_type": "code",
   "execution_count": 18,
   "metadata": {},
   "outputs": [],
   "source": [
    "pd.DataFrame(a,  columns=['proba'], index=ids.values).to_csv('dj1_01_.csv')"
   ]
  },
  {
   "cell_type": "code",
   "execution_count": null,
   "metadata": {},
   "outputs": [],
   "source": []
  }
 ],
 "metadata": {
  "kernelspec": {
   "display_name": "Python 3",
   "language": "python",
   "name": "python3"
  },
  "language_info": {
   "codemirror_mode": {
    "name": "ipython",
    "version": 3
   },
   "file_extension": ".py",
   "mimetype": "text/x-python",
   "name": "python",
   "nbconvert_exporter": "python",
   "pygments_lexer": "ipython3",
   "version": "3.7.5"
  }
 },
 "nbformat": 4,
 "nbformat_minor": 2
}
